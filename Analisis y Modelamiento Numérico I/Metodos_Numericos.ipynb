{
  "nbformat": 4,
  "nbformat_minor": 0,
  "metadata": {
    "colab": {
      "provenance": [],
      "authorship_tag": "ABX9TyP6dsSKBZQe+qjJryc4HcRR",
      "include_colab_link": true
    },
    "kernelspec": {
      "name": "python3",
      "display_name": "Python 3"
    },
    "language_info": {
      "name": "python"
    }
  },
  "cells": [
    {
      "cell_type": "markdown",
      "metadata": {
        "id": "view-in-github",
        "colab_type": "text"
      },
      "source": [
        "<a href=\"https://colab.research.google.com/github/Gabuni19/GabUni--Codigos-cpp/blob/main/Analisis%20y%20Modelamiento%20Num%C3%A9rico%20I/Metodos_Numericos.ipynb\" target=\"_parent\"><img src=\"https://colab.research.google.com/assets/colab-badge.svg\" alt=\"Open In Colab\"/></a>"
      ]
    },
    {
      "cell_type": "markdown",
      "source": [
        "## Funcion Normalizar"
      ],
      "metadata": {
        "id": "H0zbECxpxV5D"
      }
    },
    {
      "cell_type": "code",
      "source": [
        "def normalizar(x):\n",
        "    \"\"\"Funcion que nomarliza un valor x ala forma : 0.[...]e[...]\n",
        "    \n",
        "        Parametros posicionales:\n",
        "        x -- numero a normalizar entero\n",
        "    \"\"\"\n",
        "    #Creamos un variable que indique si es positivo\n",
        "    positivo=1    \n",
        "    #Si x es un numero negativo pasarlo a positivo\n",
        "    if x<0:\n",
        "        x=abs(x)\n",
        "        positivo=-1;\n",
        "    \n",
        "    if x==0: \n",
        "        return (0,0);\n",
        "    elif (x>1):\n",
        "        t=len(str(int(x)))\n",
        "        x=x/10**t\n",
        "        return (positivo*x,10**t)\n",
        "    else:\n",
        "        t=len(str(x).split(\".\")[-1])        \n",
        "        aux=x*10**t        \n",
        "        m=len(str(int(aux)))\n",
        "        x=x*10**(t-m)\n",
        "        return (positivo*x,10**-(t-m))"
      ],
      "metadata": {
        "id": "3Ymqg3WAxfZ8"
      },
      "execution_count": null,
      "outputs": []
    },
    {
      "cell_type": "markdown",
      "source": [
        "Retorna una dupla : (numero de la forma 0.algo ,factor multiplo de 10)"
      ],
      "metadata": {
        "id": "h_DZgW8Mx7DF"
      }
    },
    {
      "cell_type": "code",
      "source": [
        "normalizar(12.45)"
      ],
      "metadata": {
        "colab": {
          "base_uri": "https://localhost:8080/"
        },
        "id": "VJL0npNhxrf2",
        "outputId": "8fc2d896-058a-4e1e-b706-78c188569421"
      },
      "execution_count": null,
      "outputs": [
        {
          "output_type": "execute_result",
          "data": {
            "text/plain": [
              "(0.1245, 100)"
            ]
          },
          "metadata": {},
          "execution_count": 3
        }
      ]
    },
    {
      "cell_type": "code",
      "source": [
        "normalizar(11111.45456)"
      ],
      "metadata": {
        "colab": {
          "base_uri": "https://localhost:8080/"
        },
        "id": "fPCc7cIEyFh7",
        "outputId": "f1854e4e-0bc4-40c5-93f4-c8803adeeae7"
      },
      "execution_count": null,
      "outputs": [
        {
          "output_type": "execute_result",
          "data": {
            "text/plain": [
              "(0.1111145456, 100000)"
            ]
          },
          "metadata": {},
          "execution_count": 4
        }
      ]
    },
    {
      "cell_type": "code",
      "source": [
        "normalizar(0.23333)"
      ],
      "metadata": {
        "colab": {
          "base_uri": "https://localhost:8080/"
        },
        "id": "7t0RmqZLyF0j",
        "outputId": "b9826d67-6a66-414d-9160-c71cdb3020f5"
      },
      "execution_count": null,
      "outputs": [
        {
          "output_type": "execute_result",
          "data": {
            "text/plain": [
              "(0.23333, 1)"
            ]
          },
          "metadata": {},
          "execution_count": 5
        }
      ]
    },
    {
      "cell_type": "markdown",
      "source": [
        "## Funcion Flotante (Usa Normalizar)"
      ],
      "metadata": {
        "id": "zfW97fQtyMt9"
      }
    },
    {
      "cell_type": "code",
      "source": [
        "def normalizar(x):\n",
        "    \"\"\"Funcion que nomarliza un valor x ala forma : 0.[...]e[...]\n",
        "    \n",
        "        Parametros posicionales:\n",
        "        x -- numero a normalizar\n",
        "    \"\"\"\n",
        "    #Creamos un variable que indique si es positivo\n",
        "    positivo=1    \n",
        "    #Si x es un numero negativo pasarlo a positivo\n",
        "    if x<0:\n",
        "        x=abs(x)\n",
        "        positivo=-1;\n",
        "    \n",
        "    if x==0: \n",
        "        return (0,0);\n",
        "    elif (x>1):\n",
        "        t=len(str(int(x)))\n",
        "        x=x/10**t\n",
        "        return (positivo*x,10**t)\n",
        "    else:\n",
        "        t=len(str(x).split(\".\")[-1])        \n",
        "        aux=x*10**t        \n",
        "        m=len(str(int(aux)))\n",
        "        x=x*10**(t-m)\n",
        "        return (positivo*x,10**-(t-m))\n",
        "      \n",
        "def fl(x,decimales):\n",
        "    \"\"\"Funcion que calcula el fl(x) de un numero x\n",
        "    \n",
        "        Parametros posicionales:\n",
        "        x -- numero real\n",
        "        decimales -- decimales a redondear\n",
        "    \"\"\"\n",
        "    (d,potencia)=normalizar(x)\n",
        "    d = round(d,decimales)\n",
        "    return (d,potencia)"
      ],
      "metadata": {
        "id": "Fx_yOpjOyTI7"
      },
      "execution_count": null,
      "outputs": []
    },
    {
      "cell_type": "markdown",
      "source": [
        "Retorna una dupla :(decimal normalizado y redondeado,potencia de 10)"
      ],
      "metadata": {
        "id": "tPe82AB0yl6U"
      }
    },
    {
      "cell_type": "code",
      "source": [
        "fl(0.5744531,2)"
      ],
      "metadata": {
        "colab": {
          "base_uri": "https://localhost:8080/"
        },
        "id": "hZCT339gyvS-",
        "outputId": "1ae75709-5fa8-4a87-dbfd-a12c2cd5e573"
      },
      "execution_count": null,
      "outputs": [
        {
          "output_type": "execute_result",
          "data": {
            "text/plain": [
              "(0.57, 1)"
            ]
          },
          "metadata": {},
          "execution_count": 9
        }
      ]
    },
    {
      "cell_type": "code",
      "source": [
        "fl(24.5744531,5)"
      ],
      "metadata": {
        "colab": {
          "base_uri": "https://localhost:8080/"
        },
        "id": "T63cR77CyUqG",
        "outputId": "86d73548-f16f-4e65-9fb9-cad4180b3392"
      },
      "execution_count": null,
      "outputs": [
        {
          "output_type": "execute_result",
          "data": {
            "text/plain": [
              "(0.24574, 100)"
            ]
          },
          "metadata": {},
          "execution_count": 8
        }
      ]
    },
    {
      "cell_type": "markdown",
      "source": [
        "## Binario a Decimal (Descomposicion polinomica)"
      ],
      "metadata": {
        "id": "k9RZL4P7y6xF"
      }
    },
    {
      "cell_type": "code",
      "source": [
        "def Binario_Decimal(numero):\n",
        "    \"\"\"Funcion que transforma un numero binario a decimal\n",
        "    \n",
        "        Parametros posicionales:\n",
        "        numero -- numero en tipo string    \n",
        "    \"\"\"\n",
        "    d=0\n",
        "    if \".\" in numero :\n",
        "        (entero,decimal)= numero.split(\".\")\n",
        "        n = len(entero)        \n",
        "        for i in range(n):\n",
        "            d+=int(entero[i])*(2**(n-i-1))\n",
        "        m = len(decimal)\n",
        "        for i in range(m):\n",
        "            d+=int(decimal[i])*(2**-(i+1))\n",
        "        return d                \n",
        "    else:        \n",
        "        n = len(numero)        \n",
        "        for i in range(n):\n",
        "            d+=int(numero[i])*(2**(n-i-1))\n",
        "        return d "
      ],
      "metadata": {
        "id": "XUBQuDlRy7T5"
      },
      "execution_count": null,
      "outputs": []
    },
    {
      "cell_type": "code",
      "source": [
        "Binario_Decimal(\"1.011\")"
      ],
      "metadata": {
        "colab": {
          "base_uri": "https://localhost:8080/"
        },
        "id": "0z455utpzGlr",
        "outputId": "6dedcff2-7b7b-4548-f234-295756fdb86a"
      },
      "execution_count": null,
      "outputs": [
        {
          "output_type": "execute_result",
          "data": {
            "text/plain": [
              "1.375"
            ]
          },
          "metadata": {},
          "execution_count": 14
        }
      ]
    },
    {
      "cell_type": "code",
      "source": [
        "Binario_Decimal(\"0.1\")"
      ],
      "metadata": {
        "colab": {
          "base_uri": "https://localhost:8080/"
        },
        "id": "tBJsHTUPzTLg",
        "outputId": "8ac84742-871f-429d-fd75-2da6bb17dde4"
      },
      "execution_count": null,
      "outputs": [
        {
          "output_type": "execute_result",
          "data": {
            "text/plain": [
              "0.5"
            ]
          },
          "metadata": {},
          "execution_count": 15
        }
      ]
    },
    {
      "cell_type": "markdown",
      "source": [
        "## Rango  de Complemento a 2"
      ],
      "metadata": {
        "id": "Wg-30HOrzbeA"
      }
    },
    {
      "cell_type": "code",
      "source": [
        "from tabulate import tabulate\n",
        "\n",
        "def Rango_Representacion(n): \n",
        "    header =[\"n\",\"Positivos\",\"Negativos\"]\n",
        "    datos=[]\n",
        "    columna=[]\n",
        "    for n in range(4,n):\n",
        "        columna.append(n)\n",
        "        datos.append([n,[0,2**(n-1)-1],[-1,-(2**(n-1))]])\n",
        "    print(tabulate(datos, header))"
      ],
      "metadata": {
        "id": "4uEyxLNlzbnB"
      },
      "execution_count": null,
      "outputs": []
    },
    {
      "cell_type": "markdown",
      "source": [
        "Retorna una tabla de los numeros que se pueden representar segun la longitud de palabra con la que se esta trabajando (n)"
      ],
      "metadata": {
        "id": "8_Q1K4u5zfZQ"
      }
    },
    {
      "cell_type": "code",
      "source": [
        "Rango_Representacion(15)"
      ],
      "metadata": {
        "colab": {
          "base_uri": "https://localhost:8080/"
        },
        "id": "aLtXwhgJzgUx",
        "outputId": "3a3b3d2e-3dbe-4399-d664-c521d2fb4115"
      },
      "execution_count": null,
      "outputs": [
        {
          "output_type": "stream",
          "name": "stdout",
          "text": [
            "  n  Positivos    Negativos\n",
            "---  -----------  -----------\n",
            "  4  [0, 7]       [-1, -8]\n",
            "  5  [0, 15]      [-1, -16]\n",
            "  6  [0, 31]      [-1, -32]\n",
            "  7  [0, 63]      [-1, -64]\n",
            "  8  [0, 127]     [-1, -128]\n",
            "  9  [0, 255]     [-1, -256]\n",
            " 10  [0, 511]     [-1, -512]\n",
            " 11  [0, 1023]    [-1, -1024]\n",
            " 12  [0, 2047]    [-1, -2048]\n",
            " 13  [0, 4095]    [-1, -4096]\n",
            " 14  [0, 8191]    [-1, -8192]\n"
          ]
        }
      ]
    },
    {
      "cell_type": "markdown",
      "source": [
        "## Numero a Complemento a 2"
      ],
      "metadata": {
        "id": "hBScddiAzzbW"
      }
    },
    {
      "cell_type": "code",
      "source": [
        "def To_complemento2(numero , bits ):\n",
        "    \"\"\"Funcion que pasa un numero entero a su complemento a 2 en\n",
        "       en binario a partir de una longitud de palabra (bits).\n",
        "       \n",
        "       Parametros Posicionales:\n",
        "       numero -- entero que se desea pasar a complemento a 2 (int)\n",
        "       bits -- longitud de palabra con la que se trabaja\n",
        "    \n",
        "    \"\"\"\n",
        "    if(numero >= 0):\n",
        "        if(numero<=2**(bits-1)-1):            \n",
        "            b = bin(numero)[2:]     # Almacena el binario de \"numero\" en b        \n",
        "            b = b.rjust(bits,\"0\")   # completa los bits con cero\n",
        "            return b\n",
        "        else:\n",
        "            print(\"No se puede representar {}>{}.\".format(numero,2**(bits-1)-1))\n",
        "            return -1\n",
        "    else:\n",
        "        \n",
        "        aux = abs(numero)\n",
        "        if(aux<=(2**(bits-1))):            \n",
        "            c2 = 2**bits - aux\n",
        "            c2 = bin(c2)[2:]              \n",
        "            return c2\n",
        "        else:\n",
        "            print(\"No se puede representar {}>{}.\".format(aux,2**(bits-1)))\n",
        "            return -1"
      ],
      "metadata": {
        "id": "_PoVmGB5zzk1"
      },
      "execution_count": null,
      "outputs": []
    },
    {
      "cell_type": "code",
      "source": [
        "To_complemento2(34,8)"
      ],
      "metadata": {
        "colab": {
          "base_uri": "https://localhost:8080/",
          "height": 35
        },
        "id": "zdEIngVi0FWe",
        "outputId": "f0e056f1-01c6-479b-bb21-023dfb29453f"
      },
      "execution_count": null,
      "outputs": [
        {
          "output_type": "execute_result",
          "data": {
            "text/plain": [
              "'00100010'"
            ],
            "application/vnd.google.colaboratory.intrinsic+json": {
              "type": "string"
            }
          },
          "metadata": {},
          "execution_count": 24
        }
      ]
    },
    {
      "cell_type": "markdown",
      "source": [
        "## Eliminacion Gauseana"
      ],
      "metadata": {
        "id": "eYaLG4TSnl91"
      }
    },
    {
      "cell_type": "code",
      "source": [
        "import numpy as np\n",
        "from tabulate import tabulate\n",
        "\n",
        "def ElementalC_Fij(n, i, j):\n",
        "    E = np.eye(n)\n",
        "    E[i,i], E[j,j] = 0, 0\n",
        "    E[i,j], E[j,i] = 1, 1\n",
        "    return E\n",
        "\n",
        "def Elemental_Fi(n, i, k):\n",
        "    E = np.eye(n)\n",
        "    E[i,i] = k\n",
        "    return E\n",
        "\n",
        "def Elemental_Fij(n, i, j, k):\n",
        "    E = np.eye(n)\n",
        "    E[i,j] = k\n",
        "    return E \n",
        "\n",
        "def findCero(A,i,j):\n",
        "    p = -1\n",
        "    for f in range(i,j):\n",
        "        if (A[f][i-1]!=0):\n",
        "            p = f\n",
        "            break\n",
        "    return p\n",
        "\n",
        "def SustRegresiva(U,b):\n",
        "    # Verificar si es triangular superior y cuadrado\n",
        "    m,n = U.shape\n",
        "    if m!=n:\n",
        "        print(\"Proceso de Sustitucion Regresiva ERROR-[ Matriz no cuadrada ] \")\n",
        "        return\n",
        "    if np.array_equal(A, np.triu(A)):\n",
        "        print(\"Proceso de Sustitucion Regresiva ERROR-[ Matriz no triangular superior ] \")\n",
        "        return\n",
        "    x = np.zeros(m)\n",
        "    for i in range(m-1,-1,-1):\n",
        "        suma = 0\n",
        "        for j in range(i+1,n):\n",
        "            suma += U[i][j]*x[j]\n",
        "        x[i] = (b[i] - suma) / U[i][i]\n",
        "    return x\n",
        "\n",
        "def EliminacionGaussiana(A,b):\n",
        "    m,n = A.shape\n",
        "    M = np.concatenate((A,b), axis = 1 )\n",
        "    E = [[A,b,M]]\n",
        "    print(tabulate(E,headers=[[\"MATRIZ A\"],[\"MATRIZ b\"],[\"MATRIZ AUMENTADA\"]],tablefmt='grid'))\n",
        "\n",
        "    print(\"\\t[+] ELIMINACION GAUSSEANA\\n\")       \n",
        "    for i in range(m-1):\n",
        "        pivote = M[i][i]\n",
        "        print(\"Paso 1 : Hallando el pivote !=0\")\n",
        "        print(\"\\t [+]Pivote   : {}\".format(pivote))\n",
        "        print(\"\\t [+]Posicion : ({},{})\".format(i,i))\n",
        "        if pivote == 0:\n",
        "            print(\"\\t[-] Cambio de filas.\")\n",
        "            p = findCero(M,i+1,n) # Fila del nuevo pivote !=0\n",
        "            if p == -1:\n",
        "                print(\"No se encontro pivote Nulo.\")\n",
        "                return\n",
        "            else:\n",
        "                print(\"\\t [+] Nuevo pivote: {}\".format(M[p][i]))\n",
        "                print(\"\\t [+] Posicion : ({},{})\".format(p,i))\n",
        "                Fip = ElementalC_Fij(m,i,p)\n",
        "                M_aux=M\n",
        "                M = np.dot(Fip,M)\n",
        "                pivote = M[i][i]\n",
        "                h = [\"Fip\",\"M\",\"Fip x M\"]\n",
        "                E = [[Fip,M_aux,M]]\n",
        "                print(tabulate(E,headers=h,tablefmt='grid'))\n",
        "                \n",
        "        # Si no es diferente de cero Hacemos cero la columna\n",
        "        print(\"Paso 2 : Las matrices elementales\")\n",
        "        header = [\"Matriz Aumentada\"]\n",
        "        c=1\n",
        "        E = [[M]]\n",
        "        for j in range(i+1,m):\n",
        "            factor = M[j][i]/pivote\n",
        "            Fji = Elemental_Fij(m,j,i,-factor)            \n",
        "            E[0].insert(0,np.copy(Fji))\n",
        "            header.insert(0,\"E\"+str(c)+\": F_{}{}({})\".format(j,i,-factor))\n",
        "            c+=1\n",
        "            M = np.dot(Fji,M)\n",
        "            \n",
        "        print(tabulate(E,headers=header,tablefmt='grid'))\n",
        "        print(\"Paso 3 : Haciendo (0) la columna C[{}]\".format(i))\n",
        "        print(M,\"\\n\\n\")\n",
        "        \n",
        "            \n",
        "    U = M[:,:-1]\n",
        "    b = M[:,-1:]\n",
        "    x = SustRegresiva(U,b)\n",
        "    h = [\"U\",\"b\",\"Conjunto Solucion\"]\n",
        "    E = [[U,b,x.reshape(m,1)]]\n",
        "    print(\"\\t -> Por Sustitucion Regresiva\")\n",
        "    print(tabulate(E,headers=h,tablefmt='grid'))\n"
      ],
      "metadata": {
        "id": "z9Cjh-s81mHO"
      },
      "execution_count": null,
      "outputs": []
    },
    {
      "cell_type": "code",
      "source": [
        "import numpy as np\n",
        "A = np.array([\n",
        "            [-1,3,-1,1],\n",
        "            [1,-1,2,-1],\n",
        "            [3,1,-2,2],\n",
        "            [3,-1,1,2]\n",
        "])\n",
        "b = np.array([ \n",
        "                [-8],\n",
        "                [4],\n",
        "                [4],\n",
        "                [16]\n",
        "])\n",
        "EliminacionGaussiana(A,b)"
      ],
      "metadata": {
        "colab": {
          "base_uri": "https://localhost:8080/"
        },
        "id": "3Is6bAUAntbe",
        "outputId": "bfa079d2-b9bb-4c70-d134-8b8f36e5290b"
      },
      "execution_count": null,
      "outputs": [
        {
          "output_type": "stream",
          "name": "stdout",
          "text": [
            "+-----------------+----------------+------------------------+\n",
            "| ['MATRIZ A']    | ['MATRIZ b']   | ['MATRIZ AUMENTADA']   |\n",
            "+=================+================+========================+\n",
            "| [[-1  3 -1  1]  | [[-8]          | [[-1  3 -1  1 -8]      |\n",
            "|  [ 1 -1  2 -1]  |  [ 4]          |  [ 1 -1  2 -1  4]      |\n",
            "|  [ 3  1 -2  2]  |  [ 4]          |  [ 3  1 -2  2  4]      |\n",
            "|  [ 3 -1  1  2]] |  [16]]         |  [ 3 -1  1  2 16]]     |\n",
            "+-----------------+----------------+------------------------+\n",
            "\t[+] ELIMINACION GAUSSEANA\n",
            "\n",
            "Paso 1 : Hallando el pivote !=0\n",
            "\t [+]Pivote   : -1\n",
            "\t [+]Posicion : (0,0)\n",
            "Paso 2 : Las matrices elementales\n",
            "+-----------------+-----------------+-----------------+--------------------+\n",
            "| E3: F_30(3.0)   | E2: F_20(3.0)   | E1: F_10(1.0)   | Matriz Aumentada   |\n",
            "+=================+=================+=================+====================+\n",
            "| [[1. 0. 0. 0.]  | [[1. 0. 0. 0.]  | [[1. 0. 0. 0.]  | [[-1  3 -1  1 -8]  |\n",
            "|  [0. 1. 0. 0.]  |  [0. 1. 0. 0.]  |  [1. 1. 0. 0.]  |  [ 1 -1  2 -1  4]  |\n",
            "|  [0. 0. 1. 0.]  |  [3. 0. 1. 0.]  |  [0. 0. 1. 0.]  |  [ 3  1 -2  2  4]  |\n",
            "|  [3. 0. 0. 1.]] |  [0. 0. 0. 1.]] |  [0. 0. 0. 1.]] |  [ 3 -1  1  2 16]] |\n",
            "+-----------------+-----------------+-----------------+--------------------+\n",
            "Paso 3 : Haciendo (0) la columna C[0]\n",
            "[[ -1.   3.  -1.   1.  -8.]\n",
            " [  0.   2.   1.   0.  -4.]\n",
            " [  0.  10.  -5.   5. -20.]\n",
            " [  0.   8.  -2.   5.  -8.]] \n",
            "\n",
            "\n",
            "Paso 1 : Hallando el pivote !=0\n",
            "\t [+]Pivote   : 2.0\n",
            "\t [+]Posicion : (1,1)\n",
            "Paso 2 : Las matrices elementales\n",
            "+---------------------+---------------------+------------------------------+\n",
            "| E2: F_31(-4.0)      | E1: F_21(-5.0)      | Matriz Aumentada             |\n",
            "+=====================+=====================+==============================+\n",
            "| [[ 1.  0.  0.  0.]  | [[ 1.  0.  0.  0.]  | [[ -1.   3.  -1.   1.  -8.]  |\n",
            "|  [ 0.  1.  0.  0.]  |  [ 0.  1.  0.  0.]  |  [  0.   2.   1.   0.  -4.]  |\n",
            "|  [ 0.  0.  1.  0.]  |  [ 0. -5.  1.  0.]  |  [  0.  10.  -5.   5. -20.]  |\n",
            "|  [ 0. -4.  0.  1.]] |  [ 0.  0.  0.  1.]] |  [  0.   8.  -2.   5.  -8.]] |\n",
            "+---------------------+---------------------+------------------------------+\n",
            "Paso 3 : Haciendo (0) la columna C[1]\n",
            "[[ -1.   3.  -1.   1.  -8.]\n",
            " [  0.   2.   1.   0.  -4.]\n",
            " [  0.   0. -10.   5.   0.]\n",
            " [  0.   0.  -6.   5.   8.]] \n",
            "\n",
            "\n",
            "Paso 1 : Hallando el pivote !=0\n",
            "\t [+]Pivote   : -10.0\n",
            "\t [+]Posicion : (2,2)\n",
            "Paso 2 : Las matrices elementales\n",
            "+-------------------------+------------------------------+\n",
            "| E1: F_32(-0.6)          | Matriz Aumentada             |\n",
            "+=========================+==============================+\n",
            "| [[ 1.   0.   0.   0. ]  | [[ -1.   3.  -1.   1.  -8.]  |\n",
            "|  [ 0.   1.   0.   0. ]  |  [  0.   2.   1.   0.  -4.]  |\n",
            "|  [ 0.   0.   1.   0. ]  |  [  0.   0. -10.   5.   0.]  |\n",
            "|  [ 0.   0.  -0.6  1. ]] |  [  0.   0.  -6.   5.   8.]] |\n",
            "+-------------------------+------------------------------+\n",
            "Paso 3 : Haciendo (0) la columna C[2]\n",
            "[[ -1.   3.  -1.   1.  -8.]\n",
            " [  0.   2.   1.   0.  -4.]\n",
            " [  0.   0. -10.   5.   0.]\n",
            " [  0.   0.   0.   2.   8.]] \n",
            "\n",
            "\n",
            "\t -> Por Sustitucion Regresiva\n",
            "+-------------------------+---------+---------------------+\n",
            "| U                       | b       | Conjunto Solucion   |\n",
            "+=========================+=========+=====================+\n",
            "| [[ -1.   3.  -1.   1.]  | [[-8.]  | [[ 1.]              |\n",
            "|  [  0.   2.   1.   0.]  |  [-4.]  |  [-3.]              |\n",
            "|  [  0.   0. -10.   5.]  |  [ 0.]  |  [ 2.]              |\n",
            "|  [  0.   0.   0.   2.]] |  [ 8.]] |  [ 4.]]             |\n",
            "+-------------------------+---------+---------------------+\n"
          ]
        }
      ]
    },
    {
      "cell_type": "markdown",
      "source": [
        "Metodo de Gaus Jordan"
      ],
      "metadata": {
        "id": "ccLJY7Hkn1uj"
      }
    },
    {
      "cell_type": "code",
      "source": [
        "import numpy as np\n",
        "from tabulate import tabulate\n",
        "\n",
        "def ElementalC_Fij(n, i, j):\n",
        "    E = np.eye(n)\n",
        "    E[i,i], E[j,j] = 0, 0\n",
        "    E[i,j], E[j,i] = 1, 1\n",
        "    return E\n",
        "\n",
        "def Elemental_Fi(n, i, k):\n",
        "    E = np.eye(n)\n",
        "    E[i,i] = k\n",
        "    return E\n",
        "\n",
        "def Elemental_Fij(n, i, j, k):\n",
        "    E = np.eye(n)\n",
        "    E[i,j] = k\n",
        "    return E \n",
        "\n",
        "def findCero(A,i,j):\n",
        "    p = -1\n",
        "    for f in range(i,j):\n",
        "        if (A[f][i-1]!=0):\n",
        "            p = f\n",
        "            break\n",
        "    return p\n",
        "\n",
        "def SustRegresiva(U,b):\n",
        "    # Verificar si es triangular superior y cuadrado\n",
        "    m,n = U.shape\n",
        "    if m!=n:\n",
        "        print(\"Proceso de Sustitucion Regresiva ERROR-[ Matriz no cuadrada ] \")\n",
        "        return\n",
        "    if np.array_equal(A, np.triu(A)):\n",
        "        print(\"Proceso de Sustitucion Regresiva ERROR-[ Matriz no triangular superior ] \")\n",
        "        return\n",
        "    x = np.zeros(m)\n",
        "    for i in range(m-1,-1,-1):\n",
        "        suma = 0\n",
        "        for j in range(i+1,n):\n",
        "            suma += U[i][j]*x[j]\n",
        "        x[i] = (b[i] - suma) / U[i][i]\n",
        "    return x\n",
        "\n",
        "def EliminacionGaussJordan(A,b):\n",
        "    m,n = A.shape\n",
        "    M = np.concatenate((A,b), axis = 1 )\n",
        "    E = [[A,b,M]]\n",
        "    print(tabulate(E,headers=[[\"MATRIZ A\"],[\"MATRIZ b\"],[\"MATRIZ AUMENTADA\"]],tablefmt='grid'))\n",
        "\n",
        "    print(\"\\t[+] ELIMINACION POR GAUSS JORDAN\\n\")       \n",
        "    for i in range(m):        \n",
        "        pivote = M[i][i]\n",
        "        print(\"Paso 1 : Hallando el pivote !=0\")\n",
        "        print(\"\\t [+]Pivote   : {}\".format(pivote))\n",
        "        print(\"\\t [+]Posicion : ({},{})\".format(i,i))\n",
        "        if pivote == 0:\n",
        "            print(\"\\t[-] Cambio de filas.\")\n",
        "            p = findCero(M,i+1,n) # Fila del nuevo pivote !=0\n",
        "            if p == -1:\n",
        "                print(\"No se encontro pivote Nulo.\")\n",
        "                return\n",
        "            else:\n",
        "                print(\"\\t [+] Nuevo pivote: {}\".format(M[p][i]))\n",
        "                print(\"\\t [+] Posicion : ({},{})\".format(p,i))\n",
        "                Fip = ElementalC_Fij(m,i,p)\n",
        "                M_aux=M\n",
        "                M = np.dot(Fip,M)\n",
        "                pivote = M[i][i]\n",
        "                h = [\"Fip\",\"M\",\"Fip x M\"]\n",
        "                E = [[Fip,M_aux,M]]\n",
        "                print(tabulate(E,headers=h,tablefmt='grid'))\n",
        "        \n",
        "        # luego tenemos que hacer 1 al pivote\n",
        "        print(\"\\t Luego Haciendo 1 al pivote : \")\n",
        "        Fi = Elemental_Fi(m,i,1/pivote)\n",
        "        M_aux=M\n",
        "        M = np.dot(Fi,M)\n",
        "        pivote = M[i][i]\n",
        "        h = [\"Fi\",\"M\",\"Fi x M\"]\n",
        "        E = [[Fi,M_aux,M]]\n",
        "        print(tabulate(E,headers=h,tablefmt='grid'))\n",
        "        \n",
        "        \n",
        "        # Si no es diferente de cero Hacemos cero la columna\n",
        "        print(\"Paso 2 : Las matrices elementales\")\n",
        "        header = [\"Matriz Aumentada\"]\n",
        "        c=1\n",
        "        E = [[M]]\n",
        "        for j in range(i+1,m):\n",
        "            factor = M[j][i]/pivote\n",
        "            Fji = Elemental_Fij(m,j,i,-factor)            \n",
        "            E[0].insert(0,np.copy(Fji))\n",
        "            header.insert(0,\"E\"+str(c)+\": F_{}{}({})\".format(j,i,-factor))\n",
        "            c+=1\n",
        "            M = np.dot(Fji,M)\n",
        "        for j in range(i):\n",
        "            factor = M[j][i]/pivote\n",
        "            Fji = Elemental_Fij(m,j,i,-factor)            \n",
        "            E[0].insert(0,np.copy(Fji))\n",
        "            header.insert(0,\"E\"+str(c)+\": F_{}{}({})\".format(j,i,-factor))\n",
        "            c+=1\n",
        "            M = np.dot(Fji,M)\n",
        "            \n",
        "        \n",
        "        print(tabulate(E,headers=header,tablefmt='grid'))\n",
        "        print(\"Paso 3 : Haciendo (0) la columna C[{}]\".format(i))\n",
        "        print(M,\"\\n\\n\") \n",
        "                \n",
        "    \n",
        "    x = M[:,-1]    \n",
        "    print(\"\\t -> El conjunto solucion : \")\n",
        "    print(x.reshape(n,1))\n",
        "    "
      ],
      "metadata": {
        "id": "kemhgyRXn3zd"
      },
      "execution_count": null,
      "outputs": []
    },
    {
      "cell_type": "code",
      "source": [
        "import numpy as np\n",
        "A = np.array([\n",
        "            [-1,3,-1,1],\n",
        "            [1,-1,2,-1],\n",
        "            [3,1,-2,2],\n",
        "            [3,-1,1,2]\n",
        "])\n",
        "b = np.array([ \n",
        "                [-8],\n",
        "                [4],\n",
        "                [4],\n",
        "                [16]\n",
        "])\n",
        "EliminacionGaussJordan(A,b)"
      ],
      "metadata": {
        "id": "PR6VnJYGn-tQ",
        "outputId": "ee60ff5a-a787-4af0-8edb-095f91b7ab29",
        "colab": {
          "base_uri": "https://localhost:8080/"
        }
      },
      "execution_count": null,
      "outputs": [
        {
          "output_type": "stream",
          "name": "stdout",
          "text": [
            "+-----------------+----------------+------------------------+\n",
            "| ['MATRIZ A']    | ['MATRIZ b']   | ['MATRIZ AUMENTADA']   |\n",
            "+=================+================+========================+\n",
            "| [[-1  3 -1  1]  | [[-8]          | [[-1  3 -1  1 -8]      |\n",
            "|  [ 1 -1  2 -1]  |  [ 4]          |  [ 1 -1  2 -1  4]      |\n",
            "|  [ 3  1 -2  2]  |  [ 4]          |  [ 3  1 -2  2  4]      |\n",
            "|  [ 3 -1  1  2]] |  [16]]         |  [ 3 -1  1  2 16]]     |\n",
            "+-----------------+----------------+------------------------+\n",
            "\t[+] ELIMINACION POR GAUSS JORDAN\n",
            "\n",
            "Paso 1 : Hallando el pivote !=0\n",
            "\t [+]Pivote   : -1\n",
            "\t [+]Posicion : (0,0)\n",
            "\t Luego Haciendo 1 al pivote : \n",
            "+---------------------+--------------------+-------------------------+\n",
            "| Fi                  | M                  | Fi x M                  |\n",
            "+=====================+====================+=========================+\n",
            "| [[-1.  0.  0.  0.]  | [[-1  3 -1  1 -8]  | [[ 1. -3.  1. -1.  8.]  |\n",
            "|  [ 0.  1.  0.  0.]  |  [ 1 -1  2 -1  4]  |  [ 1. -1.  2. -1.  4.]  |\n",
            "|  [ 0.  0.  1.  0.]  |  [ 3  1 -2  2  4]  |  [ 3.  1. -2.  2.  4.]  |\n",
            "|  [ 0.  0.  0.  1.]] |  [ 3 -1  1  2 16]] |  [ 3. -1.  1.  2. 16.]] |\n",
            "+---------------------+--------------------+-------------------------+\n",
            "Paso 2 : Las matrices elementales\n",
            "+---------------------+---------------------+---------------------+-------------------------+\n",
            "| E3: F_30(-3.0)      | E2: F_20(-3.0)      | E1: F_10(-1.0)      | Matriz Aumentada        |\n",
            "+=====================+=====================+=====================+=========================+\n",
            "| [[ 1.  0.  0.  0.]  | [[ 1.  0.  0.  0.]  | [[ 1.  0.  0.  0.]  | [[ 1. -3.  1. -1.  8.]  |\n",
            "|  [ 0.  1.  0.  0.]  |  [ 0.  1.  0.  0.]  |  [-1.  1.  0.  0.]  |  [ 1. -1.  2. -1.  4.]  |\n",
            "|  [ 0.  0.  1.  0.]  |  [-3.  0.  1.  0.]  |  [ 0.  0.  1.  0.]  |  [ 3.  1. -2.  2.  4.]  |\n",
            "|  [-3.  0.  0.  1.]] |  [ 0.  0.  0.  1.]] |  [ 0.  0.  0.  1.]] |  [ 3. -1.  1.  2. 16.]] |\n",
            "+---------------------+---------------------+---------------------+-------------------------+\n",
            "Paso 3 : Haciendo (0) la columna C[0]\n",
            "[[  1.  -3.   1.  -1.   8.]\n",
            " [  0.   2.   1.   0.  -4.]\n",
            " [  0.  10.  -5.   5. -20.]\n",
            " [  0.   8.  -2.   5.  -8.]] \n",
            "\n",
            "\n",
            "Paso 1 : Hallando el pivote !=0\n",
            "\t [+]Pivote   : 2.0\n",
            "\t [+]Posicion : (1,1)\n",
            "\t Luego Haciendo 1 al pivote : \n",
            "+---------------------+------------------------------+-----------------------------------+\n",
            "| Fi                  | M                            | Fi x M                            |\n",
            "+=====================+==============================+===================================+\n",
            "| [[1.  0.  0.  0. ]  | [[  1.  -3.   1.  -1.   8.]  | [[  1.   -3.    1.   -1.    8. ]  |\n",
            "|  [0.  0.5 0.  0. ]  |  [  0.   2.   1.   0.  -4.]  |  [  0.    1.    0.5   0.   -2. ]  |\n",
            "|  [0.  0.  1.  0. ]  |  [  0.  10.  -5.   5. -20.]  |  [  0.   10.   -5.    5.  -20. ]  |\n",
            "|  [0.  0.  0.  1. ]] |  [  0.   8.  -2.   5.  -8.]] |  [  0.    8.   -2.    5.   -8. ]] |\n",
            "+---------------------+------------------------------+-----------------------------------+\n",
            "Paso 2 : Las matrices elementales\n",
            "+-----------------+---------------------+-------------------------+-----------------------------------+\n",
            "| E3: F_01(3.0)   | E2: F_31(-8.0)      | E1: F_21(-10.0)         | Matriz Aumentada                  |\n",
            "+=================+=====================+=========================+===================================+\n",
            "| [[1. 3. 0. 0.]  | [[ 1.  0.  0.  0.]  | [[  1.   0.   0.   0.]  | [[  1.   -3.    1.   -1.    8. ]  |\n",
            "|  [0. 1. 0. 0.]  |  [ 0.  1.  0.  0.]  |  [  0.   1.   0.   0.]  |  [  0.    1.    0.5   0.   -2. ]  |\n",
            "|  [0. 0. 1. 0.]  |  [ 0.  0.  1.  0.]  |  [  0. -10.   1.   0.]  |  [  0.   10.   -5.    5.  -20. ]  |\n",
            "|  [0. 0. 0. 1.]] |  [ 0. -8.  0.  1.]] |  [  0.   0.   0.   1.]] |  [  0.    8.   -2.    5.   -8. ]] |\n",
            "+-----------------+---------------------+-------------------------+-----------------------------------+\n",
            "Paso 3 : Haciendo (0) la columna C[1]\n",
            "[[  1.    0.    2.5  -1.    2. ]\n",
            " [  0.    1.    0.5   0.   -2. ]\n",
            " [  0.    0.  -10.    5.    0. ]\n",
            " [  0.    0.   -6.    5.    8. ]] \n",
            "\n",
            "\n",
            "Paso 1 : Hallando el pivote !=0\n",
            "\t [+]Pivote   : -10.0\n",
            "\t [+]Posicion : (2,2)\n",
            "\t Luego Haciendo 1 al pivote : \n",
            "+-------------------------+-----------------------------------+------------------------------+\n",
            "| Fi                      | M                                 | Fi x M                       |\n",
            "+=========================+===================================+==============================+\n",
            "| [[ 1.   0.   0.   0. ]  | [[  1.    0.    2.5  -1.    2. ]  | [[ 1.   0.   2.5 -1.   2. ]  |\n",
            "|  [ 0.   1.   0.   0. ]  |  [  0.    1.    0.5   0.   -2. ]  |  [ 0.   1.   0.5  0.  -2. ]  |\n",
            "|  [ 0.   0.  -0.1  0. ]  |  [  0.    0.  -10.    5.    0. ]  |  [ 0.   0.   1.  -0.5  0. ]  |\n",
            "|  [ 0.   0.   0.   1. ]] |  [  0.    0.   -6.    5.    8. ]] |  [ 0.   0.  -6.   5.   8. ]] |\n",
            "+-------------------------+-----------------------------------+------------------------------+\n",
            "Paso 2 : Las matrices elementales\n",
            "+-------------------------+-------------------------+-----------------+------------------------------+\n",
            "| E3: F_12(-0.5)          | E2: F_02(-2.5)          | E1: F_32(6.0)   | Matriz Aumentada             |\n",
            "+=========================+=========================+=================+==============================+\n",
            "| [[ 1.   0.   0.   0. ]  | [[ 1.   0.  -2.5  0. ]  | [[1. 0. 0. 0.]  | [[ 1.   0.   2.5 -1.   2. ]  |\n",
            "|  [ 0.   1.  -0.5  0. ]  |  [ 0.   1.   0.   0. ]  |  [0. 1. 0. 0.]  |  [ 0.   1.   0.5  0.  -2. ]  |\n",
            "|  [ 0.   0.   1.   0. ]  |  [ 0.   0.   1.   0. ]  |  [0. 0. 1. 0.]  |  [ 0.   0.   1.  -0.5  0. ]  |\n",
            "|  [ 0.   0.   0.   1. ]] |  [ 0.   0.   0.   1. ]] |  [0. 0. 6. 1.]] |  [ 0.   0.  -6.   5.   8. ]] |\n",
            "+-------------------------+-------------------------+-----------------+------------------------------+\n",
            "Paso 3 : Haciendo (0) la columna C[2]\n",
            "[[ 1.    0.    0.    0.25  2.  ]\n",
            " [ 0.    1.    0.    0.25 -2.  ]\n",
            " [ 0.    0.    1.   -0.5   0.  ]\n",
            " [ 0.    0.    0.    2.    8.  ]] \n",
            "\n",
            "\n",
            "Paso 1 : Hallando el pivote !=0\n",
            "\t [+]Pivote   : 2.0\n",
            "\t [+]Posicion : (3,3)\n",
            "\t Luego Haciendo 1 al pivote : \n",
            "+---------------------+-----------------------------------+-----------------------------------+\n",
            "| Fi                  | M                                 | Fi x M                            |\n",
            "+=====================+===================================+===================================+\n",
            "| [[1.  0.  0.  0. ]  | [[ 1.    0.    0.    0.25  2.  ]  | [[ 1.    0.    0.    0.25  2.  ]  |\n",
            "|  [0.  1.  0.  0. ]  |  [ 0.    1.    0.    0.25 -2.  ]  |  [ 0.    1.    0.    0.25 -2.  ]  |\n",
            "|  [0.  0.  1.  0. ]  |  [ 0.    0.    1.   -0.5   0.  ]  |  [ 0.    0.    1.   -0.5   0.  ]  |\n",
            "|  [0.  0.  0.  0.5]] |  [ 0.    0.    0.    2.    8.  ]] |  [ 0.    0.    0.    1.    4.  ]] |\n",
            "+---------------------+-----------------------------------+-----------------------------------+\n",
            "Paso 2 : Las matrices elementales\n",
            "+---------------------+-----------------------------+-----------------------------+-----------------------------------+\n",
            "| E3: F_23(0.5)       | E2: F_13(-0.25)             | E1: F_03(-0.25)             | Matriz Aumentada                  |\n",
            "+=====================+=============================+=============================+===================================+\n",
            "| [[1.  0.  0.  0. ]  | [[ 1.    0.    0.    0.  ]  | [[ 1.    0.    0.   -0.25]  | [[ 1.    0.    0.    0.25  2.  ]  |\n",
            "|  [0.  1.  0.  0. ]  |  [ 0.    1.    0.   -0.25]  |  [ 0.    1.    0.    0.  ]  |  [ 0.    1.    0.    0.25 -2.  ]  |\n",
            "|  [0.  0.  1.  0.5]  |  [ 0.    0.    1.    0.  ]  |  [ 0.    0.    1.    0.  ]  |  [ 0.    0.    1.   -0.5   0.  ]  |\n",
            "|  [0.  0.  0.  1. ]] |  [ 0.    0.    0.    1.  ]] |  [ 0.    0.    0.    1.  ]] |  [ 0.    0.    0.    1.    4.  ]] |\n",
            "+---------------------+-----------------------------+-----------------------------+-----------------------------------+\n",
            "Paso 3 : Haciendo (0) la columna C[3]\n",
            "[[ 1.  0.  0.  0.  1.]\n",
            " [ 0.  1.  0.  0. -3.]\n",
            " [ 0.  0.  1.  0.  2.]\n",
            " [ 0.  0.  0.  1.  4.]] \n",
            "\n",
            "\n",
            "\t -> El conjunto solucion : \n",
            "[[ 1.]\n",
            " [-3.]\n",
            " [ 2.]\n",
            " [ 4.]]\n"
          ]
        }
      ]
    },
    {
      "cell_type": "markdown",
      "source": [
        "## Metodo de Parlet Reid"
      ],
      "metadata": {
        "id": "X-PspIFmCvfe"
      }
    },
    {
      "cell_type": "code",
      "source": [
        "import numpy as np\n",
        "from tabulate import tabulate\n",
        "\n",
        "def e(i,n):\n",
        "    I=np.identity(n)\n",
        "    return I[:,i-1:i]\n",
        "\n",
        "\n",
        "def Fila_maximoElement(sub_matriz):\n",
        "    n = np.shape(sub_matriz)[0] # Numero de filas\n",
        "    ind = np.argmax(np.abs(sub_matriz))   \n",
        "    return ind\n",
        "        \n",
        "def Formar_P(n,i_actual,j_maximo):\n",
        "    I = np.identity(n)\n",
        "    if(i_actual!=j_maximo):\n",
        "        colum_actual  = I[:,i_actual:i_actual+1].copy()\n",
        "        I[:,i_actual:i_actual+1]=I[:,j_maximo:j_maximo+1]\n",
        "        I[:,j_maximo:j_maximo+1]=colum_actual\n",
        "        return I\n",
        "    else:\n",
        "        return I\n",
        "\n",
        "def FormarAlpha(Subcolumna):\n",
        "    m,n = np.shape(Subcolumna)\n",
        "    f_max = Fila_maximoElement(Subcolumna)   \n",
        "    maximo = Subcolumna[f_max].copy()\n",
        "    aux = Subcolumna[0].copy()\n",
        "    for i in range(m):\n",
        "        if(Subcolumna[i]==maximo):\n",
        "            Subcolumna[i]=aux\n",
        "            Subcolumna[0]=maximo\n",
        "            break    \n",
        "    for i in range(m):        \n",
        "        Subcolumna[i]= Subcolumna[i]/maximo      \n",
        "    \n",
        "    return Subcolumna\n",
        "    \n",
        "def Formar_M(Subcolumna,i,n):\n",
        "    I = np.identity(n)\n",
        "    e = I[i:i+1,:]\n",
        "    s = np.zeros((n,1))\n",
        "    s_aux = FormarAlpha(Subcolumna)   \n",
        "    s[i+1:,:]=s_aux[1:,:]\n",
        "    \n",
        "    print(\" 3) Generamos M{}: I - alpha.e{}\".format(i,i+1))\n",
        "    print(tabulate([[I,s,e]],headers=[\"I\",\"alpha\",\"e\"], tablefmt='grid')) \n",
        "    return I-np.dot(s,e)\n",
        "\n",
        "def imprimir_titulo(titulo):\n",
        "    titulo_cent = titulo.center(50)\n",
        "    print(f\"\\n{'='*50}\\n{titulo_cent}\\n{'='*50}\")\n",
        "    \n",
        "def ParletReit(A):\n",
        "    imprimir_titulo(\"Metodo de Parlet Reid\")\n",
        "    n =  np.shape(A)[0]\n",
        "    print(tabulate([[\"Matriz A\",A]], tablefmt='grid'))  \n",
        "    for i in range(n-2):\n",
        "        print(\" 1) Evaluamos la subcolumna:\")\n",
        "        Subcolumna = A[i+1:,i:i+1] \n",
        "        maximo = Fila_maximoElement(Subcolumna)\n",
        "        print(tabulate([[A,Subcolumna,A[i,i+maximo+1]]],headers=[\"A\",\"Subcolumna\",\"maximo\"], tablefmt='grid'))  \n",
        "        P = Formar_P(n,i+1,i+maximo+1)\n",
        "        print(\" 2) Generamos P{}: e{} <-> e{}\".format(i+1,i+2,i+maximo+2))\n",
        "        print(tabulate([[\"P\",P]], tablefmt='grid')) \n",
        "        M = Formar_M(Subcolumna.astype(float),i+1,n)\n",
        "        print(\" 4) Generamos M{}:\".format(i+1))\n",
        "        print(tabulate([[\"M\",M]], tablefmt='grid')) \n",
        "        print(\" 5) Hallamos el MP y MP.T :\".format(i+1))\n",
        "        MP = np.dot(M,P)\n",
        "        MP_T = MP.T\n",
        "        print(tabulate([[MP,MP_T]],headers=[\"MP\",\"MP_T\"], tablefmt='grid')) \n",
        "        print(\" 6) Generamos el nuevo A({}):\".format(i+1))\n",
        "        A_aux=A.copy()\n",
        "        A_aux = np.dot(MP,A_aux)\n",
        "        A_aux = np.dot(A_aux,MP_T)\n",
        "        A=A_aux\n",
        "        print(tabulate([[\"MP(A{})MP.T\".format(i+1),A]], tablefmt='grid')) \n",
        "        print()"
      ],
      "metadata": {
        "id": "4_WU8k0VCyE-"
      },
      "execution_count": 1,
      "outputs": []
    },
    {
      "cell_type": "code",
      "source": [
        "A = np.array([\n",
        "    [5,2,9,-6],\n",
        "    [2,5,-6,9],\n",
        "    [9,-6,5,2],\n",
        "    [-6,9,2,5]\n",
        "])\n",
        "ParletReit(A)"
      ],
      "metadata": {
        "colab": {
          "base_uri": "https://localhost:8080/"
        },
        "id": "ljs3p-pcCz4h",
        "outputId": "e209bc9d-cbaf-4014-dd7b-46e4e48f162e"
      },
      "execution_count": 2,
      "outputs": [
        {
          "output_type": "stream",
          "name": "stdout",
          "text": [
            "\n",
            "==================================================\n",
            "              Metodo de Parlet Reid               \n",
            "==================================================\n",
            "+----------+-----------------+\n",
            "| Matriz A | [[ 5  2  9 -6]  |\n",
            "|          |  [ 2  5 -6  9]  |\n",
            "|          |  [ 9 -6  5  2]  |\n",
            "|          |  [-6  9  2  5]] |\n",
            "+----------+-----------------+\n",
            " 1) Evaluamos la subcolumna:\n",
            "+-----------------+--------------+----------+\n",
            "| A               | Subcolumna   |   maximo |\n",
            "+=================+==============+==========+\n",
            "| [[ 5  2  9 -6]  | [[ 2]        |        9 |\n",
            "|  [ 2  5 -6  9]  |  [ 9]        |          |\n",
            "|  [ 9 -6  5  2]  |  [-6]]       |          |\n",
            "|  [-6  9  2  5]] |              |          |\n",
            "+-----------------+--------------+----------+\n",
            " 2) Generamos P1: e2 <-> e3\n",
            "+---+-----------------+\n",
            "| P | [[1. 0. 0. 0.]  |\n",
            "|   |  [0. 0. 1. 0.]  |\n",
            "|   |  [0. 1. 0. 0.]  |\n",
            "|   |  [0. 0. 0. 1.]] |\n",
            "+---+-----------------+\n",
            " 3) Generamos M1: I - alpha.e2\n",
            "+-----------------+-----------------+-----------------+\n",
            "| I               | alpha           | e               |\n",
            "+=================+=================+=================+\n",
            "| [[1. 0. 0. 0.]  | [[ 0.        ]  | [[0. 1. 0. 0.]] |\n",
            "|  [0. 1. 0. 0.]  |  [ 0.        ]  |                 |\n",
            "|  [0. 0. 1. 0.]  |  [ 0.22222222]  |                 |\n",
            "|  [0. 0. 0. 1.]] |  [-0.66666667]] |                 |\n",
            "+-----------------+-----------------+-----------------+\n",
            " 4) Generamos M1:\n",
            "+---+-----------------------------------------------------+\n",
            "| M | [[ 1.          0.          0.          0.        ]  |\n",
            "|   |  [ 0.          1.          0.          0.        ]  |\n",
            "|   |  [ 0.         -0.22222222  1.          0.        ]  |\n",
            "|   |  [ 0.          0.66666667  0.          1.        ]] |\n",
            "+---+-----------------------------------------------------+\n",
            " 5) Hallamos el MP y MP.T :\n",
            "+-----------------------------------------------------+-----------------------------------------------------+\n",
            "| MP                                                  | MP_T                                                |\n",
            "+=====================================================+=====================================================+\n",
            "| [[ 1.          0.          0.          0.        ]  | [[ 1.          0.          0.          0.        ]  |\n",
            "|  [ 0.          0.          1.          0.        ]  |  [ 0.          0.          1.          0.        ]  |\n",
            "|  [ 0.          1.         -0.22222222  0.        ]  |  [ 0.          1.         -0.22222222  0.66666667]  |\n",
            "|  [ 0.          0.          0.66666667  1.        ]] |  [ 0.          0.          0.          1.        ]] |\n",
            "+-----------------------------------------------------+-----------------------------------------------------+\n",
            " 6) Generamos el nuevo A(1):\n",
            "+------------+---------------------------------------------------------------------+\n",
            "| MP(A1)MP.T | [[ 5.00000000e+00  9.00000000e+00  1.11022302e-16  0.00000000e+00]  |\n",
            "|            |  [ 9.00000000e+00  5.00000000e+00 -7.11111111e+00  5.33333333e+00]  |\n",
            "|            |  [ 1.11022302e-16 -7.11111111e+00  7.91358025e+00  3.81481481e+00]  |\n",
            "|            |  [ 0.00000000e+00  5.33333333e+00  3.81481481e+00  9.88888889e+00]] |\n",
            "+------------+---------------------------------------------------------------------+\n",
            "\n",
            " 1) Evaluamos la subcolumna:\n",
            "+---------------------------------------------------------------------+-----------------+----------+\n",
            "| A                                                                   | Subcolumna      |   maximo |\n",
            "+=====================================================================+=================+==========+\n",
            "| [[ 5.00000000e+00  9.00000000e+00  1.11022302e-16  0.00000000e+00]  | [[-7.11111111]  | -7.11111 |\n",
            "|  [ 9.00000000e+00  5.00000000e+00 -7.11111111e+00  5.33333333e+00]  |  [ 5.33333333]] |          |\n",
            "|  [ 1.11022302e-16 -7.11111111e+00  7.91358025e+00  3.81481481e+00]  |                 |          |\n",
            "|  [ 0.00000000e+00  5.33333333e+00  3.81481481e+00  9.88888889e+00]] |                 |          |\n",
            "+---------------------------------------------------------------------+-----------------+----------+\n",
            " 2) Generamos P2: e3 <-> e3\n",
            "+---+-----------------+\n",
            "| P | [[1. 0. 0. 0.]  |\n",
            "|   |  [0. 1. 0. 0.]  |\n",
            "|   |  [0. 0. 1. 0.]  |\n",
            "|   |  [0. 0. 0. 1.]] |\n",
            "+---+-----------------+\n",
            " 3) Generamos M2: I - alpha.e3\n",
            "+-----------------+-----------+-----------------+\n",
            "| I               | alpha     | e               |\n",
            "+=================+===========+=================+\n",
            "| [[1. 0. 0. 0.]  | [[ 0.  ]  | [[0. 0. 1. 0.]] |\n",
            "|  [0. 1. 0. 0.]  |  [ 0.  ]  |                 |\n",
            "|  [0. 0. 1. 0.]  |  [ 0.  ]  |                 |\n",
            "|  [0. 0. 0. 1.]] |  [-0.75]] |                 |\n",
            "+-----------------+-----------+-----------------+\n",
            " 4) Generamos M2:\n",
            "+---+-------------------------+\n",
            "| M | [[1.   0.   0.   0.  ]  |\n",
            "|   |  [0.   1.   0.   0.  ]  |\n",
            "|   |  [0.   0.   1.   0.  ]  |\n",
            "|   |  [0.   0.   0.75 1.  ]] |\n",
            "+---+-------------------------+\n",
            " 5) Hallamos el MP y MP.T :\n",
            "+-------------------------+-------------------------+\n",
            "| MP                      | MP_T                    |\n",
            "+=========================+=========================+\n",
            "| [[1.   0.   0.   0.  ]  | [[1.   0.   0.   0.  ]  |\n",
            "|  [0.   1.   0.   0.  ]  |  [0.   1.   0.   0.  ]  |\n",
            "|  [0.   0.   1.   0.  ]  |  [0.   0.   1.   0.75]  |\n",
            "|  [0.   0.   0.75 1.  ]] |  [0.   0.   0.   1.  ]] |\n",
            "+-------------------------+-------------------------+\n",
            " 6) Generamos el nuevo A(2):\n",
            "+------------+---------------------------------------------------------------------+\n",
            "| MP(A2)MP.T | [[ 5.00000000e+00  9.00000000e+00  1.11022302e-16  8.32667268e-17]  |\n",
            "|            |  [ 9.00000000e+00  5.00000000e+00 -7.11111111e+00  0.00000000e+00]  |\n",
            "|            |  [ 1.11022302e-16 -7.11111111e+00  7.91358025e+00  9.75000000e+00]  |\n",
            "|            |  [ 8.32667268e-17  0.00000000e+00  9.75000000e+00  2.00625000e+01]] |\n",
            "+------------+---------------------------------------------------------------------+\n",
            "\n"
          ]
        }
      ]
    }
  ]
}