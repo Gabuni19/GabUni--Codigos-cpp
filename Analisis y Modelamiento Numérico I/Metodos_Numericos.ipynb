{
  "nbformat": 4,
  "nbformat_minor": 0,
  "metadata": {
    "colab": {
      "provenance": [],
      "authorship_tag": "ABX9TyOPsuPOfmrQ08XM54Qb4pjr",
      "include_colab_link": true
    },
    "kernelspec": {
      "name": "python3",
      "display_name": "Python 3"
    },
    "language_info": {
      "name": "python"
    }
  },
  "cells": [
    {
      "cell_type": "markdown",
      "metadata": {
        "id": "view-in-github",
        "colab_type": "text"
      },
      "source": [
        "<a href=\"https://colab.research.google.com/github/Gabuni19/GabUni--Codigos-cpp/blob/main/Analisis%20y%20Modelamiento%20Num%C3%A9rico%20I/Metodos_Numericos.ipynb\" target=\"_parent\"><img src=\"https://colab.research.google.com/assets/colab-badge.svg\" alt=\"Open In Colab\"/></a>"
      ]
    },
    {
      "cell_type": "markdown",
      "source": [
        "## Funcion Normalizar"
      ],
      "metadata": {
        "id": "H0zbECxpxV5D"
      }
    },
    {
      "cell_type": "code",
      "source": [
        "def normalizar(x):\n",
        "    \"\"\"Funcion que nomarliza un valor x ala forma : 0.[...]e[...]\n",
        "    \n",
        "        Parametros posicionales:\n",
        "        x -- numero a normalizar entero\n",
        "    \"\"\"\n",
        "    #Creamos un variable que indique si es positivo\n",
        "    positivo=1    \n",
        "    #Si x es un numero negativo pasarlo a positivo\n",
        "    if x<0:\n",
        "        x=abs(x)\n",
        "        positivo=-1;\n",
        "    \n",
        "    if x==0: \n",
        "        return (0,0);\n",
        "    elif (x>1):\n",
        "        t=len(str(int(x)))\n",
        "        x=x/10**t\n",
        "        return (positivo*x,10**t)\n",
        "    else:\n",
        "        t=len(str(x).split(\".\")[-1])        \n",
        "        aux=x*10**t        \n",
        "        m=len(str(int(aux)))\n",
        "        x=x*10**(t-m)\n",
        "        return (positivo*x,10**-(t-m))"
      ],
      "metadata": {
        "id": "3Ymqg3WAxfZ8"
      },
      "execution_count": 2,
      "outputs": []
    },
    {
      "cell_type": "markdown",
      "source": [
        "Retorna una dupla : (numero de la forma 0.algo ,factor multiplo de 10)"
      ],
      "metadata": {
        "id": "h_DZgW8Mx7DF"
      }
    },
    {
      "cell_type": "code",
      "source": [
        "normalizar(12.45)"
      ],
      "metadata": {
        "colab": {
          "base_uri": "https://localhost:8080/"
        },
        "id": "VJL0npNhxrf2",
        "outputId": "8fc2d896-058a-4e1e-b706-78c188569421"
      },
      "execution_count": 3,
      "outputs": [
        {
          "output_type": "execute_result",
          "data": {
            "text/plain": [
              "(0.1245, 100)"
            ]
          },
          "metadata": {},
          "execution_count": 3
        }
      ]
    },
    {
      "cell_type": "code",
      "source": [
        "normalizar(11111.45456)"
      ],
      "metadata": {
        "colab": {
          "base_uri": "https://localhost:8080/"
        },
        "id": "fPCc7cIEyFh7",
        "outputId": "f1854e4e-0bc4-40c5-93f4-c8803adeeae7"
      },
      "execution_count": 4,
      "outputs": [
        {
          "output_type": "execute_result",
          "data": {
            "text/plain": [
              "(0.1111145456, 100000)"
            ]
          },
          "metadata": {},
          "execution_count": 4
        }
      ]
    },
    {
      "cell_type": "code",
      "source": [
        "normalizar(0.23333)"
      ],
      "metadata": {
        "colab": {
          "base_uri": "https://localhost:8080/"
        },
        "id": "7t0RmqZLyF0j",
        "outputId": "b9826d67-6a66-414d-9160-c71cdb3020f5"
      },
      "execution_count": 5,
      "outputs": [
        {
          "output_type": "execute_result",
          "data": {
            "text/plain": [
              "(0.23333, 1)"
            ]
          },
          "metadata": {},
          "execution_count": 5
        }
      ]
    },
    {
      "cell_type": "markdown",
      "source": [
        "## Funcion Flotante (Usa Normalizar)"
      ],
      "metadata": {
        "id": "zfW97fQtyMt9"
      }
    },
    {
      "cell_type": "code",
      "source": [
        "def normalizar(x):\n",
        "    \"\"\"Funcion que nomarliza un valor x ala forma : 0.[...]e[...]\n",
        "    \n",
        "        Parametros posicionales:\n",
        "        x -- numero a normalizar\n",
        "    \"\"\"\n",
        "    #Creamos un variable que indique si es positivo\n",
        "    positivo=1    \n",
        "    #Si x es un numero negativo pasarlo a positivo\n",
        "    if x<0:\n",
        "        x=abs(x)\n",
        "        positivo=-1;\n",
        "    \n",
        "    if x==0: \n",
        "        return (0,0);\n",
        "    elif (x>1):\n",
        "        t=len(str(int(x)))\n",
        "        x=x/10**t\n",
        "        return (positivo*x,10**t)\n",
        "    else:\n",
        "        t=len(str(x).split(\".\")[-1])        \n",
        "        aux=x*10**t        \n",
        "        m=len(str(int(aux)))\n",
        "        x=x*10**(t-m)\n",
        "        return (positivo*x,10**-(t-m))\n",
        "      \n",
        "def fl(x,decimales):\n",
        "    \"\"\"Funcion que calcula el fl(x) de un numero x\n",
        "    \n",
        "        Parametros posicionales:\n",
        "        x -- numero real\n",
        "        decimales -- decimales a redondear\n",
        "    \"\"\"\n",
        "    (d,potencia)=normalizar(x)\n",
        "    d = round(d,decimales)\n",
        "    return (d,potencia)"
      ],
      "metadata": {
        "id": "Fx_yOpjOyTI7"
      },
      "execution_count": 6,
      "outputs": []
    },
    {
      "cell_type": "markdown",
      "source": [
        "Retorna una dupla :(decimal normalizado y redondeado,potencia de 10)"
      ],
      "metadata": {
        "id": "tPe82AB0yl6U"
      }
    },
    {
      "cell_type": "code",
      "source": [
        "fl(0.5744531,2)"
      ],
      "metadata": {
        "colab": {
          "base_uri": "https://localhost:8080/"
        },
        "id": "hZCT339gyvS-",
        "outputId": "1ae75709-5fa8-4a87-dbfd-a12c2cd5e573"
      },
      "execution_count": 9,
      "outputs": [
        {
          "output_type": "execute_result",
          "data": {
            "text/plain": [
              "(0.57, 1)"
            ]
          },
          "metadata": {},
          "execution_count": 9
        }
      ]
    },
    {
      "cell_type": "code",
      "source": [
        "fl(24.5744531,5)"
      ],
      "metadata": {
        "colab": {
          "base_uri": "https://localhost:8080/"
        },
        "id": "T63cR77CyUqG",
        "outputId": "86d73548-f16f-4e65-9fb9-cad4180b3392"
      },
      "execution_count": 8,
      "outputs": [
        {
          "output_type": "execute_result",
          "data": {
            "text/plain": [
              "(0.24574, 100)"
            ]
          },
          "metadata": {},
          "execution_count": 8
        }
      ]
    },
    {
      "cell_type": "markdown",
      "source": [
        "## Binario a Decimal (Descomposicion polinomica)"
      ],
      "metadata": {
        "id": "k9RZL4P7y6xF"
      }
    },
    {
      "cell_type": "code",
      "source": [
        "def Binario_Decimal(numero):\n",
        "    \"\"\"Funcion que transforma un numero binario a decimal\n",
        "    \n",
        "        Parametros posicionales:\n",
        "        numero -- numero en tipo string    \n",
        "    \"\"\"\n",
        "    d=0\n",
        "    if \".\" in numero :\n",
        "        (entero,decimal)= numero.split(\".\")\n",
        "        n = len(entero)        \n",
        "        for i in range(n):\n",
        "            d+=int(entero[i])*(2**(n-i-1))\n",
        "        m = len(decimal)\n",
        "        for i in range(m):\n",
        "            d+=int(decimal[i])*(2**-(i+1))\n",
        "        return d                \n",
        "    else:        \n",
        "        n = len(numero)        \n",
        "        for i in range(n):\n",
        "            d+=int(numero[i])*(2**(n-i-1))\n",
        "        return d "
      ],
      "metadata": {
        "id": "XUBQuDlRy7T5"
      },
      "execution_count": 13,
      "outputs": []
    },
    {
      "cell_type": "code",
      "source": [
        "Binario_Decimal(\"1.011\")"
      ],
      "metadata": {
        "colab": {
          "base_uri": "https://localhost:8080/"
        },
        "id": "0z455utpzGlr",
        "outputId": "6dedcff2-7b7b-4548-f234-295756fdb86a"
      },
      "execution_count": 14,
      "outputs": [
        {
          "output_type": "execute_result",
          "data": {
            "text/plain": [
              "1.375"
            ]
          },
          "metadata": {},
          "execution_count": 14
        }
      ]
    },
    {
      "cell_type": "code",
      "source": [
        "Binario_Decimal(\"0.1\")"
      ],
      "metadata": {
        "colab": {
          "base_uri": "https://localhost:8080/"
        },
        "id": "tBJsHTUPzTLg",
        "outputId": "8ac84742-871f-429d-fd75-2da6bb17dde4"
      },
      "execution_count": 15,
      "outputs": [
        {
          "output_type": "execute_result",
          "data": {
            "text/plain": [
              "0.5"
            ]
          },
          "metadata": {},
          "execution_count": 15
        }
      ]
    },
    {
      "cell_type": "markdown",
      "source": [
        "## Rango  de Complemento a 2"
      ],
      "metadata": {
        "id": "Wg-30HOrzbeA"
      }
    },
    {
      "cell_type": "code",
      "source": [
        "from tabulate import tabulate\n",
        "\n",
        "def Rango_Representacion(n): \n",
        "    header =[\"n\",\"Positivos\",\"Negativos\"]\n",
        "    datos=[]\n",
        "    columna=[]\n",
        "    for n in range(4,n):\n",
        "        columna.append(n)\n",
        "        datos.append([n,[0,2**(n-1)-1],[-1,-(2**(n-1))]])\n",
        "    print(tabulate(datos, header))"
      ],
      "metadata": {
        "id": "4uEyxLNlzbnB"
      },
      "execution_count": 16,
      "outputs": []
    },
    {
      "cell_type": "markdown",
      "source": [
        "Retorna una tabla de los numeros que se pueden representar segun la longitud de palabra con la que se esta trabajando (n)"
      ],
      "metadata": {
        "id": "8_Q1K4u5zfZQ"
      }
    },
    {
      "cell_type": "code",
      "source": [
        "Rango_Representacion(15)"
      ],
      "metadata": {
        "colab": {
          "base_uri": "https://localhost:8080/"
        },
        "id": "aLtXwhgJzgUx",
        "outputId": "3a3b3d2e-3dbe-4399-d664-c521d2fb4115"
      },
      "execution_count": 20,
      "outputs": [
        {
          "output_type": "stream",
          "name": "stdout",
          "text": [
            "  n  Positivos    Negativos\n",
            "---  -----------  -----------\n",
            "  4  [0, 7]       [-1, -8]\n",
            "  5  [0, 15]      [-1, -16]\n",
            "  6  [0, 31]      [-1, -32]\n",
            "  7  [0, 63]      [-1, -64]\n",
            "  8  [0, 127]     [-1, -128]\n",
            "  9  [0, 255]     [-1, -256]\n",
            " 10  [0, 511]     [-1, -512]\n",
            " 11  [0, 1023]    [-1, -1024]\n",
            " 12  [0, 2047]    [-1, -2048]\n",
            " 13  [0, 4095]    [-1, -4096]\n",
            " 14  [0, 8191]    [-1, -8192]\n"
          ]
        }
      ]
    },
    {
      "cell_type": "markdown",
      "source": [
        "## Numero a Complemento a 2"
      ],
      "metadata": {
        "id": "hBScddiAzzbW"
      }
    },
    {
      "cell_type": "code",
      "source": [
        "def To_complemento2(numero , bits ):\n",
        "    \"\"\"Funcion que pasa un numero entero a su complemento a 2 en\n",
        "       en binario a partir de una longitud de palabra (bits).\n",
        "       \n",
        "       Parametros Posicionales:\n",
        "       numero -- entero que se desea pasar a complemento a 2 (int)\n",
        "       bits -- longitud de palabra con la que se trabaja\n",
        "    \n",
        "    \"\"\"\n",
        "    if(numero >= 0):\n",
        "        if(numero<=2**(bits-1)-1):            \n",
        "            b = bin(numero)[2:]     # Almacena el binario de \"numero\" en b        \n",
        "            b = b.rjust(bits,\"0\")   # completa los bits con cero\n",
        "            return b\n",
        "        else:\n",
        "            print(\"No se puede representar {}>{}.\".format(numero,2**(bits-1)-1))\n",
        "            return -1\n",
        "    else:\n",
        "        \n",
        "        aux = abs(numero)\n",
        "        if(aux<=(2**(bits-1))):            \n",
        "            c2 = 2**bits - aux\n",
        "            c2 = bin(c2)[2:]              \n",
        "            return c2\n",
        "        else:\n",
        "            print(\"No se puede representar {}>{}.\".format(aux,2**(bits-1)))\n",
        "            return -1"
      ],
      "metadata": {
        "id": "_PoVmGB5zzk1"
      },
      "execution_count": 22,
      "outputs": []
    },
    {
      "cell_type": "code",
      "source": [
        "To_complemento2(34,8)"
      ],
      "metadata": {
        "colab": {
          "base_uri": "https://localhost:8080/",
          "height": 35
        },
        "id": "zdEIngVi0FWe",
        "outputId": "f0e056f1-01c6-479b-bb21-023dfb29453f"
      },
      "execution_count": 24,
      "outputs": [
        {
          "output_type": "execute_result",
          "data": {
            "text/plain": [
              "'00100010'"
            ],
            "application/vnd.google.colaboratory.intrinsic+json": {
              "type": "string"
            }
          },
          "metadata": {},
          "execution_count": 24
        }
      ]
    },
    {
      "cell_type": "code",
      "source": [],
      "metadata": {
        "id": "z9Cjh-s81mHO"
      },
      "execution_count": null,
      "outputs": []
    }
  ]
}