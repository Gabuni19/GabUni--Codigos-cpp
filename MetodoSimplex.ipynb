{
  "nbformat": 4,
  "nbformat_minor": 0,
  "metadata": {
    "colab": {
      "provenance": [],
      "authorship_tag": "ABX9TyOXdbf943ZZxVWJZhMMojh4",
      "include_colab_link": true
    },
    "kernelspec": {
      "name": "python3",
      "display_name": "Python 3"
    },
    "language_info": {
      "name": "python"
    }
  },
  "cells": [
    {
      "cell_type": "markdown",
      "metadata": {
        "id": "view-in-github",
        "colab_type": "text"
      },
      "source": [
        "<a href=\"https://colab.research.google.com/github/Gabuni19/GabUni--Codigos-cpp/blob/main/MetodoSimplex.ipynb\" target=\"_parent\"><img src=\"https://colab.research.google.com/assets/colab-badge.svg\" alt=\"Open In Colab\"/></a>"
      ]
    },
    {
      "cell_type": "markdown",
      "source": [
        "#Metodo Simplex"
      ],
      "metadata": {
        "id": "R_8f-uwb12rN"
      }
    },
    {
      "cell_type": "markdown",
      "source": [
        "**maximizar  :** F(X) \\\\\n",
        "**sujeto a   :**  E1(X),E2(X), .... En(X)"
      ],
      "metadata": {
        "id": "43hme-W81_UR"
      }
    },
    {
      "cell_type": "code",
      "source": [
        "import numpy as np\n",
        "from tabulate import tabulate\n",
        "\n",
        "#Definimos la funcion objetivo\n",
        "F = np.array([3,1,3])\n",
        "#Definimos las ecuaciones\n",
        "E =np.array( [ [2,1,1,2] , [1,2,3,5] ,[2,2,1,6] ] )\n",
        "\n",
        "\n",
        "def MetodoSimplex(F,E):\n",
        "  #Calculamos variables auxiliares\n",
        "  n_variables = np.shape(F)[0]\n",
        "  n_ecuaciones =  np.shape(E)[0]\n",
        "  print(\"Numero de variables: {}\".format(n_variables))\n",
        "  print(\"Numero de ecuaciones: {}\\n\".format(n_ecuaciones))\n",
        "\n",
        "  #Creamos el arreglo que contiene el indice de las variables de la columna r\n",
        "  indice_var = np.array([-1 for i  in range(n_variables)])\n",
        "  print(indice_var)\n",
        "  # Paso1 :Creacion de la matriz\n",
        "  n_filas = n_ecuaciones+1\n",
        "  n_columnas =  (n_variables)*2+2\n",
        "  M = np.zeros((n_filas,n_columnas))\n",
        "\n",
        "  # Paso 2 : Rellenamos la matriz\n",
        "  # 1) Rellanamos la ultima fila\n",
        "  M[-1,0]=1\n",
        "  M[-1,1:n_variables+1] = F*(-1)\n",
        "\n",
        "\n",
        "  # 2) Rellenamos las demas filas\n",
        "  for i in range(n_ecuaciones):\n",
        "    M[i,1:n_variables+1] = E[i,:n_variables] #Rellenando las variables no basicas\n",
        "    M[i,-1] = E[i,-1] #Rellenando resultado\n",
        "    M[i,n_variables+1+i]=1 #Rellenamos la diagonal 1\n",
        "\n",
        "  # Establecer opciones de impresión para NumPy\n",
        "  np.set_printoptions(precision=4, suppress=True)\n",
        "\n",
        "  print(tabulate([[M]],headers = [\"Matriz Simplex\"], tablefmt=\"grid\"))\n",
        "\n",
        "\n",
        "  while True :\n",
        "    # Paso 3 : Seleccionamos de la fila z la columna q\n",
        "    fila_z  = M[-1,1:n_variables+1]\n",
        "\n",
        "    mayor=-1\n",
        "    columna_q =0\n",
        "    for i in range(n_variables):\n",
        "      if(fila_z[i]<0 and abs(fila_z[i])>mayor):\n",
        "        mayor=i\n",
        "        columna_q=i+1\n",
        "\n",
        "    print(tabulate([[fila_z,fila_z[columna_q-1],columna_q]],headers = [\"Fila z (NO BASICA)\",\"Mayor\",\"Columna Escogida\"], tablefmt=\"grid\"))\n",
        "\n",
        "    # Paso 4 : Calcula las razones\n",
        "    fila_resultado = M[:n_ecuaciones,-1] / M[:n_ecuaciones,columna_q]\n",
        "\n",
        "    aiq = M[:n_ecuaciones,columna_q]\n",
        "\n",
        "    no_acotado = True\n",
        "    for a in aiq:\n",
        "      if a > 0:\n",
        "        no_acotado = False\n",
        "\n",
        "\n",
        "    if(no_acotado):\n",
        "      print(\" [-] El problema no esta acotado.\")\n",
        "      break\n",
        "\n",
        "    # Paso 5 :Se elige la menor razon positiva\n",
        "    menor =99999\n",
        "    fila_q=0\n",
        "    for i in range(len(fila_resultado)):\n",
        "      if(fila_resultado[i]>0 and fila_resultado[i]<menor):\n",
        "        menor = fila_resultado[i]\n",
        "        fila_q=i\n",
        "\n",
        "    #Asignamos un valor al arreglo de indices\n",
        "    indice_var[fila_q] = columna_q\n",
        "\n",
        "    print(tabulate([[fila_resultado,fila_resultado[fila_q],fila_q]],headers = [\"Fila Razones (bi/aiq)\",\"Menor\",\"Fila Escogida\"], tablefmt=\"grid\"))\n",
        "\n",
        "    # Paso 6 : Seleccionamos el pivote\n",
        "    pivote = M[fila_q,columna_q]\n",
        "    print(\"\\n -> Pivote: {}\".format(pivote))\n",
        "\n",
        "    # Paso 7 : Aplicamos operaciones elementales\n",
        "    # Hacemos 1 el pivote\n",
        "    for i in range(n_columnas):\n",
        "      M[fila_q,i] /= pivote\n",
        "\n",
        "    pivote = M[fila_q,columna_q]\n",
        "\n",
        "    print(\" -> (Fila {}) / pivote\".format(fila_q))\n",
        "    print(\" -> Nuevo pivote : {}\".format(pivote))\n",
        "    print(tabulate([[M]],headers = [\"Matriz Simplex\"], tablefmt=\"grid\"))\n",
        "\n",
        "    print(\" [+] Hacemos 0 la (Columna {})\".format(columna_q))\n",
        "    # y hacemos 0 la columna q\n",
        "    for i in range(n_filas):\n",
        "      if i != fila_q:\n",
        "        factor = -M[i,columna_q]\n",
        "        for j in range(n_columnas):\n",
        "          M[i,j] = M[i,j] + factor*M[fila_q,j]\n",
        "\n",
        "    print(tabulate([[M]],headers = [\"Matriz Simplex\"], tablefmt=\"grid\"))\n",
        "\n",
        "    # Paso 8 : Si todos los coeficientes de la fila z en cuyas columnas estan\n",
        "    # x1, x2, , xn son positivas o ceros, se para. Sino se regresa al paso 3 y se\n",
        "    # repite el proceso.\n",
        "    if all(x >= 0 for x in M[-1, 1:n_variables + 1]):\n",
        "            break\n",
        "\n",
        "  print(tabulate([[M]],headers = [\"Matriz Simplex\"], tablefmt=\"grid\"))\n",
        "\n",
        "  columna_r =  M[:,-1]\n",
        "\n",
        "  print(\" Arreglo indices:\",indice_var)\n",
        "  k=0\n",
        "  for i in indice_var:\n",
        "    if i!=-1:\n",
        "      print(\" -> x{} = {}\".format(i,columna_r[k]))\n",
        "      k+=1\n",
        "    else:\n",
        "      print(\" -> x{} = {}\".format(k,0))\n",
        "\n",
        "\n",
        "\n",
        "  print(\" [+] Maximo Valor =  {}\".format(columna_r[-1]))\n",
        "\n",
        "MetodoSimplex(F,E)"
      ],
      "metadata": {
        "colab": {
          "base_uri": "https://localhost:8080/"
        },
        "id": "nuemaKsU190f",
        "outputId": "5172e5d0-f004-40f0-b893-abb200997e1d"
      },
      "execution_count": 56,
      "outputs": [
        {
          "output_type": "stream",
          "name": "stdout",
          "text": [
            "Numero de variables: 3\n",
            "Numero de ecuaciones: 3\n",
            "\n",
            "[-1 -1 -1]\n",
            "+-------------------------------------+\n",
            "| Matriz Simplex                      |\n",
            "+=====================================+\n",
            "| [[ 0.  2.  1.  1.  1.  0.  0.  2.]  |\n",
            "|  [ 0.  1.  2.  3.  0.  1.  0.  5.]  |\n",
            "|  [ 0.  2.  2.  1.  0.  0.  1.  6.]  |\n",
            "|  [ 1. -3. -1. -3.  0.  0.  0.  0.]] |\n",
            "+-------------------------------------+\n",
            "+----------------------+---------+--------------------+\n",
            "| Fila z (NO BASICA)   |   Mayor |   Columna Escogida |\n",
            "+======================+=========+====================+\n",
            "| [-3. -1. -3.]        |      -3 |                  3 |\n",
            "+----------------------+---------+--------------------+\n",
            "+-------------------------+---------+-----------------+\n",
            "| Fila Razones (bi/aiq)   |   Menor |   Fila Escogida |\n",
            "+=========================+=========+=================+\n",
            "| [2.     1.6667 6.    ]  | 1.66667 |               1 |\n",
            "+-------------------------+---------+-----------------+\n",
            "\n",
            " -> Pivote: 3.0\n",
            " -> (Fila 1) / pivote\n",
            " -> Nuevo pivote : 1.0\n",
            "+---------------------------------------------------------------------+\n",
            "| Matriz Simplex                                                      |\n",
            "+=====================================================================+\n",
            "| [[ 0.      2.      1.      1.      1.      0.      0.      2.    ]  |\n",
            "|  [ 0.      0.3333  0.6667  1.      0.      0.3333  0.      1.6667]  |\n",
            "|  [ 0.      2.      2.      1.      0.      0.      1.      6.    ]  |\n",
            "|  [ 1.     -3.     -1.     -3.      0.      0.      0.      0.    ]] |\n",
            "+---------------------------------------------------------------------+\n",
            " [+] Hacemos 0 la (Columna 3)\n",
            "+---------------------------------------------------------------------+\n",
            "| Matriz Simplex                                                      |\n",
            "+=====================================================================+\n",
            "| [[ 0.      1.6667  0.3333  0.      1.     -0.3333  0.      0.3333]  |\n",
            "|  [ 0.      0.3333  0.6667  1.      0.      0.3333  0.      1.6667]  |\n",
            "|  [ 0.      1.6667  1.3333  0.      0.     -0.3333  1.      4.3333]  |\n",
            "|  [ 1.     -2.      1.      0.      0.      1.      0.      5.    ]] |\n",
            "+---------------------------------------------------------------------+\n",
            "+----------------------+---------+--------------------+\n",
            "| Fila z (NO BASICA)   |   Mayor |   Columna Escogida |\n",
            "+======================+=========+====================+\n",
            "| [-2.  1.  0.]        |      -2 |                  1 |\n",
            "+----------------------+---------+--------------------+\n",
            "+-------------------------+---------+-----------------+\n",
            "| Fila Razones (bi/aiq)   |   Menor |   Fila Escogida |\n",
            "+=========================+=========+=================+\n",
            "| [0.2 5.  2.6]           |     0.2 |               0 |\n",
            "+-------------------------+---------+-----------------+\n",
            "\n",
            " -> Pivote: 1.6666666666666667\n",
            " -> (Fila 0) / pivote\n",
            " -> Nuevo pivote : 1.0\n",
            "+---------------------------------------------------------------------+\n",
            "| Matriz Simplex                                                      |\n",
            "+=====================================================================+\n",
            "| [[ 0.      1.      0.2     0.      0.6    -0.2     0.      0.2   ]  |\n",
            "|  [ 0.      0.3333  0.6667  1.      0.      0.3333  0.      1.6667]  |\n",
            "|  [ 0.      1.6667  1.3333  0.      0.     -0.3333  1.      4.3333]  |\n",
            "|  [ 1.     -2.      1.      0.      0.      1.      0.      5.    ]] |\n",
            "+---------------------------------------------------------------------+\n",
            " [+] Hacemos 0 la (Columna 1)\n",
            "+---------------------------------------------+\n",
            "| Matriz Simplex                              |\n",
            "+=============================================+\n",
            "| [[ 0.   1.   0.2  0.   0.6 -0.2  0.   0.2]  |\n",
            "|  [ 0.   0.   0.6  1.  -0.2  0.4  0.   1.6]  |\n",
            "|  [ 0.   0.   1.   0.  -1.   0.   1.   4. ]  |\n",
            "|  [ 1.   0.   1.4  0.   1.2  0.6  0.   5.4]] |\n",
            "+---------------------------------------------+\n",
            "+---------------------------------------------+\n",
            "| Matriz Simplex                              |\n",
            "+=============================================+\n",
            "| [[ 0.   1.   0.2  0.   0.6 -0.2  0.   0.2]  |\n",
            "|  [ 0.   0.   0.6  1.  -0.2  0.4  0.   1.6]  |\n",
            "|  [ 0.   0.   1.   0.  -1.   0.   1.   4. ]  |\n",
            "|  [ 1.   0.   1.4  0.   1.2  0.6  0.   5.4]] |\n",
            "+---------------------------------------------+\n",
            " Arreglo indices: [ 1  3 -1]\n",
            " -> x1 = 0.19999999999999996\n",
            " -> x3 = 1.6\n",
            " -> x2 = 0\n",
            " [+] Maximo Valor =  5.4\n"
          ]
        }
      ]
    },
    {
      "cell_type": "code",
      "source": [
        "print(E[-1,0])"
      ],
      "metadata": {
        "colab": {
          "base_uri": "https://localhost:8080/"
        },
        "id": "uvyg8uIR13Zv",
        "outputId": "7f4c9be1-4129-41cb-c1ed-1f490c6fd9d9"
      },
      "execution_count": null,
      "outputs": [
        {
          "output_type": "stream",
          "name": "stdout",
          "text": [
            "7\n"
          ]
        }
      ]
    },
    {
      "cell_type": "code",
      "source": [],
      "metadata": {
        "colab": {
          "base_uri": "https://localhost:8080/"
        },
        "id": "VG2aM1Gp3h53",
        "outputId": "aa7e91f3-b72b-431e-8162-f5e8edec35dc"
      },
      "execution_count": null,
      "outputs": [
        {
          "output_type": "execute_result",
          "data": {
            "text/plain": [
              "array([7, 9])"
            ]
          },
          "metadata": {},
          "execution_count": 9
        }
      ]
    },
    {
      "cell_type": "code",
      "source": [
        "\n"
      ],
      "metadata": {
        "id": "rrHPvBM0JkDh"
      },
      "execution_count": null,
      "outputs": []
    }
  ]
}