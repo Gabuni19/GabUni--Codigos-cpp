{
  "nbformat": 4,
  "nbformat_minor": 0,
  "metadata": {
    "colab": {
      "provenance": [],
      "collapsed_sections": [
        "5fSos5xIa_8X",
        "v0hmrNQObGc_"
      ],
      "authorship_tag": "ABX9TyPnW58vE5fyyor7qcMELSzQ",
      "include_colab_link": true
    },
    "kernelspec": {
      "name": "python3",
      "display_name": "Python 3"
    },
    "language_info": {
      "name": "python"
    }
  },
  "cells": [
    {
      "cell_type": "markdown",
      "metadata": {
        "id": "view-in-github",
        "colab_type": "text"
      },
      "source": [
        "<a href=\"https://colab.research.google.com/github/Gabuni19/GabUni--Codigos-cpp/blob/main/Problema_del_Agente_Viajero.ipynb\" target=\"_parent\"><img src=\"https://colab.research.google.com/assets/colab-badge.svg\" alt=\"Open In Colab\"/></a>"
      ]
    },
    {
      "cell_type": "markdown",
      "source": [
        "## TSP (✈) - `Traveling Salesman Problem`"
      ],
      "metadata": {
        "id": "HMAdTxPdb2j5"
      }
    },
    {
      "cell_type": "markdown",
      "source": [
        "### FUERZA BRUTA"
      ],
      "metadata": {
        "id": "5fSos5xIa_8X"
      }
    },
    {
      "cell_type": "code",
      "execution_count": null,
      "metadata": {
        "id": "I1bZMTxzMnKN"
      },
      "outputs": [],
      "source": [
        "import numpy as np"
      ]
    },
    {
      "cell_type": "code",
      "source": [
        "def FirstRestriction(x,n):\n",
        "  for j in range(n):\n",
        "    s=0\n",
        "    for i in range(n):\n",
        "      if i!=j:\n",
        "        s += x[i][j]\n",
        "    # La suma para este J debe ser 1\n",
        "    if(s!=1):\n",
        "      return False\n",
        "  return True"
      ],
      "metadata": {
        "id": "6qIrzciDc1k-"
      },
      "execution_count": null,
      "outputs": []
    },
    {
      "cell_type": "code",
      "source": [
        "def SecondRestriction(x,n):\n",
        "  for i in range(n):\n",
        "    s=0\n",
        "    for j in range(n):\n",
        "      if j!=i:\n",
        "        s += x[i][j]\n",
        "    # La suma para este i debe ser 1\n",
        "    if(s!=1):\n",
        "      return False\n",
        "  return True\n"
      ],
      "metadata": {
        "id": "jzFvmd4vez-p"
      },
      "execution_count": null,
      "outputs": []
    },
    {
      "cell_type": "code",
      "source": [
        "def ThirdRestriction(x,n):\n",
        "  ini = 2\n",
        "  fin = n-2;\n",
        "  conjunto = list(range(n))\n",
        "  for n_sub in range(ini,fin+1):\n",
        "    for U in subConjunto(n,n_sub):\n",
        "      s = 0\n",
        "      for i in U:\n",
        "        for j in Complemento(U,n):\n",
        "          s += x[i][j]\n",
        "      if s<1:\n",
        "        return False\n",
        "  return True"
      ],
      "metadata": {
        "id": "YXk-Wo-AfI0D"
      },
      "execution_count": null,
      "outputs": []
    },
    {
      "cell_type": "code",
      "source": [
        "def subConjunto(n,m):\n",
        "  # n>m\n",
        "  Subconjuntos = []\n",
        "  for i in range(2**n):\n",
        "    binario = bin(i)[2:].zfill(n)\n",
        "    if(binario.count(\"1\")== m ):\n",
        "      combinacion = [j for j,bit in enumerate(binario) if bit==\"1\"]\n",
        "      Subconjuntos.append(combinacion)\n",
        "  return Subconjuntos"
      ],
      "metadata": {
        "id": "cEUtOAbOe_5k"
      },
      "execution_count": null,
      "outputs": []
    },
    {
      "cell_type": "code",
      "source": [
        "def Complemento(U,n):\n",
        "  return [j for j in range(n) if all(j != k for k in U)]"
      ],
      "metadata": {
        "id": "HLVTmDr7gQ1u"
      },
      "execution_count": null,
      "outputs": []
    },
    {
      "cell_type": "code",
      "source": [
        "Complemento([1,2],5)"
      ],
      "metadata": {
        "colab": {
          "base_uri": "https://localhost:8080/"
        },
        "id": "1lJGgP2Bh2yD",
        "outputId": "695364c3-1ec1-4d3a-882d-e464d7ede0e2"
      },
      "execution_count": null,
      "outputs": [
        {
          "output_type": "execute_result",
          "data": {
            "text/plain": [
              "[0, 3, 4]"
            ]
          },
          "metadata": {},
          "execution_count": 36
        }
      ]
    },
    {
      "cell_type": "code",
      "source": [
        "x = np.array([\n",
        "    [0,1,0,0],\n",
        "    [0,0,1,0],\n",
        "    [0,0,0,1],\n",
        "    [1,0,0,0]\n",
        "])"
      ],
      "metadata": {
        "id": "qZh9JdF5lHEq"
      },
      "execution_count": null,
      "outputs": []
    },
    {
      "cell_type": "code",
      "source": [
        "FirstRestriction(x,4)"
      ],
      "metadata": {
        "colab": {
          "base_uri": "https://localhost:8080/"
        },
        "id": "9wlsMoZcng-5",
        "outputId": "085e4581-bd77-4e4d-ff62-67a37cc0dbfd"
      },
      "execution_count": null,
      "outputs": [
        {
          "output_type": "execute_result",
          "data": {
            "text/plain": [
              "True"
            ]
          },
          "metadata": {},
          "execution_count": 54
        }
      ]
    },
    {
      "cell_type": "code",
      "source": [
        "SecondRestriction(x,4)"
      ],
      "metadata": {
        "colab": {
          "base_uri": "https://localhost:8080/"
        },
        "id": "Gj3vtmz4nkWj",
        "outputId": "82525dfa-03a0-4798-bb2a-e7efde53a719"
      },
      "execution_count": null,
      "outputs": [
        {
          "output_type": "execute_result",
          "data": {
            "text/plain": [
              "True"
            ]
          },
          "metadata": {},
          "execution_count": 55
        }
      ]
    },
    {
      "cell_type": "code",
      "source": [
        "ThirdRestriction(x,4)"
      ],
      "metadata": {
        "colab": {
          "base_uri": "https://localhost:8080/"
        },
        "id": "n6Kn3GqGoLFe",
        "outputId": "14960af3-34ea-4ebc-d082-a40b72d00f7b"
      },
      "execution_count": null,
      "outputs": [
        {
          "output_type": "execute_result",
          "data": {
            "text/plain": [
              "True"
            ]
          },
          "metadata": {},
          "execution_count": 56
        }
      ]
    },
    {
      "cell_type": "code",
      "source": [
        "def P_X(n, m):\n",
        "    def Recursiva(x, fila, columna, m_rest, n):\n",
        "        if m_rest == 0:\n",
        "            lpos.append(x.copy())\n",
        "            return\n",
        "        for i in range(n):\n",
        "            for j in range(n):\n",
        "                if i != j and x[i][j] == 0:\n",
        "                    x[i][j] = 1\n",
        "                    Recursiva(x, i, j, m_rest-1, n)\n",
        "                    x[i][j] = 0\n",
        "\n",
        "    lpos = []  # Lista para almacenar las posiciones\n",
        "    x = np.zeros((n, n), dtype=int)\n",
        "    Recursiva(x, 0, 0, m, n)\n",
        "    return lpos"
      ],
      "metadata": {
        "id": "FeYu8sfcoNxn"
      },
      "execution_count": null,
      "outputs": []
    },
    {
      "cell_type": "code",
      "source": [
        "resultados = P_X(2,1)"
      ],
      "metadata": {
        "id": "DwRRUX2e3GW_"
      },
      "execution_count": null,
      "outputs": []
    },
    {
      "cell_type": "code",
      "source": [
        "for matriz in resultados:\n",
        "    print(matriz)"
      ],
      "metadata": {
        "colab": {
          "base_uri": "https://localhost:8080/"
        },
        "id": "dfhZ-XNb3zGZ",
        "outputId": "77fd9c44-8943-48c4-90e2-1eeefa66bbde"
      },
      "execution_count": null,
      "outputs": [
        {
          "output_type": "stream",
          "name": "stdout",
          "text": [
            "[[0 1]\n",
            " [0 0]]\n",
            "[[0 0]\n",
            " [1 0]]\n"
          ]
        }
      ]
    },
    {
      "cell_type": "code",
      "source": [
        "W = np.array([\n",
        "    [0,6,9,3],\n",
        "    [6,0,5,4],\n",
        "    [9,5,0,7],\n",
        "    [3,4,7,0]\n",
        "])"
      ],
      "metadata": {
        "id": "gR6353riPEh_"
      },
      "execution_count": null,
      "outputs": []
    },
    {
      "cell_type": "code",
      "source": [
        "X = np.array([\n",
        "    [0,6,9,3],\n",
        "    [6,0,5,4],\n",
        "    [9,5,0,7],\n",
        "    [3,4,7,0]\n",
        "])"
      ],
      "metadata": {
        "id": "dQNgVzbcTSGm"
      },
      "execution_count": null,
      "outputs": []
    },
    {
      "cell_type": "code",
      "source": [
        "np.sum(X*W)"
      ],
      "metadata": {
        "colab": {
          "base_uri": "https://localhost:8080/"
        },
        "id": "g4uaQOuFTTo2",
        "outputId": "4d9c3122-0276-4ba9-ec1b-a7d083821809"
      },
      "execution_count": null,
      "outputs": [
        {
          "output_type": "execute_result",
          "data": {
            "text/plain": [
              "432"
            ]
          },
          "metadata": {},
          "execution_count": 129
        }
      ]
    },
    {
      "cell_type": "code",
      "source": [
        "np.shape(W)"
      ],
      "metadata": {
        "colab": {
          "base_uri": "https://localhost:8080/"
        },
        "id": "GPAGlWcjPbG8",
        "outputId": "e4b91d2c-e3bf-47ef-865d-18883230f68d"
      },
      "execution_count": null,
      "outputs": [
        {
          "output_type": "execute_result",
          "data": {
            "text/plain": [
              "(4, 4)"
            ]
          },
          "metadata": {},
          "execution_count": 123
        }
      ]
    },
    {
      "cell_type": "code",
      "source": [
        "import numpy as np\n",
        "import time\n",
        "\n",
        "def FirstRestriction(x,n):\n",
        "  for j in range(n):\n",
        "    s=0\n",
        "    for i in range(n):\n",
        "      if i!=j:\n",
        "        s += x[i][j]\n",
        "    # La suma para este J debe ser 1\n",
        "    if(s!=1):\n",
        "      return False\n",
        "  return True\n",
        "\n",
        "def SecondRestriction(x,n):\n",
        "  for i in range(n):\n",
        "    s=0\n",
        "    for j in range(n):\n",
        "      if j!=i:\n",
        "        s += x[i][j]\n",
        "    # La suma para este i debe ser 1\n",
        "    if(s!=1):\n",
        "      return False\n",
        "  return True\n",
        "\n",
        "def ThirdRestriction(x,n):\n",
        "  ini = 2\n",
        "  fin = n-2;\n",
        "  conjunto = list(range(n))\n",
        "  for n_sub in range(ini,fin+1):\n",
        "    for U in subConjunto(n,n_sub):\n",
        "      s = 0\n",
        "      for i in U:\n",
        "        for j in Complemento(U,n):\n",
        "          s += x[i][j]\n",
        "      if s<1:\n",
        "        return False\n",
        "  return True\n",
        "\n",
        "def subConjunto(n,m):\n",
        "  # n>m\n",
        "  Subconjuntos = []\n",
        "  for i in range(2**n):\n",
        "    binario = bin(i)[2:].zfill(n)\n",
        "    if(binario.count(\"1\")== m ):\n",
        "      combinacion = [j for j,bit in enumerate(binario) if bit==\"1\"]\n",
        "      Subconjuntos.append(combinacion)\n",
        "  return Subconjuntos\n",
        "\n",
        "def Complemento(U,n):\n",
        "  return [j for j in range(n) if all(j != k for k in U)]\n",
        "\n",
        "def CheckRestrictions(X,N):\n",
        "  cond1 = FirstRestriction(X,N)\n",
        "  cond2 = SecondRestriction(X,N)\n",
        "  cond3 = ThirdRestriction(X,N)\n",
        "  return cond1 and cond2 and cond3\n",
        "\n",
        "def Costo(X,W):\n",
        "  return np.sum(X*W)\n",
        "\n",
        "def P_X(n, m):\n",
        "    def Recursiva(x, fila, columna, m_rest, n):\n",
        "        if m_rest == 0:\n",
        "            lpos.append(x.copy())\n",
        "            return\n",
        "        for i in range(n):\n",
        "            for j in range(n):\n",
        "                if i != j and x[i][j] == 0:\n",
        "                    x[i][j] = 1\n",
        "                    Recursiva(x, i, j, m_rest-1, n)\n",
        "                    x[i][j] = 0\n",
        "\n",
        "    lpos = []  # Lista para almacenar las posiciones\n",
        "    x = np.zeros((n, n), dtype=int)\n",
        "    Recursiva(x, 0, 0, m, n)\n",
        "    return lpos\n",
        "\n",
        "def AgenteViajero_FuerzaBruta(W):\n",
        "  print(\"=== TSP - FUERZA BRUTA ===\\n\")\n",
        "\n",
        "  # inicio del tiempo\n",
        "  inicio = time.time()\n",
        "\n",
        "  # Almacenamos el N\n",
        "  n_f,n_c = np.shape(W)\n",
        "  N = n_f\n",
        "\n",
        "  # Almacenamos las Posibles Soluciones\n",
        "  Posibles_Xij = P_X(N,N)\n",
        "  # Variable solucion\n",
        "  S = []\n",
        "  minCosto = 99999\n",
        "  #Buscamos el Minimo\n",
        "  for Xij in Posibles_Xij:\n",
        "    if(CheckRestrictions(Xij,N) and (Costo(Xij,W)) < minCosto ):\n",
        "      minCosto = Costo(Xij,W)\n",
        "      S = Xij\n",
        "\n",
        "  fin = time.time()\n",
        "\n",
        "  #Calculamos el tiempo\n",
        "  T_time = fin - inicio\n",
        "\n",
        "  # Mostramos Solucion\n",
        "  print(f\" [+] Tiempo : {T_time} s\")\n",
        "  print(f\" [+] Costo Minimo : {minCosto}\")\n",
        "  print(f\" [+] Solución : \\n{S}\")\n",
        "\n",
        "  # Mostramos Camino\n",
        "  print(f\" \\n[+] Camino Solucion:\")\n",
        "  for i in range(N):\n",
        "    for j in range(N):\n",
        "      if S[i][j]==1:\n",
        "        print(f\"{i+1}- ( Peso : {W[i][j]}) -> {j+1}\")"
      ],
      "metadata": {
        "id": "M9Z6c7CBOjZG"
      },
      "execution_count": null,
      "outputs": []
    },
    {
      "cell_type": "code",
      "source": [
        "W = np.array([\n",
        "    [0,6,9,3],\n",
        "    [6,0,5,4],\n",
        "    [9,5,0,7],\n",
        "    [3,4,7,0]\n",
        "])\n",
        "\n",
        "AgenteViajero_FuerzaBruta(W)"
      ],
      "metadata": {
        "colab": {
          "base_uri": "https://localhost:8080/"
        },
        "id": "ieFAdmCDUvwj",
        "outputId": "5f28dd4d-c83f-4830-dc22-0c1ac64fcccf"
      },
      "execution_count": null,
      "outputs": [
        {
          "output_type": "stream",
          "name": "stdout",
          "text": [
            "=== TSP - FUERZA BRUTA ===\n",
            "\n",
            " [+] Tiempo : 0.5806398391723633 s\n",
            " [+] Costo Minimo : 21\n",
            " [+] Solución : \n",
            "[[0 1 0 0]\n",
            " [0 0 1 0]\n",
            " [0 0 0 1]\n",
            " [1 0 0 0]]\n",
            " \n",
            "[+] Camino Solucion:\n",
            "1- ( Peso : 6) -> 2\n",
            "2- ( Peso : 5) -> 3\n",
            "3- ( Peso : 7) -> 4\n",
            "4- ( Peso : 3) -> 1\n"
          ]
        }
      ]
    },
    {
      "cell_type": "code",
      "source": [
        "W = np.array([\n",
        "    [0,6,9,3,4],\n",
        "    [6,0,5,4,1],\n",
        "    [9,5,0,7,1],\n",
        "    [3,4,7,0,1],\n",
        "    [4,1,1,1,0]\n",
        "])\n",
        "\n",
        "AgenteViajero_FuerzaBruta(W)"
      ],
      "metadata": {
        "colab": {
          "base_uri": "https://localhost:8080/"
        },
        "id": "19BxVHVHPP3s",
        "outputId": "cbf6e8cc-fa69-4508-db78-50ce39bcf600"
      },
      "execution_count": null,
      "outputs": [
        {
          "output_type": "stream",
          "name": "stdout",
          "text": [
            "=== TSP - FUERZA BRUTA ===\n",
            "\n",
            " [+] Tiempo : 218.90440845489502 s\n",
            " [+] Costo Minimo : 16\n",
            " [+] Solución : \n",
            "[[0 1 0 0 0]\n",
            " [0 0 1 0 0]\n",
            " [0 0 0 0 1]\n",
            " [1 0 0 0 0]\n",
            " [0 0 0 1 0]]\n",
            " \n",
            "[+] Camino Solucion:\n",
            "1- ( Peso : 6) -> 2\n",
            "2- ( Peso : 5) -> 3\n",
            "3- ( Peso : 1) -> 5\n",
            "4- ( Peso : 3) -> 1\n",
            "5- ( Peso : 1) -> 4\n"
          ]
        }
      ]
    },
    {
      "cell_type": "markdown",
      "source": [
        "### Heurística : `GREADY`"
      ],
      "metadata": {
        "id": "v0hmrNQObGc_"
      }
    },
    {
      "cell_type": "markdown",
      "source": [
        "#### Criterio: **El camino mas corto no visitado**"
      ],
      "metadata": {
        "id": "AdPI-rIlb4Nq"
      }
    },
    {
      "cell_type": "code",
      "source": [
        "import numpy as np\n",
        "import time"
      ],
      "metadata": {
        "id": "NyYTiKdmRako"
      },
      "execution_count": null,
      "outputs": []
    },
    {
      "cell_type": "code",
      "source": [
        "W = np.array([\n",
        "    [0,6,9,3],\n",
        "    [6,0,5,4],\n",
        "    [9,5,0,7],\n",
        "    [3,4,7,0]\n",
        "])"
      ],
      "metadata": {
        "id": "nD7vObLXbUw7"
      },
      "execution_count": null,
      "outputs": []
    },
    {
      "cell_type": "code",
      "source": [
        "import time\n",
        "import numpy as np\n",
        "\n",
        "def TSP_Gready(W):\n",
        "  print(\"=== TSP - Gready ===\\n\")\n",
        "  inicio = time.time()\n",
        "  N,N_c = np.shape(W)\n",
        "  S = [0]\n",
        "  ini = S[0]\n",
        "  visited = np.zeros(N)\n",
        "  visited[0]=1\n",
        "  while not np.all(visited):\n",
        "    minV = float('inf')\n",
        "    for j in range(N_c):\n",
        "      if W[ini][j]!=0 and W[ini][j]<minV and visited[j]==0:\n",
        "        minV = W[ini][j]\n",
        "        ind_Vecino = j\n",
        "    visited[ind_Vecino]=1\n",
        "    ini = ind_Vecino\n",
        "    S.append(ind_Vecino)\n",
        "  fin = time.time()\n",
        "  time_T = fin - inicio\n",
        "  S.append(S[0])\n",
        "  print(f\"Solucion: {S}\")\n",
        "\n",
        "  print(f\"Time: {time_T:.8f}\")\n",
        "  print(\"\\nCamino:\")\n",
        "  s=0\n",
        "  for i in range(len(S)-1):\n",
        "    s+=W[S[i]][S[i+1]]\n",
        "    print(f\" {S[i]} -({W[S[i]][S[i+1]]})-> {S[i+1]}\")\n",
        "\n",
        "  print(f\"Costo min: {s}\")\n"
      ],
      "metadata": {
        "id": "IcP-n904cFvw"
      },
      "execution_count": null,
      "outputs": []
    },
    {
      "cell_type": "code",
      "source": [
        "TSP_Gready(W)"
      ],
      "metadata": {
        "colab": {
          "base_uri": "https://localhost:8080/"
        },
        "id": "r1BayoEld9d2",
        "outputId": "ff8c8ab6-9f72-4b3b-ac76-b54b5f457b59"
      },
      "execution_count": null,
      "outputs": [
        {
          "output_type": "stream",
          "name": "stdout",
          "text": [
            "=== TSP - Gready ===\n",
            "\n",
            "Solucion: [0, 3, 4, 1, 5, 2, 0]\n",
            "Time: 0.00057578\n",
            "\n",
            "Camino:\n",
            " 0 -(3)-> 3\n",
            " 3 -(1)-> 4\n",
            " 4 -(1)-> 1\n",
            " 1 -(2)-> 5\n",
            " 5 -(4)-> 2\n",
            " 2 -(9)-> 0\n",
            "Costo min: 20\n"
          ]
        }
      ]
    },
    {
      "cell_type": "code",
      "source": [
        "W = np.array([\n",
        "    [0,6,9,3,4,5],\n",
        "    [6,0,5,4,1,2],\n",
        "    [9,5,0,7,1,4],\n",
        "    [3,4,7,0,1,2],\n",
        "    [4,1,1,1,0,2],\n",
        "    [5,2,4,2,2,0]\n",
        "])\n",
        "TSP_Gready(W)"
      ],
      "metadata": {
        "colab": {
          "base_uri": "https://localhost:8080/"
        },
        "id": "5QokG_o4Rgij",
        "outputId": "3719dc3f-c340-4399-f624-b98e58b53226"
      },
      "execution_count": null,
      "outputs": [
        {
          "output_type": "stream",
          "name": "stdout",
          "text": [
            "=== TSP - Gready ===\n",
            "\n",
            "Solucion: [0, 3, 4, 1, 5, 2, 0]\n",
            "Time: 0.00023985\n",
            "\n",
            "Camino:\n",
            " 0 -(3)-> 3\n",
            " 3 -(1)-> 4\n",
            " 4 -(1)-> 1\n",
            " 1 -(2)-> 5\n",
            " 5 -(4)-> 2\n",
            " 2 -(9)-> 0\n",
            "Costo min: 20\n"
          ]
        }
      ]
    },
    {
      "cell_type": "markdown",
      "source": [
        "### Heuristica : `Local Search`"
      ],
      "metadata": {
        "id": "15RdIewOO0ZY"
      }
    },
    {
      "cell_type": "code",
      "source": [
        "import numpy as np\n",
        "import time"
      ],
      "metadata": {
        "id": "icZicc0liT40"
      },
      "execution_count": 3,
      "outputs": []
    },
    {
      "cell_type": "code",
      "source": [
        "W = np.array([\n",
        "    [0,6,9,3,4,5],\n",
        "    [6,0,5,4,1,2],\n",
        "    [9,5,0,7,1,4],\n",
        "    [3,4,7,0,1,2],\n",
        "    [4,1,1,1,0,2],\n",
        "    [5,2,4,2,2,0]\n",
        "])"
      ],
      "metadata": {
        "id": "CUyAYj6zO83s"
      },
      "execution_count": 4,
      "outputs": []
    },
    {
      "cell_type": "code",
      "source": [
        "import random\n",
        "N =10\n",
        "arreglo =[0]+ random.sample(range(1,N), N-1)\n",
        "arreglo"
      ],
      "metadata": {
        "colab": {
          "base_uri": "https://localhost:8080/"
        },
        "id": "cexY2EH0i2EY",
        "outputId": "f6d64583-380a-46a9-dd58-07da22c98b94"
      },
      "execution_count": null,
      "outputs": [
        {
          "output_type": "execute_result",
          "data": {
            "text/plain": [
              "[0, 1, 7, 3, 2, 8, 6, 9, 4, 5]"
            ]
          },
          "metadata": {},
          "execution_count": 30
        }
      ]
    },
    {
      "cell_type": "code",
      "source": [
        "import random\n",
        "import time\n",
        "\n",
        "def CostoVecino(Xv,W,verbose=False):\n",
        "  s = 0\n",
        "  n = len(Xv)\n",
        "  for i in range(n-1):\n",
        "    if verbose : print(f\"{Xv[i]} -(Peso:{W[Xv[i]][Xv[i+1]]})-> {Xv[i+1]}\")\n",
        "    s += W[Xv[i]][Xv[i+1]]\n",
        "  return s\n",
        "\n",
        "def TSP_LocalSearch(W,iter,verbose=False):\n",
        "  print(\"=== TSP - LocalSearch ===\")\n",
        "  ini = 0\n",
        "  N,N_c = np.shape(W)\n",
        "\n",
        "  #Escogemos una solucion candidata aleatoria\n",
        "  X0 = [ini] + random.sample(range(1,N),N-1) + [ini]\n",
        "  print(f\"Solucion Inicial: {X0}\")\n",
        "  MinCost = CostoVecino(X0,W)\n",
        "  print(f\" [+] Costo Inicial: {MinCost}\")\n",
        "  i=0\n",
        "  while(i<iter):\n",
        "    t_inicio = time.time()\n",
        "    Xv = X0[1:-1].copy()\n",
        "    e_inter = random.sample(Xv,2)\n",
        "    indices_e_inter = [Xv.index(value) for value in e_inter]\n",
        "    i1 = indices_e_inter[0]\n",
        "    i2 = indices_e_inter[1]\n",
        "    Xv[i1],Xv[i2]  =  Xv[i2],Xv[i1]\n",
        "    Xv = [ini] + Xv + [ini]\n",
        "    costo = CostoVecino(Xv,W)\n",
        "    if verbose==True: print(f\"({i:2}) [+] X0:{X0} -[{e_inter}]- Xv: {Xv} - Costo: {costo}\")\n",
        "    if(costo < MinCost ):\n",
        "      # print(\"Mejora : X0 <- Xv\")\n",
        "      MinCost=costo\n",
        "      X0 = Xv\n",
        "\n",
        "    i+=1\n",
        "  t_final = time.time()\n",
        "  T = t_final - t_inicio\n",
        "  print(f\"Solucion : {X0} - MinCosto : {MinCost}\")\n",
        "  print(f\"Tiempo : {T:.8f} s\")\n",
        "  CostoVecino(X0,W,True)\n",
        "  return X0\n",
        "\n",
        "TSP_LocalSearch(W,10000)"
      ],
      "metadata": {
        "colab": {
          "base_uri": "https://localhost:8080/"
        },
        "id": "vTFmWwnliVmM",
        "outputId": "b26aa9e1-9b86-4a78-85f4-ac3687953372"
      },
      "execution_count": 7,
      "outputs": [
        {
          "output_type": "stream",
          "name": "stdout",
          "text": [
            "=== TSP - LocalSearch ===\n",
            "Solucion Inicial: [0, 2, 4, 3, 5, 1, 0]\n",
            " [+] Costo Inicial: 21\n",
            "Solucion : [0, 1, 4, 2, 5, 3, 0] - MinCosto : 17\n",
            "Tiempo : 0.00000596 s\n",
            "0 -(Peso:6)-> 1\n",
            "1 -(Peso:1)-> 4\n",
            "4 -(Peso:1)-> 2\n",
            "2 -(Peso:4)-> 5\n",
            "5 -(Peso:2)-> 3\n",
            "3 -(Peso:3)-> 0\n"
          ]
        },
        {
          "output_type": "execute_result",
          "data": {
            "text/plain": [
              "[0, 1, 4, 2, 5, 3, 0]"
            ]
          },
          "metadata": {},
          "execution_count": 7
        }
      ]
    },
    {
      "cell_type": "markdown",
      "source": [
        "## TSP(✈) ↪ `FuerzaBruta - Gready - LocalSearch `"
      ],
      "metadata": {
        "id": "Sa4eLnnIytC-"
      }
    },
    {
      "cell_type": "markdown",
      "source": [
        "### Matriz Aleatoria"
      ],
      "metadata": {
        "id": "ZzLVeEQMzkmQ"
      }
    },
    {
      "cell_type": "code",
      "source": [
        "import numpy as np\n",
        "\n",
        "W =np.random.randint(1,20,size=(2,2))\n",
        "W= (W + W.T)//2\n",
        "np.fill_diagonal(W,0)\n",
        "print(W)"
      ],
      "metadata": {
        "colab": {
          "base_uri": "https://localhost:8080/"
        },
        "id": "W2lgeTqAzjzB",
        "outputId": "a32d275c-0c07-45d5-f22a-f1d734037f82"
      },
      "execution_count": 49,
      "outputs": [
        {
          "output_type": "stream",
          "name": "stdout",
          "text": [
            "[[ 0 11]\n",
            " [11  0]]\n"
          ]
        }
      ]
    },
    {
      "cell_type": "code",
      "source": [
        "import numpy as np\n",
        "\n",
        "def Matriz_W(n):\n",
        "  W = np.random.randint(1,20,size = (n,n))\n",
        "  W = ( W + W.T )//2\n",
        "  np.fill_diagonal(W,0)\n",
        "  return W"
      ],
      "metadata": {
        "id": "WjUld8p_lZa6"
      },
      "execution_count": 33,
      "outputs": []
    },
    {
      "cell_type": "code",
      "source": [
        "Matriz_W(8)"
      ],
      "metadata": {
        "colab": {
          "base_uri": "https://localhost:8080/"
        },
        "id": "S_Px-gnI1Wi8",
        "outputId": "efa49cf8-5bea-40d6-f0d2-484e8ab0202a"
      },
      "execution_count": 38,
      "outputs": [
        {
          "output_type": "execute_result",
          "data": {
            "text/plain": [
              "array([[ 0,  6,  9, 14, 10, 12,  6, 16],\n",
              "       [ 6,  0, 10, 17, 13, 15, 10,  5],\n",
              "       [ 9, 10,  0, 10, 10, 10, 18, 14],\n",
              "       [14, 17, 10,  0,  5, 17,  9, 14],\n",
              "       [10, 13, 10,  5,  0, 18, 10,  6],\n",
              "       [12, 15, 10, 17, 18,  0,  9,  5],\n",
              "       [ 6, 10, 18,  9, 10,  9,  0, 13],\n",
              "       [16,  5, 14, 14,  6,  5, 13,  0]])"
            ]
          },
          "metadata": {},
          "execution_count": 38
        }
      ]
    },
    {
      "cell_type": "markdown",
      "source": [
        "### **Grafico TSP**"
      ],
      "metadata": {
        "id": "PXbl1y--19bs"
      }
    },
    {
      "cell_type": "code",
      "source": [
        "pip install --upgrade networkx\n"
      ],
      "metadata": {
        "colab": {
          "base_uri": "https://localhost:8080/"
        },
        "id": "y-Ut6ceZ2mfz",
        "outputId": "8d6e5d93-8dd6-48ec-b882-6698cb8ae5d6"
      },
      "execution_count": 42,
      "outputs": [
        {
          "output_type": "stream",
          "name": "stdout",
          "text": [
            "Requirement already satisfied: networkx in /usr/local/lib/python3.10/dist-packages (3.2.1)\n"
          ]
        }
      ]
    },
    {
      "cell_type": "code",
      "source": [
        "import numpy as np\n",
        "import networkx as nx\n",
        "import matplotlib.pyplot as plt"
      ],
      "metadata": {
        "id": "VOVU6slC1Y9V"
      },
      "execution_count": 40,
      "outputs": []
    },
    {
      "cell_type": "code",
      "source": [
        "matriz_pesos = Matriz_W(4)\n",
        "\n",
        "# Crear un grafo dirigido y agregar bordes con pesos\n",
        "G = nx.DiGraph()\n",
        "for i in range(len(matriz_pesos)):\n",
        "    for j in range(len(matriz_pesos)):\n",
        "        if matriz_pesos[i][j] != 0:\n",
        "            G.add_edge(i, j, weight=matriz_pesos[i][j])\n",
        "\n",
        "# Dibujar el grafo\n",
        "pos = nx.circular_layout(G)\n",
        "nx.draw(G, pos, with_labels=True, node_size=700, node_color='skyblue', font_color='black', font_size=8, arrowsize=10)\n",
        "\n",
        "# Agregar etiquetas de peso en los bordes\n",
        "etiquetas_pesos = {(i, j): matriz_pesos[i][j] for i in range(len(matriz_pesos)) for j in range(len(matriz_pesos)) if matriz_pesos[i][j] != 0}\n",
        "nx.draw_networkx_edge_labels(G, pos, edge_labels=etiquetas_pesos, font_color='red')\n",
        "\n",
        "# Mostrar el gráfico\n",
        "plt.title(\"Problema del Agente Viajero - Grafo Ponderado\")\n",
        "plt.show()"
      ],
      "metadata": {
        "colab": {
          "base_uri": "https://localhost:8080/",
          "height": 539
        },
        "id": "1IACOKyf2EJf",
        "outputId": "609a0746-cfef-4c33-fb8e-c4641e928a59"
      },
      "execution_count": 45,
      "outputs": [
        {
          "output_type": "display_data",
          "data": {
            "text/plain": [
              "<Figure size 640x480 with 1 Axes>"
            ],
            "image/png": "[encoded data removed]"
          },
          "metadata": {}
        }
      ]
    },
    {
      "cell_type": "markdown",
      "source": [
        "### Funcion : **Grafico de un TSP Aleatorio**"
      ],
      "metadata": {
        "id": "JtHngXW83QNW"
      }
    },
    {
      "cell_type": "code",
      "source": [
        "import numpy as np\n",
        "import matplotlib.pyplot as plt\n",
        "import networkx as nx\n",
        "\n",
        "def Matriz_W(n):\n",
        "  W = np.random.randint(1,20,size = (n,n))\n",
        "  W = ( W + W.T )//2\n",
        "  np.fill_diagonal(W,0)\n",
        "  return W\n",
        "\n",
        "def Graficar_W(W,size):\n",
        "  # Crear un grafo dirigido y agregar bordes con pesos\n",
        "  G = nx.DiGraph()\n",
        "  for i in range(len(W)):\n",
        "      for j in range(len(W)):\n",
        "          if W[i][j] != 0:\n",
        "              G.add_edge(i, j, weight=W[i][j])\n",
        "\n",
        "  # Dibujar el grafo\n",
        "  pos = nx.circular_layout(G)\n",
        "  plt.figure(figsize=size)\n",
        "  nx.draw(G, pos, with_labels=True, node_size=450, node_color='skyblue', font_color='black', font_size=8, arrowsize=6)\n",
        "\n",
        "  # Agregar etiquetas de peso en los bordes\n",
        "  etiquetas_pesos = {(i, j): W[i][j] for i in range(len(W)) for j in range(len(W)) if W[i][j] != 0}\n",
        "  nx.draw_networkx_edge_labels(G, pos, edge_labels=etiquetas_pesos, font_color='red')\n",
        "\n",
        "  # Mostrar el gráfico\n",
        "  plt.title(\"Problema del Agente Viajero - Grafo Ponderado\")\n",
        "  plt.show()\n",
        "\n",
        "def GenerarTSP_Aleatorio(n,s=(6,6),verbose=False):\n",
        "  W = Matriz_W(n)\n",
        "  if verbose: Graficar_W(W,size=s)\n",
        "  return W\n"
      ],
      "metadata": {
        "id": "rBBu6zxm3ZF6"
      },
      "execution_count": 10,
      "outputs": []
    },
    {
      "cell_type": "code",
      "source": [
        "W = GenerarTSP_Aleatorio(4, s =(3,3),verbose=True)"
      ],
      "metadata": {
        "colab": {
          "base_uri": "https://localhost:8080/",
          "height": 359
        },
        "id": "-bAXSNr84Aum",
        "outputId": "3e455d85-4b28-4768-8548-cc48b225b3c4"
      },
      "execution_count": 11,
      "outputs": [
        {
          "output_type": "display_data",
          "data": {
            "text/plain": [
              "<Figure size 300x300 with 1 Axes>"
            ],
            "image/png": "[encoded data removed]"
          },
          "metadata": {}
        }
      ]
    },
    {
      "cell_type": "markdown",
      "source": [
        "## **Grafico de una** `lista de Ws`"
      ],
      "metadata": {
        "id": "IW4k1DEov6Vq"
      }
    },
    {
      "cell_type": "code",
      "source": [
        "import matplotlib.pyplot as plt\n",
        "import networkx as nx\n",
        "import numpy as np\n",
        "\n",
        "def Graficar_Ws(lista_W, size):\n",
        "    num_subplots = len(lista_W)\n",
        "\n",
        "    # Crear una figura con subgráficos\n",
        "    fig, axs = plt.subplots(1, num_subplots, figsize=(size[0] * num_subplots, size[1]), gridspec_kw={'top': 0.85})\n",
        "\n",
        "    for idx, W in enumerate(lista_W):\n",
        "        # Crear un grafo dirigido y agregar bordes con pesos\n",
        "        G = nx.DiGraph()\n",
        "        for i in range(len(W)):\n",
        "            for j in range(len(W)):\n",
        "                if W[i][j] != 0 and i != j:  # Evitar dibujar bordes hacia el mismo nodo\n",
        "                    G.add_edge(i, j, weight=W[i][j])\n",
        "\n",
        "        # Dibujar el grafo en el subgráfico correspondiente\n",
        "        pos = nx.circular_layout(G)\n",
        "        axs[idx].set_title(f\"Grafo {idx + 1}\")\n",
        "        nx.draw(G, pos, with_labels=True, ax=axs[idx], node_size=450, node_color='skyblue', font_color='black', font_size=8, arrowsize=6)\n",
        "\n",
        "        # Agregar etiquetas de peso en los bordes\n",
        "        etiquetas_pesos = {(i, j): W[i][j] for i in range(len(W)) for j in range(len(W)) if W[i][j] != 0 and i != j}\n",
        "        nx.draw_networkx_edge_labels(G, pos, edge_labels=etiquetas_pesos, font_color='red', ax=axs[idx])\n",
        "\n",
        "    # Mostrar la figura con todos los subgráficos\n",
        "    plt.suptitle(\"Problema del Agente Viajero - Grafos Ponderados\", y=1)\n",
        "    plt.show()\n",
        "\n",
        "# Ejemplo de uso con dos matrices aleatorias de 4x4\n",
        "W1 = np.random.randint(1, 50, size=(4, 4))\n",
        "W2 = np.random.randint(1, 50, size=(4, 4))\n",
        "\n",
        "Graficar_Ws([W1, W2], size=(4, 4))\n",
        "\n"
      ],
      "metadata": {
        "colab": {
          "base_uri": "https://localhost:8080/",
          "height": 393
        },
        "id": "Y3XmVKS8wBAb",
        "outputId": "b3a7a539-a07d-4b1f-8f0b-d25a6def31fc"
      },
      "execution_count": 23,
      "outputs": [
        {
          "output_type": "display_data",
          "data": {
            "text/plain": [
              "<Figure size 800x400 with 2 Axes>"
            ],
            "image/png": "[encoded data removed]"
          },
          "metadata": {}
        }
      ]
    },
    {
      "cell_type": "markdown",
      "source": [
        "## TSP - Fuerza Bruta"
      ],
      "metadata": {
        "id": "1icFZ36SHmDn"
      }
    },
    {
      "cell_type": "code",
      "source": [
        "import numpy as np\n",
        "import time\n",
        "import pandas as pd\n",
        "\n",
        "def FirstRestriction(x,n):\n",
        "  for j in range(n):\n",
        "    s=0\n",
        "    for i in range(n):\n",
        "      if i!=j:\n",
        "        s += x[i][j]\n",
        "    # La suma para este J debe ser 1\n",
        "    if(s!=1):\n",
        "      return False\n",
        "  return True\n",
        "\n",
        "def SecondRestriction(x,n):\n",
        "  for i in range(n):\n",
        "    s=0\n",
        "    for j in range(n):\n",
        "      if j!=i:\n",
        "        s += x[i][j]\n",
        "    # La suma para este i debe ser 1\n",
        "    if(s!=1):\n",
        "      return False\n",
        "  return True\n",
        "\n",
        "def ThirdRestriction(x,n):\n",
        "  ini = 2\n",
        "  fin = n-2;\n",
        "  conjunto = list(range(n))\n",
        "  for n_sub in range(ini,fin+1):\n",
        "    for U in subConjunto(n,n_sub):\n",
        "      s = 0\n",
        "      for i in U:\n",
        "        for j in Complemento(U,n):\n",
        "          s += x[i][j]\n",
        "      if s<1:\n",
        "        return False\n",
        "  return True\n",
        "\n",
        "def subConjunto(n,m):\n",
        "  # n>m\n",
        "  Subconjuntos = []\n",
        "  for i in range(2**n):\n",
        "    binario = bin(i)[2:].zfill(n)\n",
        "    if(binario.count(\"1\")== m ):\n",
        "      combinacion = [j for j,bit in enumerate(binario) if bit==\"1\"]\n",
        "      Subconjuntos.append(combinacion)\n",
        "  return Subconjuntos\n",
        "\n",
        "def Complemento(U,n):\n",
        "  return [j for j in range(n) if all(j != k for k in U)]\n",
        "\n",
        "def CheckRestrictions(X,N):\n",
        "  cond1 = FirstRestriction(X,N)\n",
        "  cond2 = SecondRestriction(X,N)\n",
        "  cond3 = ThirdRestriction(X,N)\n",
        "  return cond1 and cond2 and cond3\n",
        "\n",
        "def Costo(X,W):\n",
        "  return np.sum(X*W)\n",
        "\n",
        "def P_X(n, m):\n",
        "    def Recursiva(x, fila, columna, m_rest, n):\n",
        "        if m_rest == 0:\n",
        "            lpos.append(x.copy())\n",
        "            return\n",
        "        for i in range(n):\n",
        "            for j in range(n):\n",
        "                if i != j and x[i][j] == 0:\n",
        "                    x[i][j] = 1\n",
        "                    Recursiva(x, i, j, m_rest-1, n)\n",
        "                    x[i][j] = 0\n",
        "\n",
        "    lpos = []  # Lista para almacenar las posiciones\n",
        "    x = np.zeros((n, n), dtype=int)\n",
        "    Recursiva(x, 0, 0, m, n)\n",
        "    return lpos\n",
        "\n",
        "def FillResults(dic,T_time,minCosto,S):\n",
        "  dic[\"Tiempo\"].append(T_time)\n",
        "  dic[\"CostoMin\"].append(minCosto)\n",
        "  dic[\"Solucion\"].append(S)\n",
        "\n",
        "def RecorrerCamino(S,v0,W):\n",
        "  n = len(S)\n",
        "  P = [v0]\n",
        "  r = \"\"\n",
        "  visited = np.zeros(n)\n",
        "  i = v0\n",
        "  while not np.all(visited == 1):\n",
        "    for j in range(n):\n",
        "      if S[i][j] == 1 and visited[j] == 0:\n",
        "        P.append(j)\n",
        "        r+= f\"{i} - ( Peso : {W[i][j]:3}) -> {j}\\n\"\n",
        "        visited[j]=1\n",
        "        i = j\n",
        "        break\n",
        "  return P,r\n",
        "\n",
        "def AgenteViajero_FuerzaBruta(W,verbose=False):\n",
        "  # Almacenamos el N\n",
        "  n_f,n_c = np.shape(W)\n",
        "  N = n_f\n",
        "\n",
        "  # Definimos el inicio\n",
        "  v0 = 0\n",
        "\n",
        "  #Creamos un Dic de Resultados\n",
        "  resultados ={\n",
        "      \"Algoritmo\":[\"Fuerza Bruta\"],\n",
        "      \"Tiempo\": [],\n",
        "      \"Nodos\": [N],\n",
        "      \"CostoMin\":[],\n",
        "      \"Solucion\": []\n",
        "  }\n",
        "\n",
        "  # inicio del tiempo\n",
        "  inicio = time.time()\n",
        "\n",
        "  # Almacenamos las Posibles Soluciones\n",
        "  Posibles_Xij = P_X(N,N)\n",
        "  # Variable solucion\n",
        "  S = []\n",
        "  minCosto = float(\"inf\")\n",
        "  #Buscamos el Minimo\n",
        "  for Xij in Posibles_Xij:\n",
        "    if(CheckRestrictions(Xij,N) and (Costo(Xij,W)) < minCosto ):\n",
        "      minCosto = Costo(Xij,W)\n",
        "      S = Xij\n",
        "\n",
        "  fin = time.time()\n",
        "\n",
        "  #Calculamos el tiempo\n",
        "  T_time = fin - inicio\n",
        "\n",
        "  # Recorremos Camino\n",
        "  P,r = RecorrerCamino(S,v0,W)\n",
        "\n",
        "  #Mostramos Camino\n",
        "  if verbose: print(r)\n",
        "\n",
        "  # Completamos Dic Resutlados\n",
        "  FillResults(resultados,T_time,minCosto,P)\n",
        "\n",
        "  df = pd.DataFrame(resultados)\n",
        "\n",
        "  return df"
      ],
      "metadata": {
        "id": "p-kticE46EwY"
      },
      "execution_count": 12,
      "outputs": []
    },
    {
      "cell_type": "code",
      "source": [
        "W = GenerarTSP_Aleatorio(4,s = (3,3),verbose=True)\n",
        "resultados = AgenteViajero_FuerzaBruta(W,verbose=True)\n",
        "resultados"
      ],
      "metadata": {
        "colab": {
          "base_uri": "https://localhost:8080/",
          "height": 514
        },
        "id": "I0FrNxYK6dTj",
        "outputId": "18db7ad0-885f-488f-a73f-2a3f0f280e26"
      },
      "execution_count": 15,
      "outputs": [
        {
          "output_type": "display_data",
          "data": {
            "text/plain": [
              "<Figure size 300x300 with 1 Axes>"
            ],
            "image/png": "[encoded data removed]"
          },
          "metadata": {}
        },
        {
          "output_type": "stream",
          "name": "stdout",
          "text": [
            "0 - ( Peso :  10) -> 1\n",
            "1 - ( Peso :   3) -> 3\n",
            "3 - ( Peso :  10) -> 2\n",
            "2 - ( Peso :  13) -> 0\n",
            "\n"
          ]
        },
        {
          "output_type": "execute_result",
          "data": {
            "text/plain": [
              "      Algoritmo    Tiempo  Nodos  CostoMin         Solucion\n",
              "0  Fuerza Bruta  0.557413      4        36  [0, 1, 3, 2, 0]"
            ],
            "text/html": [
              "\n",
              "  <div id=\"df-b2c7a80d-2b91-4488-9c0e-847fcdf820be\" class=\"colab-df-container\">\n",
              "    <div>\n",
              "<style scoped>\n",
              "    .dataframe tbody tr th:only-of-type {\n",
              "        vertical-align: middle;\n",
              "    }\n",
              "\n",
              "    .dataframe tbody tr th {\n",
              "        vertical-align: top;\n",
              "    }\n",
              "\n",
              "    .dataframe thead th {\n",
              "        text-align: right;\n",
              "    }\n",
              "</style>\n",
              "<table border=\"1\" class=\"dataframe\">\n",
              "  <thead>\n",
              "    <tr style=\"text-align: right;\">\n",
              "      <th></th>\n",
              "      <th>Algoritmo</th>\n",
              "      <th>Tiempo</th>\n",
              "      <th>Nodos</th>\n",
              "      <th>CostoMin</th>\n",
              "      <th>Solucion</th>\n",
              "    </tr>\n",
              "  </thead>\n",
              "  <tbody>\n",
              "    <tr>\n",
              "      <th>0</th>\n",
              "      <td>Fuerza Bruta</td>\n",
              "      <td>0.557413</td>\n",
              "      <td>4</td>\n",
              "      <td>36</td>\n",
              "      <td>[0, 1, 3, 2, 0]</td>\n",
              "    </tr>\n",
              "  </tbody>\n",
              "</table>\n",
              "</div>\n",
              "    <div class=\"colab-df-buttons\">\n",
              "\n",
              "  <div class=\"colab-df-container\">\n",
              "    <button class=\"colab-df-convert\" onclick=\"convertToInteractive('df-b2c7a80d-2b91-4488-9c0e-847fcdf820be')\"\n",
              "            title=\"Convert this dataframe to an interactive table.\"\n",
              "            style=\"display:none;\">\n",
              "\n",
              "  <svg xmlns=\"http://www.w3.org/2000/svg\" height=\"24px\" viewBox=\"0 -960 960 960\">\n",
              "    <path d=\"M120-120v-720h720v720H120Zm60-500h600v-160H180v160Zm220 220h160v-160H400v160Zm0 220h160v-160H400v160ZM180-400h160v-160H180v160Zm440 0h160v-160H620v160ZM180-180h160v-160H180v160Zm440 0h160v-160H620v160Z\"/>\n",
              "  </svg>\n",
              "    </button>\n",
              "\n",
              "  <style>\n",
              "    .colab-df-container {\n",
              "      display:flex;\n",
              "      gap: 12px;\n",
              "    }\n",
              "\n",
              "    .colab-df-convert {\n",
              "      background-color: #E8F0FE;\n",
              "      border: none;\n",
              "      border-radius: 50%;\n",
              "      cursor: pointer;\n",
              "      display: none;\n",
              "      fill: #1967D2;\n",
              "      height: 32px;\n",
              "      padding: 0 0 0 0;\n",
              "      width: 32px;\n",
              "    }\n",
              "\n",
              "    .colab-df-convert:hover {\n",
              "      background-color: #E2EBFA;\n",
              "      box-shadow: 0px 1px 2px rgba(60, 64, 67, 0.3), 0px 1px 3px 1px rgba(60, 64, 67, 0.15);\n",
              "      fill: #174EA6;\n",
              "    }\n",
              "\n",
              "    .colab-df-buttons div {\n",
              "      margin-bottom: 4px;\n",
              "    }\n",
              "\n",
              "    [theme=dark] .colab-df-convert {\n",
              "      background-color: #3B4455;\n",
              "      fill: #D2E3FC;\n",
              "    }\n",
              "\n",
              "    [theme=dark] .colab-df-convert:hover {\n",
              "      background-color: #434B5C;\n",
              "      box-shadow: 0px 1px 3px 1px rgba(0, 0, 0, 0.15);\n",
              "      filter: drop-shadow(0px 1px 2px rgba(0, 0, 0, 0.3));\n",
              "      fill: #FFFFFF;\n",
              "    }\n",
              "  </style>\n",
              "\n",
              "    <script>\n",
              "      const buttonEl =\n",
              "        document.querySelector('#df-b2c7a80d-2b91-4488-9c0e-847fcdf820be button.colab-df-convert');\n",
              "      buttonEl.style.display =\n",
              "        google.colab.kernel.accessAllowed ? 'block' : 'none';\n",
              "\n",
              "      async function convertToInteractive(key) {\n",
              "        const element = document.querySelector('#df-b2c7a80d-2b91-4488-9c0e-847fcdf820be');\n",
              "        const dataTable =\n",
              "          await google.colab.kernel.invokeFunction('convertToInteractive',\n",
              "                                                    [key], {});\n",
              "        if (!dataTable) return;\n",
              "\n",
              "        const docLinkHtml = 'Like what you see? Visit the ' +\n",
              "          '<a target=\"_blank\" href=https://colab.research.google.com/notebooks/data_table.ipynb>data table notebook</a>'\n",
              "          + ' to learn more about interactive tables.';\n",
              "        element.innerHTML = '';\n",
              "        dataTable['output_type'] = 'display_data';\n",
              "        await google.colab.output.renderOutput(dataTable, element);\n",
              "        const docLink = document.createElement('div');\n",
              "        docLink.innerHTML = docLinkHtml;\n",
              "        element.appendChild(docLink);\n",
              "      }\n",
              "    </script>\n",
              "  </div>\n",
              "\n",
              "    </div>\n",
              "  </div>\n"
            ]
          },
          "metadata": {},
          "execution_count": 15
        }
      ]
    },
    {
      "cell_type": "markdown",
      "source": [
        "## TSP - LocalSearch"
      ],
      "metadata": {
        "id": "OSb81A-jIEOY"
      }
    },
    {
      "cell_type": "code",
      "source": [
        "import random\n",
        "import time\n",
        "import numpy as np\n",
        "import pandas as pd\n",
        "\n",
        "def CostoVecino(Xv,W,verbose=False):\n",
        "  s = 0\n",
        "  n = len(Xv)\n",
        "  r = \"\"\n",
        "  for i in range(n-1):\n",
        "    if verbose :\n",
        "      r+=f\"{Xv[i]} -(Peso:{W[Xv[i]][Xv[i+1]]})-> {Xv[i+1]}\\n\"\n",
        "    s += W[Xv[i]][Xv[i+1]]\n",
        "\n",
        "  return s,r\n",
        "\n",
        "def FillResults(dic,T_time,minCosto,S):\n",
        "  dic[\"Tiempo\"].append(T_time)\n",
        "  dic[\"CostoMin\"].append(minCosto)\n",
        "  dic[\"Solucion\"].append(S)\n",
        "\n",
        "def TSP_LocalSearch(W,iter=1500,verbose=False):\n",
        "  ini = 0\n",
        "  N,N_c = np.shape(W)\n",
        "\n",
        "  #Creamos un Dic de Resultados\n",
        "  resultados ={\n",
        "      \"Algoritmo\":[\"LocalSearch\"],\n",
        "      \"Tiempo\": [],\n",
        "      \"Nodos\": [N],\n",
        "      \"CostoMin\":[],\n",
        "      \"Solucion\": []\n",
        "  }\n",
        "\n",
        "  #Escogemos una solucion candidata aleatoria\n",
        "  X0 = [ini] + random.sample(range(1,N),N-1) + [ini]\n",
        "  MinCost = CostoVecino(X0,W)\n",
        "  i=0\n",
        "  # Iniciamos el cronometro\n",
        "  t_inicio = time.time()\n",
        "  while(i<iter):\n",
        "    Xv = X0[1:-1].copy()\n",
        "    e_inter = random.sample(Xv,2)\n",
        "    indices_e_inter = [Xv.index(value) for value in e_inter]\n",
        "    i1 = indices_e_inter[0]\n",
        "    i2 = indices_e_inter[1]\n",
        "    Xv[i1],Xv[i2]  =  Xv[i2],Xv[i1]\n",
        "    Xv = [ini] + Xv + [ini]\n",
        "    costo = CostoVecino(Xv,W)\n",
        "    if(costo < MinCost ):\n",
        "      MinCost=costo\n",
        "      X0 = Xv\n",
        "    i+=1\n",
        "  # Finalizamos el cronometro\n",
        "  t_final = time.time()\n",
        "  T = t_final - t_inicio\n",
        "  s,r = CostoVecino(X0,W)\n",
        "\n",
        "  if verbose: print(f\"Camino [LocalSearch]:\\n{r}\")\n",
        "  FillResults(resultados,T,s,X0)\n",
        "\n",
        "  df = pd.DataFrame(resultados)\n",
        "  return df"
      ],
      "metadata": {
        "id": "9TMhc8a07eyM"
      },
      "execution_count": 139,
      "outputs": []
    },
    {
      "cell_type": "code",
      "source": [
        "df_localSearch = TSP_LocalSearch(W,iter=10000)"
      ],
      "metadata": {
        "id": "a9xFXR5Kb0og"
      },
      "execution_count": 44,
      "outputs": []
    },
    {
      "cell_type": "code",
      "source": [
        "resultados"
      ],
      "metadata": {
        "colab": {
          "base_uri": "https://localhost:8080/",
          "height": 81
        },
        "id": "MIFEWBHlIQgE",
        "outputId": "e0c004ff-33c5-470e-f462-7ba276d3cb7e"
      },
      "execution_count": 141,
      "outputs": [
        {
          "output_type": "execute_result",
          "data": {
            "text/plain": [
              "      Algoritmo    Tiempo  Nodos  CostoMin         Solucion\n",
              "0  Fuerza Bruta  2.981956      4        31  [0, 1, 2, 3, 0]"
            ],
            "text/html": [
              "\n",
              "  <div id=\"df-a973b829-21b5-4349-86d1-68010cfa8523\" class=\"colab-df-container\">\n",
              "    <div>\n",
              "<style scoped>\n",
              "    .dataframe tbody tr th:only-of-type {\n",
              "        vertical-align: middle;\n",
              "    }\n",
              "\n",
              "    .dataframe tbody tr th {\n",
              "        vertical-align: top;\n",
              "    }\n",
              "\n",
              "    .dataframe thead th {\n",
              "        text-align: right;\n",
              "    }\n",
              "</style>\n",
              "<table border=\"1\" class=\"dataframe\">\n",
              "  <thead>\n",
              "    <tr style=\"text-align: right;\">\n",
              "      <th></th>\n",
              "      <th>Algoritmo</th>\n",
              "      <th>Tiempo</th>\n",
              "      <th>Nodos</th>\n",
              "      <th>CostoMin</th>\n",
              "      <th>Solucion</th>\n",
              "    </tr>\n",
              "  </thead>\n",
              "  <tbody>\n",
              "    <tr>\n",
              "      <th>0</th>\n",
              "      <td>Fuerza Bruta</td>\n",
              "      <td>2.981956</td>\n",
              "      <td>4</td>\n",
              "      <td>31</td>\n",
              "      <td>[0, 1, 2, 3, 0]</td>\n",
              "    </tr>\n",
              "  </tbody>\n",
              "</table>\n",
              "</div>\n",
              "    <div class=\"colab-df-buttons\">\n",
              "\n",
              "  <div class=\"colab-df-container\">\n",
              "    <button class=\"colab-df-convert\" onclick=\"convertToInteractive('df-a973b829-21b5-4349-86d1-68010cfa8523')\"\n",
              "            title=\"Convert this dataframe to an interactive table.\"\n",
              "            style=\"display:none;\">\n",
              "\n",
              "  <svg xmlns=\"http://www.w3.org/2000/svg\" height=\"24px\" viewBox=\"0 -960 960 960\">\n",
              "    <path d=\"M120-120v-720h720v720H120Zm60-500h600v-160H180v160Zm220 220h160v-160H400v160Zm0 220h160v-160H400v160ZM180-400h160v-160H180v160Zm440 0h160v-160H620v160ZM180-180h160v-160H180v160Zm440 0h160v-160H620v160Z\"/>\n",
              "  </svg>\n",
              "    </button>\n",
              "\n",
              "  <style>\n",
              "    .colab-df-container {\n",
              "      display:flex;\n",
              "      gap: 12px;\n",
              "    }\n",
              "\n",
              "    .colab-df-convert {\n",
              "      background-color: #E8F0FE;\n",
              "      border: none;\n",
              "      border-radius: 50%;\n",
              "      cursor: pointer;\n",
              "      display: none;\n",
              "      fill: #1967D2;\n",
              "      height: 32px;\n",
              "      padding: 0 0 0 0;\n",
              "      width: 32px;\n",
              "    }\n",
              "\n",
              "    .colab-df-convert:hover {\n",
              "      background-color: #E2EBFA;\n",
              "      box-shadow: 0px 1px 2px rgba(60, 64, 67, 0.3), 0px 1px 3px 1px rgba(60, 64, 67, 0.15);\n",
              "      fill: #174EA6;\n",
              "    }\n",
              "\n",
              "    .colab-df-buttons div {\n",
              "      margin-bottom: 4px;\n",
              "    }\n",
              "\n",
              "    [theme=dark] .colab-df-convert {\n",
              "      background-color: #3B4455;\n",
              "      fill: #D2E3FC;\n",
              "    }\n",
              "\n",
              "    [theme=dark] .colab-df-convert:hover {\n",
              "      background-color: #434B5C;\n",
              "      box-shadow: 0px 1px 3px 1px rgba(0, 0, 0, 0.15);\n",
              "      filter: drop-shadow(0px 1px 2px rgba(0, 0, 0, 0.3));\n",
              "      fill: #FFFFFF;\n",
              "    }\n",
              "  </style>\n",
              "\n",
              "    <script>\n",
              "      const buttonEl =\n",
              "        document.querySelector('#df-a973b829-21b5-4349-86d1-68010cfa8523 button.colab-df-convert');\n",
              "      buttonEl.style.display =\n",
              "        google.colab.kernel.accessAllowed ? 'block' : 'none';\n",
              "\n",
              "      async function convertToInteractive(key) {\n",
              "        const element = document.querySelector('#df-a973b829-21b5-4349-86d1-68010cfa8523');\n",
              "        const dataTable =\n",
              "          await google.colab.kernel.invokeFunction('convertToInteractive',\n",
              "                                                    [key], {});\n",
              "        if (!dataTable) return;\n",
              "\n",
              "        const docLinkHtml = 'Like what you see? Visit the ' +\n",
              "          '<a target=\"_blank\" href=https://colab.research.google.com/notebooks/data_table.ipynb>data table notebook</a>'\n",
              "          + ' to learn more about interactive tables.';\n",
              "        element.innerHTML = '';\n",
              "        dataTable['output_type'] = 'display_data';\n",
              "        await google.colab.output.renderOutput(dataTable, element);\n",
              "        const docLink = document.createElement('div');\n",
              "        docLink.innerHTML = docLinkHtml;\n",
              "        element.appendChild(docLink);\n",
              "      }\n",
              "    </script>\n",
              "  </div>\n",
              "\n",
              "    </div>\n",
              "  </div>\n"
            ]
          },
          "metadata": {},
          "execution_count": 141
        }
      ]
    },
    {
      "cell_type": "markdown",
      "source": [
        "## TSP - **Gready**"
      ],
      "metadata": {
        "id": "hMWfLLPiWjpt"
      }
    },
    {
      "cell_type": "code",
      "source": [
        "import time\n",
        "import numpy as np\n",
        "\n",
        "def FillResults(dic,T_time,minCosto,S):\n",
        "  dic[\"Tiempo\"].append(T_time)\n",
        "  dic[\"CostoMin\"].append(minCosto)\n",
        "  dic[\"Solucion\"].append(S)\n",
        "\n",
        "def TSP_Gready(W,verbose=False):\n",
        "  # Iniciamos el cronometro\n",
        "  inicio = time.time()\n",
        "  N,N_c = np.shape(W)\n",
        "\n",
        "  #Creamos un dic de resultados\n",
        "  resultados ={\n",
        "      \"Algoritmo\":[\"Gready\"],\n",
        "      \"Tiempo\": [],\n",
        "      \"Nodos\": [N],\n",
        "      \"CostoMin\":[],\n",
        "      \"Solucion\": []\n",
        "  }\n",
        "\n",
        "  #Definimos el valor inicial\n",
        "  v0 = 0\n",
        "  S = [v0]\n",
        "  ini = S[0]\n",
        "  visited = np.zeros(N)\n",
        "  visited[0]=1\n",
        "  # Iniciamos el algoritmo\n",
        "  while not np.all(visited):\n",
        "    minV = float('inf')\n",
        "    for j in range(N_c):\n",
        "      if W[ini][j]!=0 and W[ini][j]<minV and visited[j]==0:\n",
        "        minV = W[ini][j]\n",
        "        ind_Vecino = j\n",
        "    visited[ind_Vecino]=1\n",
        "    ini = ind_Vecino\n",
        "    S.append(ind_Vecino)\n",
        "  # Finalizamos el cronometro\n",
        "  fin = time.time()\n",
        "  #Calculamos el tiempo Total\n",
        "  time_T = fin - inicio\n",
        "  S.append(S[0])\n",
        "\n",
        "  #imprimimos el camino\n",
        "  s=0\n",
        "  if verbose :print(\"Camino [Gready]:\")\n",
        "  for i in range(len(S)-1):\n",
        "    s+=W[S[i]][S[i+1]]\n",
        "    if verbose : print(f\" {S[i]} -({W[S[i]][S[i+1]]})-> {S[i+1]}\")\n",
        "\n",
        "  # Rellenamos los resultados\n",
        "  FillResults(resultados,time_T,s,S)\n",
        "\n",
        "  #Retornamos dataframe\n",
        "  return pd.DataFrame(resultados)"
      ],
      "metadata": {
        "id": "jQAKlYpCWoQj"
      },
      "execution_count": 49,
      "outputs": []
    },
    {
      "cell_type": "code",
      "source": [
        "df_Gready = TSP_Gready(W)"
      ],
      "metadata": {
        "id": "3ozeAuLaY_JW"
      },
      "execution_count": 50,
      "outputs": []
    },
    {
      "cell_type": "code",
      "source": [
        "resultados"
      ],
      "metadata": {
        "colab": {
          "base_uri": "https://localhost:8080/",
          "height": 81
        },
        "id": "OBrsrJBtZXfC",
        "outputId": "55795f74-6478-43cc-ef7c-7a0037030aa2"
      },
      "execution_count": 51,
      "outputs": [
        {
          "output_type": "execute_result",
          "data": {
            "text/plain": [
              "      Algoritmo    Tiempo  Nodos  CostoMin         Solucion\n",
              "0  Fuerza Bruta  0.557413      4        36  [0, 1, 3, 2, 0]"
            ],
            "text/html": [
              "\n",
              "  <div id=\"df-6b141fd6-55d4-4787-abfb-408d7f3ff155\" class=\"colab-df-container\">\n",
              "    <div>\n",
              "<style scoped>\n",
              "    .dataframe tbody tr th:only-of-type {\n",
              "        vertical-align: middle;\n",
              "    }\n",
              "\n",
              "    .dataframe tbody tr th {\n",
              "        vertical-align: top;\n",
              "    }\n",
              "\n",
              "    .dataframe thead th {\n",
              "        text-align: right;\n",
              "    }\n",
              "</style>\n",
              "<table border=\"1\" class=\"dataframe\">\n",
              "  <thead>\n",
              "    <tr style=\"text-align: right;\">\n",
              "      <th></th>\n",
              "      <th>Algoritmo</th>\n",
              "      <th>Tiempo</th>\n",
              "      <th>Nodos</th>\n",
              "      <th>CostoMin</th>\n",
              "      <th>Solucion</th>\n",
              "    </tr>\n",
              "  </thead>\n",
              "  <tbody>\n",
              "    <tr>\n",
              "      <th>0</th>\n",
              "      <td>Fuerza Bruta</td>\n",
              "      <td>0.557413</td>\n",
              "      <td>4</td>\n",
              "      <td>36</td>\n",
              "      <td>[0, 1, 3, 2, 0]</td>\n",
              "    </tr>\n",
              "  </tbody>\n",
              "</table>\n",
              "</div>\n",
              "    <div class=\"colab-df-buttons\">\n",
              "\n",
              "  <div class=\"colab-df-container\">\n",
              "    <button class=\"colab-df-convert\" onclick=\"convertToInteractive('df-6b141fd6-55d4-4787-abfb-408d7f3ff155')\"\n",
              "            title=\"Convert this dataframe to an interactive table.\"\n",
              "            style=\"display:none;\">\n",
              "\n",
              "  <svg xmlns=\"http://www.w3.org/2000/svg\" height=\"24px\" viewBox=\"0 -960 960 960\">\n",
              "    <path d=\"M120-120v-720h720v720H120Zm60-500h600v-160H180v160Zm220 220h160v-160H400v160Zm0 220h160v-160H400v160ZM180-400h160v-160H180v160Zm440 0h160v-160H620v160ZM180-180h160v-160H180v160Zm440 0h160v-160H620v160Z\"/>\n",
              "  </svg>\n",
              "    </button>\n",
              "\n",
              "  <style>\n",
              "    .colab-df-container {\n",
              "      display:flex;\n",
              "      gap: 12px;\n",
              "    }\n",
              "\n",
              "    .colab-df-convert {\n",
              "      background-color: #E8F0FE;\n",
              "      border: none;\n",
              "      border-radius: 50%;\n",
              "      cursor: pointer;\n",
              "      display: none;\n",
              "      fill: #1967D2;\n",
              "      height: 32px;\n",
              "      padding: 0 0 0 0;\n",
              "      width: 32px;\n",
              "    }\n",
              "\n",
              "    .colab-df-convert:hover {\n",
              "      background-color: #E2EBFA;\n",
              "      box-shadow: 0px 1px 2px rgba(60, 64, 67, 0.3), 0px 1px 3px 1px rgba(60, 64, 67, 0.15);\n",
              "      fill: #174EA6;\n",
              "    }\n",
              "\n",
              "    .colab-df-buttons div {\n",
              "      margin-bottom: 4px;\n",
              "    }\n",
              "\n",
              "    [theme=dark] .colab-df-convert {\n",
              "      background-color: #3B4455;\n",
              "      fill: #D2E3FC;\n",
              "    }\n",
              "\n",
              "    [theme=dark] .colab-df-convert:hover {\n",
              "      background-color: #434B5C;\n",
              "      box-shadow: 0px 1px 3px 1px rgba(0, 0, 0, 0.15);\n",
              "      filter: drop-shadow(0px 1px 2px rgba(0, 0, 0, 0.3));\n",
              "      fill: #FFFFFF;\n",
              "    }\n",
              "  </style>\n",
              "\n",
              "    <script>\n",
              "      const buttonEl =\n",
              "        document.querySelector('#df-6b141fd6-55d4-4787-abfb-408d7f3ff155 button.colab-df-convert');\n",
              "      buttonEl.style.display =\n",
              "        google.colab.kernel.accessAllowed ? 'block' : 'none';\n",
              "\n",
              "      async function convertToInteractive(key) {\n",
              "        const element = document.querySelector('#df-6b141fd6-55d4-4787-abfb-408d7f3ff155');\n",
              "        const dataTable =\n",
              "          await google.colab.kernel.invokeFunction('convertToInteractive',\n",
              "                                                    [key], {});\n",
              "        if (!dataTable) return;\n",
              "\n",
              "        const docLinkHtml = 'Like what you see? Visit the ' +\n",
              "          '<a target=\"_blank\" href=https://colab.research.google.com/notebooks/data_table.ipynb>data table notebook</a>'\n",
              "          + ' to learn more about interactive tables.';\n",
              "        element.innerHTML = '';\n",
              "        dataTable['output_type'] = 'display_data';\n",
              "        await google.colab.output.renderOutput(dataTable, element);\n",
              "        const docLink = document.createElement('div');\n",
              "        docLink.innerHTML = docLinkHtml;\n",
              "        element.appendChild(docLink);\n",
              "      }\n",
              "    </script>\n",
              "  </div>\n",
              "\n",
              "    </div>\n",
              "  </div>\n"
            ]
          },
          "metadata": {},
          "execution_count": 51
        }
      ]
    },
    {
      "cell_type": "code",
      "source": [
        "df_localSearch"
      ],
      "metadata": {
        "colab": {
          "base_uri": "https://localhost:8080/",
          "height": 81
        },
        "id": "97vXwEtSZkZP",
        "outputId": "3f105b1e-91ae-462f-d849-abb6a6ec6943"
      },
      "execution_count": 52,
      "outputs": [
        {
          "output_type": "execute_result",
          "data": {
            "text/plain": [
              "     Algoritmo    Tiempo  Nodos  CostoMin         Solucion\n",
              "0  LocalSearch  0.115285      4        36  [0, 1, 3, 2, 0]"
            ],
            "text/html": [
              "\n",
              "  <div id=\"df-4f3ba0c0-72cc-4c33-aa1e-2e6ff6fd32fc\" class=\"colab-df-container\">\n",
              "    <div>\n",
              "<style scoped>\n",
              "    .dataframe tbody tr th:only-of-type {\n",
              "        vertical-align: middle;\n",
              "    }\n",
              "\n",
              "    .dataframe tbody tr th {\n",
              "        vertical-align: top;\n",
              "    }\n",
              "\n",
              "    .dataframe thead th {\n",
              "        text-align: right;\n",
              "    }\n",
              "</style>\n",
              "<table border=\"1\" class=\"dataframe\">\n",
              "  <thead>\n",
              "    <tr style=\"text-align: right;\">\n",
              "      <th></th>\n",
              "      <th>Algoritmo</th>\n",
              "      <th>Tiempo</th>\n",
              "      <th>Nodos</th>\n",
              "      <th>CostoMin</th>\n",
              "      <th>Solucion</th>\n",
              "    </tr>\n",
              "  </thead>\n",
              "  <tbody>\n",
              "    <tr>\n",
              "      <th>0</th>\n",
              "      <td>LocalSearch</td>\n",
              "      <td>0.115285</td>\n",
              "      <td>4</td>\n",
              "      <td>36</td>\n",
              "      <td>[0, 1, 3, 2, 0]</td>\n",
              "    </tr>\n",
              "  </tbody>\n",
              "</table>\n",
              "</div>\n",
              "    <div class=\"colab-df-buttons\">\n",
              "\n",
              "  <div class=\"colab-df-container\">\n",
              "    <button class=\"colab-df-convert\" onclick=\"convertToInteractive('df-4f3ba0c0-72cc-4c33-aa1e-2e6ff6fd32fc')\"\n",
              "            title=\"Convert this dataframe to an interactive table.\"\n",
              "            style=\"display:none;\">\n",
              "\n",
              "  <svg xmlns=\"http://www.w3.org/2000/svg\" height=\"24px\" viewBox=\"0 -960 960 960\">\n",
              "    <path d=\"M120-120v-720h720v720H120Zm60-500h600v-160H180v160Zm220 220h160v-160H400v160Zm0 220h160v-160H400v160ZM180-400h160v-160H180v160Zm440 0h160v-160H620v160ZM180-180h160v-160H180v160Zm440 0h160v-160H620v160Z\"/>\n",
              "  </svg>\n",
              "    </button>\n",
              "\n",
              "  <style>\n",
              "    .colab-df-container {\n",
              "      display:flex;\n",
              "      gap: 12px;\n",
              "    }\n",
              "\n",
              "    .colab-df-convert {\n",
              "      background-color: #E8F0FE;\n",
              "      border: none;\n",
              "      border-radius: 50%;\n",
              "      cursor: pointer;\n",
              "      display: none;\n",
              "      fill: #1967D2;\n",
              "      height: 32px;\n",
              "      padding: 0 0 0 0;\n",
              "      width: 32px;\n",
              "    }\n",
              "\n",
              "    .colab-df-convert:hover {\n",
              "      background-color: #E2EBFA;\n",
              "      box-shadow: 0px 1px 2px rgba(60, 64, 67, 0.3), 0px 1px 3px 1px rgba(60, 64, 67, 0.15);\n",
              "      fill: #174EA6;\n",
              "    }\n",
              "\n",
              "    .colab-df-buttons div {\n",
              "      margin-bottom: 4px;\n",
              "    }\n",
              "\n",
              "    [theme=dark] .colab-df-convert {\n",
              "      background-color: #3B4455;\n",
              "      fill: #D2E3FC;\n",
              "    }\n",
              "\n",
              "    [theme=dark] .colab-df-convert:hover {\n",
              "      background-color: #434B5C;\n",
              "      box-shadow: 0px 1px 3px 1px rgba(0, 0, 0, 0.15);\n",
              "      filter: drop-shadow(0px 1px 2px rgba(0, 0, 0, 0.3));\n",
              "      fill: #FFFFFF;\n",
              "    }\n",
              "  </style>\n",
              "\n",
              "    <script>\n",
              "      const buttonEl =\n",
              "        document.querySelector('#df-4f3ba0c0-72cc-4c33-aa1e-2e6ff6fd32fc button.colab-df-convert');\n",
              "      buttonEl.style.display =\n",
              "        google.colab.kernel.accessAllowed ? 'block' : 'none';\n",
              "\n",
              "      async function convertToInteractive(key) {\n",
              "        const element = document.querySelector('#df-4f3ba0c0-72cc-4c33-aa1e-2e6ff6fd32fc');\n",
              "        const dataTable =\n",
              "          await google.colab.kernel.invokeFunction('convertToInteractive',\n",
              "                                                    [key], {});\n",
              "        if (!dataTable) return;\n",
              "\n",
              "        const docLinkHtml = 'Like what you see? Visit the ' +\n",
              "          '<a target=\"_blank\" href=https://colab.research.google.com/notebooks/data_table.ipynb>data table notebook</a>'\n",
              "          + ' to learn more about interactive tables.';\n",
              "        element.innerHTML = '';\n",
              "        dataTable['output_type'] = 'display_data';\n",
              "        await google.colab.output.renderOutput(dataTable, element);\n",
              "        const docLink = document.createElement('div');\n",
              "        docLink.innerHTML = docLinkHtml;\n",
              "        element.appendChild(docLink);\n",
              "      }\n",
              "    </script>\n",
              "  </div>\n",
              "\n",
              "    </div>\n",
              "  </div>\n"
            ]
          },
          "metadata": {},
          "execution_count": 52
        }
      ]
    },
    {
      "cell_type": "code",
      "source": [
        "df_Gready"
      ],
      "metadata": {
        "colab": {
          "base_uri": "https://localhost:8080/",
          "height": 81
        },
        "id": "SnqzhXRsZl5D",
        "outputId": "da4f4603-4607-44c0-a1f7-cb5295d847c3"
      },
      "execution_count": 53,
      "outputs": [
        {
          "output_type": "execute_result",
          "data": {
            "text/plain": [
              "  Algoritmo    Tiempo  Nodos  CostoMin         Solucion\n",
              "0    Gready  0.000147      4        36  [0, 1, 3, 2, 0]"
            ],
            "text/html": [
              "\n",
              "  <div id=\"df-0c2c35ad-c48b-4d3d-bcd7-63c1418bf0f5\" class=\"colab-df-container\">\n",
              "    <div>\n",
              "<style scoped>\n",
              "    .dataframe tbody tr th:only-of-type {\n",
              "        vertical-align: middle;\n",
              "    }\n",
              "\n",
              "    .dataframe tbody tr th {\n",
              "        vertical-align: top;\n",
              "    }\n",
              "\n",
              "    .dataframe thead th {\n",
              "        text-align: right;\n",
              "    }\n",
              "</style>\n",
              "<table border=\"1\" class=\"dataframe\">\n",
              "  <thead>\n",
              "    <tr style=\"text-align: right;\">\n",
              "      <th></th>\n",
              "      <th>Algoritmo</th>\n",
              "      <th>Tiempo</th>\n",
              "      <th>Nodos</th>\n",
              "      <th>CostoMin</th>\n",
              "      <th>Solucion</th>\n",
              "    </tr>\n",
              "  </thead>\n",
              "  <tbody>\n",
              "    <tr>\n",
              "      <th>0</th>\n",
              "      <td>Gready</td>\n",
              "      <td>0.000147</td>\n",
              "      <td>4</td>\n",
              "      <td>36</td>\n",
              "      <td>[0, 1, 3, 2, 0]</td>\n",
              "    </tr>\n",
              "  </tbody>\n",
              "</table>\n",
              "</div>\n",
              "    <div class=\"colab-df-buttons\">\n",
              "\n",
              "  <div class=\"colab-df-container\">\n",
              "    <button class=\"colab-df-convert\" onclick=\"convertToInteractive('df-0c2c35ad-c48b-4d3d-bcd7-63c1418bf0f5')\"\n",
              "            title=\"Convert this dataframe to an interactive table.\"\n",
              "            style=\"display:none;\">\n",
              "\n",
              "  <svg xmlns=\"http://www.w3.org/2000/svg\" height=\"24px\" viewBox=\"0 -960 960 960\">\n",
              "    <path d=\"M120-120v-720h720v720H120Zm60-500h600v-160H180v160Zm220 220h160v-160H400v160Zm0 220h160v-160H400v160ZM180-400h160v-160H180v160Zm440 0h160v-160H620v160ZM180-180h160v-160H180v160Zm440 0h160v-160H620v160Z\"/>\n",
              "  </svg>\n",
              "    </button>\n",
              "\n",
              "  <style>\n",
              "    .colab-df-container {\n",
              "      display:flex;\n",
              "      gap: 12px;\n",
              "    }\n",
              "\n",
              "    .colab-df-convert {\n",
              "      background-color: #E8F0FE;\n",
              "      border: none;\n",
              "      border-radius: 50%;\n",
              "      cursor: pointer;\n",
              "      display: none;\n",
              "      fill: #1967D2;\n",
              "      height: 32px;\n",
              "      padding: 0 0 0 0;\n",
              "      width: 32px;\n",
              "    }\n",
              "\n",
              "    .colab-df-convert:hover {\n",
              "      background-color: #E2EBFA;\n",
              "      box-shadow: 0px 1px 2px rgba(60, 64, 67, 0.3), 0px 1px 3px 1px rgba(60, 64, 67, 0.15);\n",
              "      fill: #174EA6;\n",
              "    }\n",
              "\n",
              "    .colab-df-buttons div {\n",
              "      margin-bottom: 4px;\n",
              "    }\n",
              "\n",
              "    [theme=dark] .colab-df-convert {\n",
              "      background-color: #3B4455;\n",
              "      fill: #D2E3FC;\n",
              "    }\n",
              "\n",
              "    [theme=dark] .colab-df-convert:hover {\n",
              "      background-color: #434B5C;\n",
              "      box-shadow: 0px 1px 3px 1px rgba(0, 0, 0, 0.15);\n",
              "      filter: drop-shadow(0px 1px 2px rgba(0, 0, 0, 0.3));\n",
              "      fill: #FFFFFF;\n",
              "    }\n",
              "  </style>\n",
              "\n",
              "    <script>\n",
              "      const buttonEl =\n",
              "        document.querySelector('#df-0c2c35ad-c48b-4d3d-bcd7-63c1418bf0f5 button.colab-df-convert');\n",
              "      buttonEl.style.display =\n",
              "        google.colab.kernel.accessAllowed ? 'block' : 'none';\n",
              "\n",
              "      async function convertToInteractive(key) {\n",
              "        const element = document.querySelector('#df-0c2c35ad-c48b-4d3d-bcd7-63c1418bf0f5');\n",
              "        const dataTable =\n",
              "          await google.colab.kernel.invokeFunction('convertToInteractive',\n",
              "                                                    [key], {});\n",
              "        if (!dataTable) return;\n",
              "\n",
              "        const docLinkHtml = 'Like what you see? Visit the ' +\n",
              "          '<a target=\"_blank\" href=https://colab.research.google.com/notebooks/data_table.ipynb>data table notebook</a>'\n",
              "          + ' to learn more about interactive tables.';\n",
              "        element.innerHTML = '';\n",
              "        dataTable['output_type'] = 'display_data';\n",
              "        await google.colab.output.renderOutput(dataTable, element);\n",
              "        const docLink = document.createElement('div');\n",
              "        docLink.innerHTML = docLinkHtml;\n",
              "        element.appendChild(docLink);\n",
              "      }\n",
              "    </script>\n",
              "  </div>\n",
              "\n",
              "    </div>\n",
              "  </div>\n"
            ]
          },
          "metadata": {},
          "execution_count": 53
        }
      ]
    },
    {
      "cell_type": "markdown",
      "source": [
        "## Comparacion de Algoritmos"
      ],
      "metadata": {
        "id": "lYlh0iXJrFJ1"
      }
    },
    {
      "cell_type": "code",
      "source": [
        "import pandas as pd\n",
        "\n",
        "def Graficar_Ws(lista_W,size = (14,7)):\n",
        "    if len(lista_W) > 7:\n",
        "        # Si la lista es muy grande, tomar solo 5 valores aleatorios\n",
        "        lista_W = random.sample(lista_W, 5)\n",
        "\n",
        "    num_subplots = len(lista_W)\n",
        "\n",
        "    # Crear una figura con subgráficos\n",
        "    fig, axs = plt.subplots(1, num_subplots, figsize=(size[0] * num_subplots, size[1]), gridspec_kw={'top': 0.85})\n",
        "\n",
        "    for idx, W in enumerate(lista_W):\n",
        "        # Crear un grafo dirigido y agregar bordes con pesos\n",
        "        G = nx.DiGraph()\n",
        "        for i in range(len(W)):\n",
        "            for j in range(len(W)):\n",
        "                if W[i][j] != 0 and i != j:  # Evitar dibujar bordes hacia el mismo nodo\n",
        "                    G.add_edge(i, j, weight=W[i][j])\n",
        "\n",
        "        # Dibujar el grafo en el subgráfico correspondiente\n",
        "        pos = nx.circular_layout(G)\n",
        "        axs[idx].set_title(f\"Grafo {idx + 1}\")\n",
        "        nx.draw(G, pos, with_labels=True, ax=axs[idx], node_size=450, node_color='skyblue', font_color='black', font_size=8, arrowsize=6)\n",
        "\n",
        "        # Agregar etiquetas de peso en los bordes\n",
        "        etiquetas_pesos = {(i, j): W[i][j] for i in range(len(W)) for j in range(len(W)) if W[i][j] != 0 and i != j}\n",
        "        nx.draw_networkx_edge_labels(G, pos, edge_labels=etiquetas_pesos, font_color='red', ax=axs[idx])\n",
        "\n",
        "    # Mostrar la figura con todos los subgráficos\n",
        "    plt.suptitle(\"Problema del Agente Viajero - Grafos Ponderados\", y=1)\n",
        "    plt.show()\n",
        "\n",
        "def FillTable(tabla,algoritmos):\n",
        "  for df in algoritmos:\n",
        "    tabla[\"Algoritmo\"].append(df[\"Algoritmo\"][0])\n",
        "    tabla[\"Tiempo\"].append(df[\"Tiempo\"][0])\n",
        "    tabla[\"Nodos\"].append(df[\"Nodos\"][0])\n",
        "    tabla[\"CostoMin\"].append(df[\"CostoMin\"][0])\n",
        "    tabla[\"Solucion\"].append(df[\"Solucion\"][0])\n",
        "\n",
        "def Comparacion_Algoritmos(n):\n",
        "  #Definimos nuestro Diccionario General\n",
        "  tabla ={\n",
        "      \"Algoritmo\":[],\n",
        "      \"Tiempo\": [],\n",
        "      \"Nodos\": [],\n",
        "      \"CostoMin\":[],\n",
        "      \"Solucion\": []\n",
        "  }\n",
        "\n",
        "  if n <= 4 :\n",
        "    List_W = []\n",
        "    for i in range(3,n+1):\n",
        "      W = GenerarTSP_Aleatorio(i)\n",
        "      #Rellenamos los W\n",
        "      List_W.append(W)\n",
        "      df_FuerzaBruta = AgenteViajero_FuerzaBruta(W)\n",
        "      df_localSearch = TSP_LocalSearch(W)\n",
        "      df_Gready = TSP_Gready(W)\n",
        "      Algoritmos = [df_FuerzaBruta,df_localSearch,df_Gready]\n",
        "      #Rellenamos la tabla\n",
        "      FillTable(tabla,Algoritmos)\n",
        "    if n<20: Graficar_Ws(List_W, size = (n,n))\n",
        "    return pd.DataFrame(tabla)\n",
        "  else:\n",
        "    List_W = []\n",
        "    for i in range(3,n+1):\n",
        "      W = GenerarTSP_Aleatorio(i)\n",
        "      #Rellenamos los W\n",
        "      List_W.append(W)\n",
        "      df_localSearch = TSP_LocalSearch(W)\n",
        "      df_Gready = TSP_Gready(W)\n",
        "      Algoritmos = [df_localSearch,df_Gready]\n",
        "      #Rellenamos la tabla\n",
        "      FillTable(tabla,Algoritmos)\n",
        "    if n<20: Graficar_Ws(List_W, size = (3,3))\n",
        "    return pd.DataFrame(tabla)"
      ],
      "metadata": {
        "id": "LGQuqHmeZncN"
      },
      "execution_count": 129,
      "outputs": []
    },
    {
      "cell_type": "code",
      "source": [
        "tabla = Comparacion_Algoritmos(100)\n",
        "tabla"
      ],
      "metadata": {
        "colab": {
          "base_uri": "https://localhost:8080/",
          "height": 423
        },
        "id": "3j0iXqOcy7c3",
        "outputId": "b6a442ac-2521-441e-ab8d-b4cca1f6a3f9"
      },
      "execution_count": 144,
      "outputs": [
        {
          "output_type": "execute_result",
          "data": {
            "text/plain": [
              "       Algoritmo    Tiempo  Nodos  CostoMin  \\\n",
              "0    LocalSearch  0.011673      3        28   \n",
              "1         Gready  0.000120      3        28   \n",
              "2    LocalSearch  0.015528      4        49   \n",
              "3         Gready  0.000138      4        49   \n",
              "4    LocalSearch  0.014029      5        52   \n",
              "..           ...       ...    ...       ...   \n",
              "191       Gready  0.007982     98       243   \n",
              "192  LocalSearch  0.057925     99       474   \n",
              "193       Gready  0.007410     99       259   \n",
              "194  LocalSearch  0.058071    100       491   \n",
              "195       Gready  0.007362    100       257   \n",
              "\n",
              "                                              Solucion  \n",
              "0                                         [0, 1, 2, 0]  \n",
              "1                                         [0, 1, 2, 0]  \n",
              "2                                      [0, 1, 2, 3, 0]  \n",
              "3                                      [0, 3, 2, 1, 0]  \n",
              "4                                   [0, 3, 1, 4, 2, 0]  \n",
              "..                                                 ...  \n",
              "191  [0, 63, 59, 30, 47, 15, 40, 14, 90, 57, 23, 48...  \n",
              "192  [0, 70, 88, 55, 49, 85, 27, 81, 13, 22, 18, 56...  \n",
              "193  [0, 3, 41, 42, 7, 60, 6, 11, 39, 51, 17, 61, 5...  \n",
              "194  [0, 69, 64, 46, 38, 11, 36, 41, 76, 23, 92, 86...  \n",
              "195  [0, 72, 64, 35, 6, 21, 37, 81, 99, 8, 54, 14, ...  \n",
              "\n",
              "[196 rows x 5 columns]"
            ],
            "text/html": [
              "\n",
              "  <div id=\"df-7cee282f-6230-4943-9daa-af0403916ff3\" class=\"colab-df-container\">\n",
              "    <div>\n",
              "<style scoped>\n",
              "    .dataframe tbody tr th:only-of-type {\n",
              "        vertical-align: middle;\n",
              "    }\n",
              "\n",
              "    .dataframe tbody tr th {\n",
              "        vertical-align: top;\n",
              "    }\n",
              "\n",
              "    .dataframe thead th {\n",
              "        text-align: right;\n",
              "    }\n",
              "</style>\n",
              "<table border=\"1\" class=\"dataframe\">\n",
              "  <thead>\n",
              "    <tr style=\"text-align: right;\">\n",
              "      <th></th>\n",
              "      <th>Algoritmo</th>\n",
              "      <th>Tiempo</th>\n",
              "      <th>Nodos</th>\n",
              "      <th>CostoMin</th>\n",
              "      <th>Solucion</th>\n",
              "    </tr>\n",
              "  </thead>\n",
              "  <tbody>\n",
              "    <tr>\n",
              "      <th>0</th>\n",
              "      <td>LocalSearch</td>\n",
              "      <td>0.011673</td>\n",
              "      <td>3</td>\n",
              "      <td>28</td>\n",
              "      <td>[0, 1, 2, 0]</td>\n",
              "    </tr>\n",
              "    <tr>\n",
              "      <th>1</th>\n",
              "      <td>Gready</td>\n",
              "      <td>0.000120</td>\n",
              "      <td>3</td>\n",
              "      <td>28</td>\n",
              "      <td>[0, 1, 2, 0]</td>\n",
              "    </tr>\n",
              "    <tr>\n",
              "      <th>2</th>\n",
              "      <td>LocalSearch</td>\n",
              "      <td>0.015528</td>\n",
              "      <td>4</td>\n",
              "      <td>49</td>\n",
              "      <td>[0, 1, 2, 3, 0]</td>\n",
              "    </tr>\n",
              "    <tr>\n",
              "      <th>3</th>\n",
              "      <td>Gready</td>\n",
              "      <td>0.000138</td>\n",
              "      <td>4</td>\n",
              "      <td>49</td>\n",
              "      <td>[0, 3, 2, 1, 0]</td>\n",
              "    </tr>\n",
              "    <tr>\n",
              "      <th>4</th>\n",
              "      <td>LocalSearch</td>\n",
              "      <td>0.014029</td>\n",
              "      <td>5</td>\n",
              "      <td>52</td>\n",
              "      <td>[0, 3, 1, 4, 2, 0]</td>\n",
              "    </tr>\n",
              "    <tr>\n",
              "      <th>...</th>\n",
              "      <td>...</td>\n",
              "      <td>...</td>\n",
              "      <td>...</td>\n",
              "      <td>...</td>\n",
              "      <td>...</td>\n",
              "    </tr>\n",
              "    <tr>\n",
              "      <th>191</th>\n",
              "      <td>Gready</td>\n",
              "      <td>0.007982</td>\n",
              "      <td>98</td>\n",
              "      <td>243</td>\n",
              "      <td>[0, 63, 59, 30, 47, 15, 40, 14, 90, 57, 23, 48...</td>\n",
              "    </tr>\n",
              "    <tr>\n",
              "      <th>192</th>\n",
              "      <td>LocalSearch</td>\n",
              "      <td>0.057925</td>\n",
              "      <td>99</td>\n",
              "      <td>474</td>\n",
              "      <td>[0, 70, 88, 55, 49, 85, 27, 81, 13, 22, 18, 56...</td>\n",
              "    </tr>\n",
              "    <tr>\n",
              "      <th>193</th>\n",
              "      <td>Gready</td>\n",
              "      <td>0.007410</td>\n",
              "      <td>99</td>\n",
              "      <td>259</td>\n",
              "      <td>[0, 3, 41, 42, 7, 60, 6, 11, 39, 51, 17, 61, 5...</td>\n",
              "    </tr>\n",
              "    <tr>\n",
              "      <th>194</th>\n",
              "      <td>LocalSearch</td>\n",
              "      <td>0.058071</td>\n",
              "      <td>100</td>\n",
              "      <td>491</td>\n",
              "      <td>[0, 69, 64, 46, 38, 11, 36, 41, 76, 23, 92, 86...</td>\n",
              "    </tr>\n",
              "    <tr>\n",
              "      <th>195</th>\n",
              "      <td>Gready</td>\n",
              "      <td>0.007362</td>\n",
              "      <td>100</td>\n",
              "      <td>257</td>\n",
              "      <td>[0, 72, 64, 35, 6, 21, 37, 81, 99, 8, 54, 14, ...</td>\n",
              "    </tr>\n",
              "  </tbody>\n",
              "</table>\n",
              "<p>196 rows × 5 columns</p>\n",
              "</div>\n",
              "    <div class=\"colab-df-buttons\">\n",
              "\n",
              "  <div class=\"colab-df-container\">\n",
              "    <button class=\"colab-df-convert\" onclick=\"convertToInteractive('df-7cee282f-6230-4943-9daa-af0403916ff3')\"\n",
              "            title=\"Convert this dataframe to an interactive table.\"\n",
              "            style=\"display:none;\">\n",
              "\n",
              "  <svg xmlns=\"http://www.w3.org/2000/svg\" height=\"24px\" viewBox=\"0 -960 960 960\">\n",
              "    <path d=\"M120-120v-720h720v720H120Zm60-500h600v-160H180v160Zm220 220h160v-160H400v160Zm0 220h160v-160H400v160ZM180-400h160v-160H180v160Zm440 0h160v-160H620v160ZM180-180h160v-160H180v160Zm440 0h160v-160H620v160Z\"/>\n",
              "  </svg>\n",
              "    </button>\n",
              "\n",
              "  <style>\n",
              "    .colab-df-container {\n",
              "      display:flex;\n",
              "      gap: 12px;\n",
              "    }\n",
              "\n",
              "    .colab-df-convert {\n",
              "      background-color: #E8F0FE;\n",
              "      border: none;\n",
              "      border-radius: 50%;\n",
              "      cursor: pointer;\n",
              "      display: none;\n",
              "      fill: #1967D2;\n",
              "      height: 32px;\n",
              "      padding: 0 0 0 0;\n",
              "      width: 32px;\n",
              "    }\n",
              "\n",
              "    .colab-df-convert:hover {\n",
              "      background-color: #E2EBFA;\n",
              "      box-shadow: 0px 1px 2px rgba(60, 64, 67, 0.3), 0px 1px 3px 1px rgba(60, 64, 67, 0.15);\n",
              "      fill: #174EA6;\n",
              "    }\n",
              "\n",
              "    .colab-df-buttons div {\n",
              "      margin-bottom: 4px;\n",
              "    }\n",
              "\n",
              "    [theme=dark] .colab-df-convert {\n",
              "      background-color: #3B4455;\n",
              "      fill: #D2E3FC;\n",
              "    }\n",
              "\n",
              "    [theme=dark] .colab-df-convert:hover {\n",
              "      background-color: #434B5C;\n",
              "      box-shadow: 0px 1px 3px 1px rgba(0, 0, 0, 0.15);\n",
              "      filter: drop-shadow(0px 1px 2px rgba(0, 0, 0, 0.3));\n",
              "      fill: #FFFFFF;\n",
              "    }\n",
              "  </style>\n",
              "\n",
              "    <script>\n",
              "      const buttonEl =\n",
              "        document.querySelector('#df-7cee282f-6230-4943-9daa-af0403916ff3 button.colab-df-convert');\n",
              "      buttonEl.style.display =\n",
              "        google.colab.kernel.accessAllowed ? 'block' : 'none';\n",
              "\n",
              "      async function convertToInteractive(key) {\n",
              "        const element = document.querySelector('#df-7cee282f-6230-4943-9daa-af0403916ff3');\n",
              "        const dataTable =\n",
              "          await google.colab.kernel.invokeFunction('convertToInteractive',\n",
              "                                                    [key], {});\n",
              "        if (!dataTable) return;\n",
              "\n",
              "        const docLinkHtml = 'Like what you see? Visit the ' +\n",
              "          '<a target=\"_blank\" href=https://colab.research.google.com/notebooks/data_table.ipynb>data table notebook</a>'\n",
              "          + ' to learn more about interactive tables.';\n",
              "        element.innerHTML = '';\n",
              "        dataTable['output_type'] = 'display_data';\n",
              "        await google.colab.output.renderOutput(dataTable, element);\n",
              "        const docLink = document.createElement('div');\n",
              "        docLink.innerHTML = docLinkHtml;\n",
              "        element.appendChild(docLink);\n",
              "      }\n",
              "    </script>\n",
              "  </div>\n",
              "\n",
              "\n",
              "<div id=\"df-f5c704b0-7b69-4c2e-9994-cd99623c5a84\">\n",
              "  <button class=\"colab-df-quickchart\" onclick=\"quickchart('df-f5c704b0-7b69-4c2e-9994-cd99623c5a84')\"\n",
              "            title=\"Suggest charts\"\n",
              "            style=\"display:none;\">\n",
              "\n",
              "<svg xmlns=\"http://www.w3.org/2000/svg\" height=\"24px\"viewBox=\"0 0 24 24\"\n",
              "     width=\"24px\">\n",
              "    <g>\n",
              "        <path d=\"M19 3H5c-1.1 0-2 .9-2 2v14c0 1.1.9 2 2 2h14c1.1 0 2-.9 2-2V5c0-1.1-.9-2-2-2zM9 17H7v-7h2v7zm4 0h-2V7h2v10zm4 0h-2v-4h2v4z\"/>\n",
              "    </g>\n",
              "</svg>\n",
              "  </button>\n",
              "\n",
              "<style>\n",
              "  .colab-df-quickchart {\n",
              "      --bg-color: #E8F0FE;\n",
              "      --fill-color: #1967D2;\n",
              "      --hover-bg-color: #E2EBFA;\n",
              "      --hover-fill-color: #174EA6;\n",
              "      --disabled-fill-color: #AAA;\n",
              "      --disabled-bg-color: #DDD;\n",
              "  }\n",
              "\n",
              "  [theme=dark] .colab-df-quickchart {\n",
              "      --bg-color: #3B4455;\n",
              "      --fill-color: #D2E3FC;\n",
              "      --hover-bg-color: #434B5C;\n",
              "      --hover-fill-color: #FFFFFF;\n",
              "      --disabled-bg-color: #3B4455;\n",
              "      --disabled-fill-color: #666;\n",
              "  }\n",
              "\n",
              "  .colab-df-quickchart {\n",
              "    background-color: var(--bg-color);\n",
              "    border: none;\n",
              "    border-radius: 50%;\n",
              "    cursor: pointer;\n",
              "    display: none;\n",
              "    fill: var(--fill-color);\n",
              "    height: 32px;\n",
              "    padding: 0;\n",
              "    width: 32px;\n",
              "  }\n",
              "\n",
              "  .colab-df-quickchart:hover {\n",
              "    background-color: var(--hover-bg-color);\n",
              "    box-shadow: 0 1px 2px rgba(60, 64, 67, 0.3), 0 1px 3px 1px rgba(60, 64, 67, 0.15);\n",
              "    fill: var(--button-hover-fill-color);\n",
              "  }\n",
              "\n",
              "  .colab-df-quickchart-complete:disabled,\n",
              "  .colab-df-quickchart-complete:disabled:hover {\n",
              "    background-color: var(--disabled-bg-color);\n",
              "    fill: var(--disabled-fill-color);\n",
              "    box-shadow: none;\n",
              "  }\n",
              "\n",
              "  .colab-df-spinner {\n",
              "    border: 2px solid var(--fill-color);\n",
              "    border-color: transparent;\n",
              "    border-bottom-color: var(--fill-color);\n",
              "    animation:\n",
              "      spin 1s steps(1) infinite;\n",
              "  }\n",
              "\n",
              "  @keyframes spin {\n",
              "    0% {\n",
              "      border-color: transparent;\n",
              "      border-bottom-color: var(--fill-color);\n",
              "      border-left-color: var(--fill-color);\n",
              "    }\n",
              "    20% {\n",
              "      border-color: transparent;\n",
              "      border-left-color: var(--fill-color);\n",
              "      border-top-color: var(--fill-color);\n",
              "    }\n",
              "    30% {\n",
              "      border-color: transparent;\n",
              "      border-left-color: var(--fill-color);\n",
              "      border-top-color: var(--fill-color);\n",
              "      border-right-color: var(--fill-color);\n",
              "    }\n",
              "    40% {\n",
              "      border-color: transparent;\n",
              "      border-right-color: var(--fill-color);\n",
              "      border-top-color: var(--fill-color);\n",
              "    }\n",
              "    60% {\n",
              "      border-color: transparent;\n",
              "      border-right-color: var(--fill-color);\n",
              "    }\n",
              "    80% {\n",
              "      border-color: transparent;\n",
              "      border-right-color: var(--fill-color);\n",
              "      border-bottom-color: var(--fill-color);\n",
              "    }\n",
              "    90% {\n",
              "      border-color: transparent;\n",
              "      border-bottom-color: var(--fill-color);\n",
              "    }\n",
              "  }\n",
              "</style>\n",
              "\n",
              "  <script>\n",
              "    async function quickchart(key) {\n",
              "      const quickchartButtonEl =\n",
              "        document.querySelector('#' + key + ' button');\n",
              "      quickchartButtonEl.disabled = true;  // To prevent multiple clicks.\n",
              "      quickchartButtonEl.classList.add('colab-df-spinner');\n",
              "      try {\n",
              "        const charts = await google.colab.kernel.invokeFunction(\n",
              "            'suggestCharts', [key], {});\n",
              "      } catch (error) {\n",
              "        console.error('Error during call to suggestCharts:', error);\n",
              "      }\n",
              "      quickchartButtonEl.classList.remove('colab-df-spinner');\n",
              "      quickchartButtonEl.classList.add('colab-df-quickchart-complete');\n",
              "    }\n",
              "    (() => {\n",
              "      let quickchartButtonEl =\n",
              "        document.querySelector('#df-f5c704b0-7b69-4c2e-9994-cd99623c5a84 button');\n",
              "      quickchartButtonEl.style.display =\n",
              "        google.colab.kernel.accessAllowed ? 'block' : 'none';\n",
              "    })();\n",
              "  </script>\n",
              "</div>\n",
              "    </div>\n",
              "  </div>\n"
            ]
          },
          "metadata": {},
          "execution_count": 144
        }
      ]
    },
    {
      "source": [
        "from matplotlib import pyplot as plt\n",
        "import seaborn as sns\n",
        "def _plot_series(series, series_name, series_index=0):\n",
        "  from matplotlib import pyplot as plt\n",
        "  import seaborn as sns\n",
        "  palette = list(sns.palettes.mpl_palette('Dark2'))\n",
        "  xs = series['Nodos']\n",
        "  ys = series['Tiempo']\n",
        "\n",
        "  plt.plot(xs, ys, label=series_name, color=palette[series_index % len(palette)])\n",
        "\n",
        "fig, ax = plt.subplots(figsize=(10, 5.2), layout='constrained')\n",
        "df_sorted = tabla.sort_values('Nodos', ascending=True)\n",
        "for i, (series_name, series) in enumerate(df_sorted.groupby('Algoritmo')):\n",
        "  _plot_series(series, series_name, i)\n",
        "  fig.legend(title='Algoritmo', bbox_to_anchor=(1, 1), loc='upper left')\n",
        "sns.despine(fig=fig, ax=ax)\n",
        "plt.xlabel('Nodos')\n",
        "_ = plt.ylabel('Tiempo')"
      ],
      "cell_type": "code",
      "metadata": {
        "colab": {
          "base_uri": "https://localhost:8080/",
          "height": 358
        },
        "id": "kfKT4BzGGjOK",
        "outputId": "9fd2d9b0-4fc5-4a67-90cf-2e6a70705759"
      },
      "execution_count": 145,
      "outputs": [
        {
          "output_type": "display_data",
          "data": {
            "text/plain": [
              "<Figure size 1000x520 with 1 Axes>"
            ],
            "image/png": "[encoded data removed]"
          },
          "metadata": {}
        }
      ]
    },
    {
      "source": [
        "from matplotlib import pyplot as plt\n",
        "import seaborn as sns\n",
        "def _plot_series(series, series_name, series_index=0):\n",
        "  from matplotlib import pyplot as plt\n",
        "  import seaborn as sns\n",
        "  palette = list(sns.palettes.mpl_palette('Dark2'))\n",
        "  xs = series['Nodos']\n",
        "  ys = series['CostoMin']\n",
        "\n",
        "  plt.plot(xs, ys, label=series_name, color=palette[series_index % len(palette)])\n",
        "\n",
        "fig, ax = plt.subplots(figsize=(10, 5.2), layout='constrained')\n",
        "df_sorted = tabla.sort_values('Nodos', ascending=True)\n",
        "for i, (series_name, series) in enumerate(df_sorted.groupby('Algoritmo')):\n",
        "  _plot_series(series, series_name, i)\n",
        "  fig.legend(title='Algoritmo', bbox_to_anchor=(1, 1), loc='upper left')\n",
        "sns.despine(fig=fig, ax=ax)\n",
        "plt.xlabel('Nodos')\n",
        "_ = plt.ylabel('CostoMin')"
      ],
      "cell_type": "code",
      "metadata": {
        "colab": {
          "base_uri": "https://localhost:8080/",
          "height": 358
        },
        "id": "HMnjWCr9F7O7",
        "outputId": "e798b8be-6635-4d82-cbbc-a2219fe78aee"
      },
      "execution_count": 146,
      "outputs": [
        {
          "output_type": "display_data",
          "data": {
            "text/plain": [
              "<Figure size 1000x520 with 1 Axes>"
            ],
            "image/png": "[encoded data removed]"
          },
          "metadata": {}
        }
      ]
    },
    {
      "cell_type": "code",
      "source": [
        "tabla = Comparacion_Algoritmos(5)\n",
        "tabla"
      ],
      "metadata": {
        "colab": {
          "base_uri": "https://localhost:8080/",
          "height": 626
        },
        "id": "9ZC_WaD6y5N-",
        "outputId": "a011e184-4853-4295-be8e-9735be88c7b4"
      },
      "execution_count": 76,
      "outputs": [
        {
          "output_type": "display_data",
          "data": {
            "text/plain": [
              "<Figure size 1500x500 with 3 Axes>"
            ],
            "image/png": "[encoded data removed]"
          },
          "metadata": {}
        },
        {
          "output_type": "execute_result",
          "data": {
            "text/plain": [
              "      Algoritmo      Tiempo  Nodos  CostoMin            Solucion\n",
              "0  Fuerza Bruta    0.005126      3        23        [0, 1, 2, 0]\n",
              "1   LocalSearch    0.024328      3        23        [0, 2, 1, 0]\n",
              "2        Gready    0.000102      3        23        [0, 2, 1, 0]\n",
              "3  Fuerza Bruta    0.741250      4        33     [0, 2, 1, 3, 0]\n",
              "4   LocalSearch    0.005261      4        33     [0, 2, 1, 3, 0]\n",
              "5        Gready    0.000083      4        36     [0, 3, 2, 1, 0]\n",
              "6  Fuerza Bruta  205.686931      5        28  [0, 1, 4, 2, 3, 0]\n",
              "7   LocalSearch    0.005628      5        28  [0, 1, 4, 2, 3, 0]\n",
              "8        Gready    0.000095      5        30  [0, 3, 2, 1, 4, 0]"
            ],
            "text/html": [
              "\n",
              "  <div id=\"df-e6539da9-aa00-44a0-a74c-2c84e3183dd1\" class=\"colab-df-container\">\n",
              "    <div>\n",
              "<style scoped>\n",
              "    .dataframe tbody tr th:only-of-type {\n",
              "        vertical-align: middle;\n",
              "    }\n",
              "\n",
              "    .dataframe tbody tr th {\n",
              "        vertical-align: top;\n",
              "    }\n",
              "\n",
              "    .dataframe thead th {\n",
              "        text-align: right;\n",
              "    }\n",
              "</style>\n",
              "<table border=\"1\" class=\"dataframe\">\n",
              "  <thead>\n",
              "    <tr style=\"text-align: right;\">\n",
              "      <th></th>\n",
              "      <th>Algoritmo</th>\n",
              "      <th>Tiempo</th>\n",
              "      <th>Nodos</th>\n",
              "      <th>CostoMin</th>\n",
              "      <th>Solucion</th>\n",
              "    </tr>\n",
              "  </thead>\n",
              "  <tbody>\n",
              "    <tr>\n",
              "      <th>0</th>\n",
              "      <td>Fuerza Bruta</td>\n",
              "      <td>0.005126</td>\n",
              "      <td>3</td>\n",
              "      <td>23</td>\n",
              "      <td>[0, 1, 2, 0]</td>\n",
              "    </tr>\n",
              "    <tr>\n",
              "      <th>1</th>\n",
              "      <td>LocalSearch</td>\n",
              "      <td>0.024328</td>\n",
              "      <td>3</td>\n",
              "      <td>23</td>\n",
              "      <td>[0, 2, 1, 0]</td>\n",
              "    </tr>\n",
              "    <tr>\n",
              "      <th>2</th>\n",
              "      <td>Gready</td>\n",
              "      <td>0.000102</td>\n",
              "      <td>3</td>\n",
              "      <td>23</td>\n",
              "      <td>[0, 2, 1, 0]</td>\n",
              "    </tr>\n",
              "    <tr>\n",
              "      <th>3</th>\n",
              "      <td>Fuerza Bruta</td>\n",
              "      <td>0.741250</td>\n",
              "      <td>4</td>\n",
              "      <td>33</td>\n",
              "      <td>[0, 2, 1, 3, 0]</td>\n",
              "    </tr>\n",
              "    <tr>\n",
              "      <th>4</th>\n",
              "      <td>LocalSearch</td>\n",
              "      <td>0.005261</td>\n",
              "      <td>4</td>\n",
              "      <td>33</td>\n",
              "      <td>[0, 2, 1, 3, 0]</td>\n",
              "    </tr>\n",
              "    <tr>\n",
              "      <th>5</th>\n",
              "      <td>Gready</td>\n",
              "      <td>0.000083</td>\n",
              "      <td>4</td>\n",
              "      <td>36</td>\n",
              "      <td>[0, 3, 2, 1, 0]</td>\n",
              "    </tr>\n",
              "    <tr>\n",
              "      <th>6</th>\n",
              "      <td>Fuerza Bruta</td>\n",
              "      <td>205.686931</td>\n",
              "      <td>5</td>\n",
              "      <td>28</td>\n",
              "      <td>[0, 1, 4, 2, 3, 0]</td>\n",
              "    </tr>\n",
              "    <tr>\n",
              "      <th>7</th>\n",
              "      <td>LocalSearch</td>\n",
              "      <td>0.005628</td>\n",
              "      <td>5</td>\n",
              "      <td>28</td>\n",
              "      <td>[0, 1, 4, 2, 3, 0]</td>\n",
              "    </tr>\n",
              "    <tr>\n",
              "      <th>8</th>\n",
              "      <td>Gready</td>\n",
              "      <td>0.000095</td>\n",
              "      <td>5</td>\n",
              "      <td>30</td>\n",
              "      <td>[0, 3, 2, 1, 4, 0]</td>\n",
              "    </tr>\n",
              "  </tbody>\n",
              "</table>\n",
              "</div>\n",
              "    <div class=\"colab-df-buttons\">\n",
              "\n",
              "  <div class=\"colab-df-container\">\n",
              "    <button class=\"colab-df-convert\" onclick=\"convertToInteractive('df-e6539da9-aa00-44a0-a74c-2c84e3183dd1')\"\n",
              "            title=\"Convert this dataframe to an interactive table.\"\n",
              "            style=\"display:none;\">\n",
              "\n",
              "  <svg xmlns=\"http://www.w3.org/2000/svg\" height=\"24px\" viewBox=\"0 -960 960 960\">\n",
              "    <path d=\"M120-120v-720h720v720H120Zm60-500h600v-160H180v160Zm220 220h160v-160H400v160Zm0 220h160v-160H400v160ZM180-400h160v-160H180v160Zm440 0h160v-160H620v160ZM180-180h160v-160H180v160Zm440 0h160v-160H620v160Z\"/>\n",
              "  </svg>\n",
              "    </button>\n",
              "\n",
              "  <style>\n",
              "    .colab-df-container {\n",
              "      display:flex;\n",
              "      gap: 12px;\n",
              "    }\n",
              "\n",
              "    .colab-df-convert {\n",
              "      background-color: #E8F0FE;\n",
              "      border: none;\n",
              "      border-radius: 50%;\n",
              "      cursor: pointer;\n",
              "      display: none;\n",
              "      fill: #1967D2;\n",
              "      height: 32px;\n",
              "      padding: 0 0 0 0;\n",
              "      width: 32px;\n",
              "    }\n",
              "\n",
              "    .colab-df-convert:hover {\n",
              "      background-color: #E2EBFA;\n",
              "      box-shadow: 0px 1px 2px rgba(60, 64, 67, 0.3), 0px 1px 3px 1px rgba(60, 64, 67, 0.15);\n",
              "      fill: #174EA6;\n",
              "    }\n",
              "\n",
              "    .colab-df-buttons div {\n",
              "      margin-bottom: 4px;\n",
              "    }\n",
              "\n",
              "    [theme=dark] .colab-df-convert {\n",
              "      background-color: #3B4455;\n",
              "      fill: #D2E3FC;\n",
              "    }\n",
              "\n",
              "    [theme=dark] .colab-df-convert:hover {\n",
              "      background-color: #434B5C;\n",
              "      box-shadow: 0px 1px 3px 1px rgba(0, 0, 0, 0.15);\n",
              "      filter: drop-shadow(0px 1px 2px rgba(0, 0, 0, 0.3));\n",
              "      fill: #FFFFFF;\n",
              "    }\n",
              "  </style>\n",
              "\n",
              "    <script>\n",
              "      const buttonEl =\n",
              "        document.querySelector('#df-e6539da9-aa00-44a0-a74c-2c84e3183dd1 button.colab-df-convert');\n",
              "      buttonEl.style.display =\n",
              "        google.colab.kernel.accessAllowed ? 'block' : 'none';\n",
              "\n",
              "      async function convertToInteractive(key) {\n",
              "        const element = document.querySelector('#df-e6539da9-aa00-44a0-a74c-2c84e3183dd1');\n",
              "        const dataTable =\n",
              "          await google.colab.kernel.invokeFunction('convertToInteractive',\n",
              "                                                    [key], {});\n",
              "        if (!dataTable) return;\n",
              "\n",
              "        const docLinkHtml = 'Like what you see? Visit the ' +\n",
              "          '<a target=\"_blank\" href=https://colab.research.google.com/notebooks/data_table.ipynb>data table notebook</a>'\n",
              "          + ' to learn more about interactive tables.';\n",
              "        element.innerHTML = '';\n",
              "        dataTable['output_type'] = 'display_data';\n",
              "        await google.colab.output.renderOutput(dataTable, element);\n",
              "        const docLink = document.createElement('div');\n",
              "        docLink.innerHTML = docLinkHtml;\n",
              "        element.appendChild(docLink);\n",
              "      }\n",
              "    </script>\n",
              "  </div>\n",
              "\n",
              "\n",
              "<div id=\"df-541a335b-6ae5-41fe-abde-9fd51ec60caf\">\n",
              "  <button class=\"colab-df-quickchart\" onclick=\"quickchart('df-541a335b-6ae5-41fe-abde-9fd51ec60caf')\"\n",
              "            title=\"Suggest charts\"\n",
              "            style=\"display:none;\">\n",
              "\n",
              "<svg xmlns=\"http://www.w3.org/2000/svg\" height=\"24px\"viewBox=\"0 0 24 24\"\n",
              "     width=\"24px\">\n",
              "    <g>\n",
              "        <path d=\"M19 3H5c-1.1 0-2 .9-2 2v14c0 1.1.9 2 2 2h14c1.1 0 2-.9 2-2V5c0-1.1-.9-2-2-2zM9 17H7v-7h2v7zm4 0h-2V7h2v10zm4 0h-2v-4h2v4z\"/>\n",
              "    </g>\n",
              "</svg>\n",
              "  </button>\n",
              "\n",
              "<style>\n",
              "  .colab-df-quickchart {\n",
              "      --bg-color: #E8F0FE;\n",
              "      --fill-color: #1967D2;\n",
              "      --hover-bg-color: #E2EBFA;\n",
              "      --hover-fill-color: #174EA6;\n",
              "      --disabled-fill-color: #AAA;\n",
              "      --disabled-bg-color: #DDD;\n",
              "  }\n",
              "\n",
              "  [theme=dark] .colab-df-quickchart {\n",
              "      --bg-color: #3B4455;\n",
              "      --fill-color: #D2E3FC;\n",
              "      --hover-bg-color: #434B5C;\n",
              "      --hover-fill-color: #FFFFFF;\n",
              "      --disabled-bg-color: #3B4455;\n",
              "      --disabled-fill-color: #666;\n",
              "  }\n",
              "\n",
              "  .colab-df-quickchart {\n",
              "    background-color: var(--bg-color);\n",
              "    border: none;\n",
              "    border-radius: 50%;\n",
              "    cursor: pointer;\n",
              "    display: none;\n",
              "    fill: var(--fill-color);\n",
              "    height: 32px;\n",
              "    padding: 0;\n",
              "    width: 32px;\n",
              "  }\n",
              "\n",
              "  .colab-df-quickchart:hover {\n",
              "    background-color: var(--hover-bg-color);\n",
              "    box-shadow: 0 1px 2px rgba(60, 64, 67, 0.3), 0 1px 3px 1px rgba(60, 64, 67, 0.15);\n",
              "    fill: var(--button-hover-fill-color);\n",
              "  }\n",
              "\n",
              "  .colab-df-quickchart-complete:disabled,\n",
              "  .colab-df-quickchart-complete:disabled:hover {\n",
              "    background-color: var(--disabled-bg-color);\n",
              "    fill: var(--disabled-fill-color);\n",
              "    box-shadow: none;\n",
              "  }\n",
              "\n",
              "  .colab-df-spinner {\n",
              "    border: 2px solid var(--fill-color);\n",
              "    border-color: transparent;\n",
              "    border-bottom-color: var(--fill-color);\n",
              "    animation:\n",
              "      spin 1s steps(1) infinite;\n",
              "  }\n",
              "\n",
              "  @keyframes spin {\n",
              "    0% {\n",
              "      border-color: transparent;\n",
              "      border-bottom-color: var(--fill-color);\n",
              "      border-left-color: var(--fill-color);\n",
              "    }\n",
              "    20% {\n",
              "      border-color: transparent;\n",
              "      border-left-color: var(--fill-color);\n",
              "      border-top-color: var(--fill-color);\n",
              "    }\n",
              "    30% {\n",
              "      border-color: transparent;\n",
              "      border-left-color: var(--fill-color);\n",
              "      border-top-color: var(--fill-color);\n",
              "      border-right-color: var(--fill-color);\n",
              "    }\n",
              "    40% {\n",
              "      border-color: transparent;\n",
              "      border-right-color: var(--fill-color);\n",
              "      border-top-color: var(--fill-color);\n",
              "    }\n",
              "    60% {\n",
              "      border-color: transparent;\n",
              "      border-right-color: var(--fill-color);\n",
              "    }\n",
              "    80% {\n",
              "      border-color: transparent;\n",
              "      border-right-color: var(--fill-color);\n",
              "      border-bottom-color: var(--fill-color);\n",
              "    }\n",
              "    90% {\n",
              "      border-color: transparent;\n",
              "      border-bottom-color: var(--fill-color);\n",
              "    }\n",
              "  }\n",
              "</style>\n",
              "\n",
              "  <script>\n",
              "    async function quickchart(key) {\n",
              "      const quickchartButtonEl =\n",
              "        document.querySelector('#' + key + ' button');\n",
              "      quickchartButtonEl.disabled = true;  // To prevent multiple clicks.\n",
              "      quickchartButtonEl.classList.add('colab-df-spinner');\n",
              "      try {\n",
              "        const charts = await google.colab.kernel.invokeFunction(\n",
              "            'suggestCharts', [key], {});\n",
              "      } catch (error) {\n",
              "        console.error('Error during call to suggestCharts:', error);\n",
              "      }\n",
              "      quickchartButtonEl.classList.remove('colab-df-spinner');\n",
              "      quickchartButtonEl.classList.add('colab-df-quickchart-complete');\n",
              "    }\n",
              "    (() => {\n",
              "      let quickchartButtonEl =\n",
              "        document.querySelector('#df-541a335b-6ae5-41fe-abde-9fd51ec60caf button');\n",
              "      quickchartButtonEl.style.display =\n",
              "        google.colab.kernel.accessAllowed ? 'block' : 'none';\n",
              "    })();\n",
              "  </script>\n",
              "</div>\n",
              "    </div>\n",
              "  </div>\n"
            ]
          },
          "metadata": {},
          "execution_count": 76
        }
      ]
    }
  ]
}