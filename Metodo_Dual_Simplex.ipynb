{
  "nbformat": 4,
  "nbformat_minor": 0,
  "metadata": {
    "colab": {
      "provenance": [],
      "authorship_tag": "ABX9TyNrU8BUL3vKVoYQSQMX1Gd4",
      "include_colab_link": true
    },
    "kernelspec": {
      "name": "python3",
      "display_name": "Python 3"
    },
    "language_info": {
      "name": "python"
    }
  },
  "cells": [
    {
      "cell_type": "markdown",
      "metadata": {
        "id": "view-in-github",
        "colab_type": "text"
      },
      "source": [
        "<a href=\"https://colab.research.google.com/github/Gabuni19/GabUni--Codigos-cpp/blob/main/Metodo_Dual_Simplex.ipynb\" target=\"_parent\"><img src=\"https://colab.research.google.com/assets/colab-badge.svg\" alt=\"Open In Colab\"/></a>"
      ]
    },
    {
      "cell_type": "markdown",
      "source": [
        "#METODO DUAL"
      ],
      "metadata": {
        "id": "ETjpvnffpaF7"
      }
    },
    {
      "cell_type": "code",
      "execution_count": 4,
      "metadata": {
        "colab": {
          "base_uri": "https://localhost:8080/"
        },
        "id": "QFaew1xHpWon",
        "outputId": "5e35ed53-7ca4-479f-f170-e4486271512a"
      },
      "outputs": [
        {
          "output_type": "stream",
          "name": "stdout",
          "text": [
            "Valores óptimos de x y y para maximización: [4.5 3.5]\n",
            "Valor óptimo de Z para maximización: -63.0\n",
            "Valores óptimos de x y y para minimización: [1.5 0.5]\n",
            "Valor óptimo de Z para minimización: -8.5\n"
          ]
        },
        {
          "output_type": "stream",
          "name": "stderr",
          "text": [
            "<ipython-input-4-eb4786b8ec95>:27: DeprecationWarning: `method='simplex'` is deprecated and will be removed in SciPy 1.11.0. Please use one of the HiGHS solvers (e.g. `method='highs'`) in new code.\n",
            "  result = linprog(c, A_ub=A, b_ub=b, method=\"simplex\")\n"
          ]
        }
      ],
      "source": [
        "import numpy as np\n",
        "from scipy.optimize import linprog\n",
        "\n",
        "def simplex_dual(c, A, b):\n",
        "    \"\"\"\n",
        "    Resuelve un problema de programación lineal utilizando el método Simplex Dual,\n",
        "    que puede manejar tanto problemas de maximización como de minimización.\n",
        "\n",
        "    Args:\n",
        "    c (list or numpy array): Coeficientes de la función objetivo.\n",
        "    A (list or numpy array): Coeficientes de las restricciones.\n",
        "    b (list or numpy array): Lados derechos de las restricciones.\n",
        "\n",
        "    Returns:\n",
        "    dict: Un diccionario que contiene los siguientes elementos:\n",
        "        - 'x': Valores óptimos de las variables.\n",
        "        - 'fun': Valor óptimo de la función objetivo.\n",
        "    \"\"\"\n",
        "    # Verificar si es un problema de maximización o minimización\n",
        "    if all(x >= 0 for x in c):\n",
        "        # Problema de minimización, invertir la función objetivo y cambiar el sentido de las desigualdades\n",
        "        c = [-x for x in c]\n",
        "        A = -np.array(A)\n",
        "        b = [-x for x in b]\n",
        "\n",
        "    # Resolviendo el problema de programación lineal\n",
        "    result = linprog(c, A_ub=A, b_ub=b, method=\"simplex\")\n",
        "\n",
        "    # Crear un diccionario con los resultados\n",
        "    optimal_solution = {\n",
        "        'x': result.x,\n",
        "        'fun': result.fun\n",
        "    }\n",
        "\n",
        "    return optimal_solution\n",
        "\n",
        "# Ejemplo de uso para maximización:\n",
        "c_max = [-7, -9]  # Coeficientes de la función objetivo para maximización\n",
        "A_max = [\n",
        "    [-1, 3],\n",
        "    [7, 1]\n",
        "]  # Coeficientes de las restricciones\n",
        "b_max = [6, 35]  # Lados derechos de las restricciones\n",
        "\n",
        "resultado_max = simplex_dual(c_max, A_max, b_max)\n",
        "print(\"Valores óptimos de x y y para maximización:\", resultado_max['x'])\n",
        "print(\"Valor óptimo de Z para maximización:\", resultado_max['fun'])\n",
        "\n",
        "# Ejemplo de uso para minimización:\n",
        "c_min = [3, 8]  # Coeficientes de la función objetivo para minimización\n",
        "A_min = [\n",
        "    [-1, -4],\n",
        "    [-1, -2]\n",
        "]  # Coeficientes de las restricciones\n",
        "b_min = [-3.5, -2.5]  # Lados derechos de las restricciones\n",
        "\n",
        "resultado_min = simplex_dual(c_min, A_min, b_min)\n",
        "print(\"Valores óptimos de x y y para minimización:\", resultado_min['x'])\n",
        "print(\"Valor óptimo de Z para minimización:\", resultado_min['fun'])\n"
      ]
    }
  ]
}